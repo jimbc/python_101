{
 "cells": [
  {
   "cell_type": "markdown",
   "metadata": {},
   "source": [
    "# Programming with Python"
   ]
  },
  {
   "cell_type": "markdown",
   "metadata": {},
   "source": [
    "# 3 An Introduction to Flow Control\n",
    "In programming languages, it is important how and in what order individual statements, instructions or function calls of a program are executed or evaluated. Therefore, a collection of different statements and functions are available to enable a control of your code flow."
   ]
  },
  {
   "cell_type": "markdown",
   "metadata": {
    "collapsed": true
   },
   "source": [
    "## Excursion: Data type <span style=\"color:red\">bool</span> \n",
    "Boolean is data type used for logic operations. The logic values are represented by __True__ and __False__. True generally used to positive or enabled situations. False is generally used negative or disabled situations. For example if we want to express existence of an item we will use boolean value."
   ]
  },
  {
   "cell_type": "code",
   "execution_count": 1,
   "metadata": {
    "scrolled": false
   },
   "outputs": [
    {
     "name": "stdout",
     "output_type": "stream",
     "text": [
      "Does your home exist? --> True\n",
      "Does your car exist? --> False\n"
     ]
    }
   ],
   "source": [
    "# create boolean variables\n",
    "home_exists = True \n",
    "car_exists = False \n",
    "print('Does your home exist? -->', home_exists)\n",
    "print('Does your car exist? -->', car_exists)"
   ]
  },
  {
   "cell_type": "code",
   "execution_count": 2,
   "metadata": {
    "scrolled": false
   },
   "outputs": [
    {
     "name": "stdout",
     "output_type": "stream",
     "text": [
      "home_exists is of type <class 'bool'>\n",
      "car_exists is of type <class 'bool'>\n"
     ]
    }
   ],
   "source": [
    "print('home_exists is of type', type(home_exists))\n",
    "print('car_exists is of type',  type(car_exists))"
   ]
  },
  {
   "cell_type": "code",
   "execution_count": 3,
   "metadata": {
    "scrolled": true
   },
   "outputs": [
    {
     "name": "stdout",
     "output_type": "stream",
     "text": [
      "bool(1) = True\n",
      "bool() = False\n",
      "bool(-1) = True\n",
      "bool(10) = True\n",
      "bool(\"\") = False\n",
      "bool('test') = True\n"
     ]
    }
   ],
   "source": [
    "# typecast boolean\n",
    "print('bool(1) =', bool(1))\n",
    "print('bool() =', bool())\n",
    "print('bool(-1) =', bool(-1))\n",
    "print('bool(10) =', bool(10))\n",
    "print('bool(\"''\") =', bool(''))\n",
    "print(\"bool('test') =\", bool('test'))"
   ]
  },
  {
   "cell_type": "code",
   "execution_count": 4,
   "metadata": {},
   "outputs": [
    {
     "name": "stdout",
     "output_type": "stream",
     "text": [
      "True == True --> True\n",
      "True == False --> False\n"
     ]
    }
   ],
   "source": [
    "# boolean expression\n",
    "print('True == True -->', True == True)\n",
    "print('True == False -->', True == False)"
   ]
  },
  {
   "cell_type": "code",
   "execution_count": 5,
   "metadata": {
    "scrolled": true
   },
   "outputs": [
    {
     "name": "stdout",
     "output_type": "stream",
     "text": [
      "var == True --> True\n"
     ]
    }
   ],
   "source": [
    "var = True\n",
    "print('var == True -->', var == True)"
   ]
  },
  {
   "cell_type": "code",
   "execution_count": 6,
   "metadata": {},
   "outputs": [
    {
     "name": "stdout",
     "output_type": "stream",
     "text": [
      "number == 5 --> True\n",
      "number < 5 --> False\n",
      "number <= 5 --> True\n",
      "number >= 5 --> True\n",
      "number != 5 --> False\n",
      "3 < number < 10 --> True\n"
     ]
    }
   ],
   "source": [
    "# boolean operators\n",
    "number = 5\n",
    "\n",
    "print('number == 5 -->', number == 5)\n",
    "print('number < 5 -->', number < 5)\n",
    "print('number <= 5 -->', number <= 5)\n",
    "print('number >= 5 -->', number >= 5)\n",
    "print('number != 5 -->', number != 5) # expression mark (!) stands for NOT\n",
    "print('3 < number < 10 -->', 3 < number < 10)"
   ]
  },
  {
   "cell_type": "code",
   "execution_count": 7,
   "metadata": {},
   "outputs": [
    {
     "name": "stdout",
     "output_type": "stream",
     "text": [
      "number > 3 and number < 10 --> True\n",
      "number > 3 or number < 10 --> True\n"
     ]
    }
   ],
   "source": [
    "# combining multiple boolean expressions\n",
    "number = 5 \n",
    "print('number > 3 and number < 10 -->', number > 3 and number < 10)\n",
    "print('number > 3 or number < 10 -->', number > 3 or number < 10)"
   ]
  },
  {
   "cell_type": "markdown",
   "metadata": {},
   "source": [
    "## 3.1 <span style=\"color:blue\">if</span> statments\n",
    "\n",
    "if statments are used for **conditional** constructs. They perform different computations or actions depending on whether a programmer-specified boolean condition evaluates to true or false."
   ]
  },
  {
   "cell_type": "code",
   "execution_count": 8,
   "metadata": {},
   "outputs": [
    {
     "name": "stdout",
     "output_type": "stream",
     "text": [
      "Please enter an integer: \n",
      "input() is always a <class 'str'>\n"
     ]
    },
    {
     "ename": "ValueError",
     "evalue": "invalid literal for int() with base 10: ''",
     "output_type": "error",
     "traceback": [
      "\u001b[0;31m---------------------------------------------------------------------------\u001b[0m",
      "\u001b[0;31mValueError\u001b[0m                                Traceback (most recent call last)",
      "\u001b[0;32m<ipython-input-8-3cd89c1e5f20>\u001b[0m in \u001b[0;36m<module>\u001b[0;34m\u001b[0m\n\u001b[1;32m      2\u001b[0m \u001b[0mx\u001b[0m \u001b[0;34m=\u001b[0m \u001b[0minput\u001b[0m\u001b[0;34m(\u001b[0m\u001b[0;34m\"Please enter an integer: \"\u001b[0m\u001b[0;34m)\u001b[0m  \u001b[0;31m# the input() function allows a keyboard input. The input is always(!) read as a string.\u001b[0m\u001b[0;34m\u001b[0m\u001b[0;34m\u001b[0m\u001b[0m\n\u001b[1;32m      3\u001b[0m \u001b[0mprint\u001b[0m\u001b[0;34m(\u001b[0m\u001b[0;34m'input() is always a'\u001b[0m\u001b[0;34m,\u001b[0m\u001b[0mtype\u001b[0m\u001b[0;34m(\u001b[0m\u001b[0mx\u001b[0m\u001b[0;34m)\u001b[0m\u001b[0;34m)\u001b[0m\u001b[0;34m\u001b[0m\u001b[0;34m\u001b[0m\u001b[0m\n\u001b[0;32m----> 4\u001b[0;31m \u001b[0mx\u001b[0m \u001b[0;34m=\u001b[0m \u001b[0mint\u001b[0m\u001b[0;34m(\u001b[0m\u001b[0mx\u001b[0m\u001b[0;34m)\u001b[0m \u001b[0;31m# casts string to a integer\u001b[0m\u001b[0;34m\u001b[0m\u001b[0;34m\u001b[0m\u001b[0m\n\u001b[0m\u001b[1;32m      5\u001b[0m \u001b[0;34m\u001b[0m\u001b[0m\n\u001b[1;32m      6\u001b[0m \u001b[0;31m# the if statement starts a boolean evaluation. If the evaluation is True, the code underneath is executed\u001b[0m\u001b[0;34m\u001b[0m\u001b[0;34m\u001b[0m\u001b[0;34m\u001b[0m\u001b[0m\n",
      "\u001b[0;31mValueError\u001b[0m: invalid literal for int() with base 10: ''"
     ]
    }
   ],
   "source": [
    "# Check if an integer is positive\n",
    "x = input(\"Please enter an integer: \")  # the input() function allows a keyboard input. The input is always(!) read as a string.\n",
    "print('input() is always a',type(x))\n",
    "x = int(x) # casts string to a integer\n",
    "\n",
    "# the if statement starts a boolean evaluation. If the evaluation is True, the code underneath is executed\n",
    "if x > 0: \n",
    "    # code MUST be indented by four space!\n",
    "    print('Integer ist positive')"
   ]
  },
  {
   "cell_type": "code",
   "execution_count": null,
   "metadata": {},
   "outputs": [],
   "source": [
    "# if a condition is NOT met you can use the else statement to execute a different code block\n",
    "x = input(\"Please enter an integer: \")\n",
    "x = int(x)\n",
    "\n",
    "if x > 0:\n",
    "    print('Integer is positive')\n",
    "    \n",
    "# else statement is execute if the if-statement is False\n",
    "else: \n",
    "    print('Integer is NOT positive')"
   ]
  },
  {
   "cell_type": "code",
   "execution_count": 9,
   "metadata": {
    "scrolled": true
   },
   "outputs": [
    {
     "name": "stdout",
     "output_type": "stream",
     "text": [
      "Please enter an integer: \n"
     ]
    },
    {
     "ename": "ValueError",
     "evalue": "invalid literal for int() with base 10: ''",
     "output_type": "error",
     "traceback": [
      "\u001b[0;31m---------------------------------------------------------------------------\u001b[0m",
      "\u001b[0;31mValueError\u001b[0m                                Traceback (most recent call last)",
      "\u001b[0;32m<ipython-input-9-9d84e6e206c0>\u001b[0m in \u001b[0;36m<module>\u001b[0;34m\u001b[0m\n\u001b[1;32m      2\u001b[0m \u001b[0;31m# elif is a abbreviation for \"else if\". The else state is always executed if none of the leading if and elif statements were met.\u001b[0m\u001b[0;34m\u001b[0m\u001b[0;34m\u001b[0m\u001b[0;34m\u001b[0m\u001b[0m\n\u001b[1;32m      3\u001b[0m \u001b[0;34m\u001b[0m\u001b[0m\n\u001b[0;32m----> 4\u001b[0;31m \u001b[0mx\u001b[0m \u001b[0;34m=\u001b[0m \u001b[0mint\u001b[0m\u001b[0;34m(\u001b[0m\u001b[0minput\u001b[0m\u001b[0;34m(\u001b[0m\u001b[0;34m\"Please enter an integer: \"\u001b[0m\u001b[0;34m)\u001b[0m\u001b[0;34m)\u001b[0m\u001b[0;34m\u001b[0m\u001b[0;34m\u001b[0m\u001b[0m\n\u001b[0m\u001b[1;32m      5\u001b[0m \u001b[0;32mif\u001b[0m \u001b[0mx\u001b[0m \u001b[0;34m<\u001b[0m \u001b[0;36m0\u001b[0m\u001b[0;34m:\u001b[0m\u001b[0;34m\u001b[0m\u001b[0;34m\u001b[0m\u001b[0m\n\u001b[1;32m      6\u001b[0m     \u001b[0mprint\u001b[0m\u001b[0;34m(\u001b[0m\u001b[0;34m'Integer is negative'\u001b[0m\u001b[0;34m)\u001b[0m\u001b[0;34m\u001b[0m\u001b[0;34m\u001b[0m\u001b[0m\n",
      "\u001b[0;31mValueError\u001b[0m: invalid literal for int() with base 10: ''"
     ]
    }
   ],
   "source": [
    "# you can create a series of if statement using the elif statement.\n",
    "# elif is a abbreviation for \"else if\". The else state is always executed if none of the leading if and elif statements were met.\n",
    "\n",
    "x = int(input(\"Please enter an integer: \"))\n",
    "if x < 0:\n",
    "    print('Integer is negative')\n",
    "elif x > 0:\n",
    "    print('Integer is positive')\n",
    "else:\n",
    "    print('Integer is zero')"
   ]
  },
  {
   "cell_type": "markdown",
   "metadata": {},
   "source": [
    "Following figure shows how the flow of a code is controlled by using if-elif-else statements."
   ]
  },
  {
   "cell_type": "markdown",
   "metadata": {},
   "source": [
    "![Code flow using if-elif-else](img/lecture03/if-elif-else.png)"
   ]
  },
  {
   "cell_type": "markdown",
   "metadata": {},
   "source": [
    "## 3.2 <span style=\"color:blue\">while</span> statements\n",
    "\n",
    "The while statement is used if a codeblock is repeated in a **loop** until some condition is met."
   ]
  },
  {
   "cell_type": "code",
   "execution_count": 10,
   "metadata": {
    "scrolled": true
   },
   "outputs": [
    {
     "name": "stdout",
     "output_type": "stream",
     "text": [
      "[1, 2, 3, 4, 5, 6, 7, 8]\n",
      "[1, 4, 9, 16, 25, 36, 49, 64]\n"
     ]
    }
   ],
   "source": [
    "strings   = ['1', '2', '3', '4', '5', '6', '7', '8']\n",
    "numbers   = []\n",
    "squares   = []\n",
    "\n",
    "i= 0\n",
    "while i < len(strings):\n",
    "    s = strings[i]\n",
    "    n = int(s)\n",
    "    numbers.append(n)\n",
    "    squares.append(n**2)\n",
    "    i = i+1\n",
    "\n",
    "print(numbers)\n",
    "print(squares)"
   ]
  },
  {
   "cell_type": "code",
   "execution_count": 11,
   "metadata": {
    "scrolled": false
   },
   "outputs": [
    {
     "name": "stdout",
     "output_type": "stream",
     "text": [
      "0 Mary\n",
      "1 had\n",
      "2 a\n",
      "3 little\n",
      "4 lamb\n"
     ]
    }
   ],
   "source": [
    "words = ['Mary', 'had', 'a', 'little', 'lamb']\n",
    "i = 0\n",
    "while i < len(words):\n",
    "    w = words[i]\n",
    "    print(i, w)\n",
    "    i = i + 1"
   ]
  },
  {
   "cell_type": "markdown",
   "metadata": {},
   "source": [
    "## 3.3 <span style=\"color:blue\">for</span> statements\n",
    "The for statement is used for **iterations**. In this case, Python differs a bit from C or Pascal where you always iterate over an arithmetic progression of numbers (like in Pascal), or giving the user the ability to define both the iteration step and halting condition (as C).\n",
    "Python’s for statement iterates over the items of **any sequence** (a list or a string), in the order that they appear in the sequence. For example:"
   ]
  },
  {
   "cell_type": "code",
   "execution_count": 12,
   "metadata": {},
   "outputs": [
    {
     "name": "stdout",
     "output_type": "stream",
     "text": [
      "[1, 2, 3, 4, 5, 6, 7, 8]\n",
      "[1, 4, 9, 16, 25, 36, 49, 64]\n"
     ]
    }
   ],
   "source": [
    "strings   = ['1', '2', '3', '4', '5', '6', '7', '8']\n",
    "numbers   = []\n",
    "squares   = []\n",
    "\n",
    "for s in strings:\n",
    "    n = int(s)\n",
    "    numbers.append(n)\n",
    "    squares.append(n**2)\n",
    "    \n",
    "print(numbers)\n",
    "print(squares)"
   ]
  },
  {
   "cell_type": "markdown",
   "metadata": {},
   "source": [
    "## 3.4 <span style=\"color:blue\">range()</span> function\n",
    "If you do need to iterate over a **sequence** of numbers, the built-in function range() is used. It generates arithmetic progressions"
   ]
  },
  {
   "cell_type": "code",
   "execution_count": 13,
   "metadata": {},
   "outputs": [
    {
     "name": "stdout",
     "output_type": "stream",
     "text": [
      "5\n",
      "6\n",
      "7\n",
      "8\n",
      "9\n"
     ]
    }
   ],
   "source": [
    "# you can define a custom range it iterates\n",
    "for i in range(5, 10):\n",
    "    print(i)"
   ]
  },
  {
   "cell_type": "code",
   "execution_count": 14,
   "metadata": {},
   "outputs": [
    {
     "name": "stdout",
     "output_type": "stream",
     "text": [
      "0\n",
      "3\n",
      "6\n",
      "9\n"
     ]
    }
   ],
   "source": [
    "# the default step size is 1, but it can also be defined\n",
    "for i in range(0, 10, 3): # here, the step size is three\n",
    "    print(i)"
   ]
  },
  {
   "cell_type": "code",
   "execution_count": 15,
   "metadata": {},
   "outputs": [
    {
     "name": "stdout",
     "output_type": "stream",
     "text": [
      "[1, 2, 3, 4, 5, 6, 7, 8]\n",
      "[1, 4, 9, 16, 25, 36, 49, 64]\n"
     ]
    }
   ],
   "source": [
    "strings   = ['1', '2', '3', '4', '5', '6', '7', '8']\n",
    "numbers   = []\n",
    "squares   = []\n",
    "\n",
    "\n",
    "for i in range(len(strings)):\n",
    "    s = strings[i]\n",
    "    n = int(s)\n",
    "    numbers.append(n)\n",
    "    squares.append(n**2)\n",
    "\n",
    "print(numbers)\n",
    "print(squares)"
   ]
  },
  {
   "cell_type": "code",
   "execution_count": 16,
   "metadata": {},
   "outputs": [
    {
     "name": "stdout",
     "output_type": "stream",
     "text": [
      "0 Mary\n",
      "1 had\n",
      "2 a\n",
      "3 little\n",
      "4 lamb\n"
     ]
    }
   ],
   "source": [
    "# to iterate string literals over the indices of a sequence, you can combine range() and len() as follows:\n",
    "array = ['Mary', 'had', 'a', 'little', 'lamb']\n",
    "for i in range(len(array)):\n",
    "    print(i, array[i])"
   ]
  },
  {
   "cell_type": "markdown",
   "metadata": {},
   "source": [
    "## 3.5 <span style=\"color:blue\">break</span>, <span style=\"color:blue\">continue</span> and <span style=\"color:blue\">pass</span>"
   ]
  },
  {
   "cell_type": "markdown",
   "metadata": {},
   "source": [
    "**break** terminates a for or while loop:"
   ]
  },
  {
   "cell_type": "code",
   "execution_count": 17,
   "metadata": {},
   "outputs": [
    {
     "name": "stdout",
     "output_type": "stream",
     "text": [
      "1 OK Doing something useful\n",
      "2 OK Doing something useful\n",
      "3 OK Doing something useful\n",
      "4 ERROR\n"
     ]
    }
   ],
   "source": [
    "array = ['OK', 'OK', 'OK', 'ERROR', 'OK', 'OK' ]\n",
    "i = 0\n",
    "for s in array:\n",
    "    i = i + 1\n",
    "    if s == 'OK':\n",
    "        print(i, 'OK ', end='')\n",
    "    elif s == 'ERROR':\n",
    "        print(i, 'ERROR')\n",
    "        break\n",
    "    print('Doing something useful')    "
   ]
  },
  {
   "cell_type": "markdown",
   "metadata": {},
   "source": [
    "**continue** only stops the current iteration and continues with the next iteration of the same loop:"
   ]
  },
  {
   "cell_type": "code",
   "execution_count": 18,
   "metadata": {},
   "outputs": [
    {
     "name": "stdout",
     "output_type": "stream",
     "text": [
      "1 OK Doing something useful\n",
      "2 OK Doing something useful\n",
      "3 OK Doing something useful\n",
      "4 ERROR\n",
      "5 OK Doing something useful\n",
      "6 OK Doing something useful\n"
     ]
    }
   ],
   "source": [
    "array = ['OK', 'OK', 'OK', 'ERROR', 'OK', 'OK' ]\n",
    "i = 0\n",
    "for s in array:\n",
    "    i = i + 1\n",
    "    if s == 'OK':\n",
    "        print(i, 'OK ', end='')\n",
    "    elif s == 'ERROR':\n",
    "        print(i, 'ERROR')\n",
    "        continue\n",
    "    print('Doing something useful')    "
   ]
  },
  {
   "cell_type": "markdown",
   "metadata": {},
   "source": [
    "The **pass** statement does nothing. It can be used when another statement requires syntactically some code but the program requires no action. For example:"
   ]
  },
  {
   "cell_type": "code",
   "execution_count": 19,
   "metadata": {},
   "outputs": [
    {
     "name": "stdout",
     "output_type": "stream",
     "text": [
      "1 OK Doing something useful\n",
      "2 OK Doing something useful\n",
      "3 OK Doing something useful\n",
      "4 ERROR\n",
      "Doing something useful\n",
      "5 OK Doing something useful\n",
      "6 OK Doing something useful\n"
     ]
    }
   ],
   "source": [
    "array = ['OK', 'OK', 'OK', 'ERROR', 'OK', 'OK' ]\n",
    "i = 0\n",
    "for s in array:\n",
    "    i = i + 1\n",
    "    if s == 'OK':\n",
    "        print(i, 'OK ', end='')\n",
    "    elif s == 'ERROR':\n",
    "        print(i, 'ERROR')\n",
    "        pass\n",
    "    print('Doing something useful')    "
   ]
  },
  {
   "cell_type": "markdown",
   "metadata": {},
   "source": [
    "## 3.6 List comprehension\n",
    "One of python's more exclusive features are *list comprehensions*. A list comprehension is a short-hand notation for the generation of a new list by transforming an existing list element-wise. Using a *list comprehension*, we just start out with a an empty list literal<br />\n",
    "`numbers = []`<br />\n",
    "Then, we define how an element of the new list is constructed:<br />\n",
    "`int(s) for s in strings`<br />\n",
    "Note, that when constructin list comprehensions, it is perfectly legal to put the iteration body **in front of the normal iterator statement**. Also note, that in this case **the trailing colon (:) has to be ommitted**.<br />\n",
    "Finally, we put this modified iterator statement (i.e. body in front, no trailing :) **into** the empty list literal:"
   ]
  },
  {
   "cell_type": "code",
   "execution_count": 20,
   "metadata": {},
   "outputs": [
    {
     "name": "stdout",
     "output_type": "stream",
     "text": [
      "List of strings: ['1', '2', '3', '4', '5', '6', '7', '8']\n",
      "List of numbers [1, 2, 3, 4, 5, 6, 7, 8]\n"
     ]
    }
   ],
   "source": [
    "# converting a list of strings to integers\n",
    "# classical approach\n",
    "strings   = ['1', '2', '3', '4', '5', '6', '7', '8']\n",
    "print('List of strings:' ,strings)\n",
    "\n",
    "numbers = []\n",
    "for s in strings:\n",
    "    number = int(s)\n",
    "    numbers.append(number)\n",
    "    \n",
    "print('List of numbers', numbers)"
   ]
  },
  {
   "cell_type": "code",
   "execution_count": 21,
   "metadata": {
    "scrolled": false
   },
   "outputs": [
    {
     "name": "stdout",
     "output_type": "stream",
     "text": [
      "List of strings: ['1', '2', '3', '4', '5', '6', '7', '8']\n",
      "List of numbers: [1, 2, 3, 4, 5, 6, 7, 8]\n",
      "List of squares: [1, 4, 9, 16, 25, 36, 49, 64]\n"
     ]
    }
   ],
   "source": [
    "# converting a list of strings to integers\n",
    "# list comprehension\n",
    "strings   = ['1', '2', '3', '4', '5', '6', '7', '8']\n",
    "print('List of strings:' ,strings)\n",
    "\n",
    "numbers = [ int(s) for s in strings ]\n",
    "squares = [ int(s)**2 for s in strings ]\n",
    "\n",
    "print('List of numbers:', numbers)\n",
    "print('List of squares:', squares)"
   ]
  },
  {
   "cell_type": "code",
   "execution_count": 22,
   "metadata": {},
   "outputs": [
    {
     "name": "stdout",
     "output_type": "stream",
     "text": [
      "1 OK\n",
      "2 OK\n",
      "3 OK\n",
      "5 OK\n"
     ]
    }
   ],
   "source": [
    "array = ['OK', 'OK', 'OK', 'ERROR', 'OK' ]\n",
    "i = 0\n",
    "for s in array:\n",
    "    i = i + 1\n",
    "    if s == 'OK':\n",
    "        print(i, 'OK')\n",
    "    elif s == 'ERROR':\n",
    "        pass"
   ]
  }
 ],
 "metadata": {
  "kernelspec": {
   "display_name": "Python 3",
   "language": "python",
   "name": "python3"
  },
  "language_info": {
   "codemirror_mode": {
    "name": "ipython",
    "version": 3
   },
   "file_extension": ".py",
   "mimetype": "text/x-python",
   "name": "python",
   "nbconvert_exporter": "python",
   "pygments_lexer": "ipython3",
   "version": "3.7.3"
  }
 },
 "nbformat": 4,
 "nbformat_minor": 2
}
