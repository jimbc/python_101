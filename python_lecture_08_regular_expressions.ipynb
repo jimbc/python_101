{
 "cells": [
  {
   "cell_type": "markdown",
   "metadata": {},
   "source": [
    "# Programming with Python"
   ]
  },
  {
   "cell_type": "markdown",
   "metadata": {},
   "source": [
    "# 8 Regular Expressions"
   ]
  },
  {
   "cell_type": "markdown",
   "metadata": {},
   "source": [
    "A **regular expression** (also called **regex, re** or **regexp**) is a sequence of characters that define a **search pattern**. Usually this pattern is used by string searching algorithms for \"find\" or \"find and replace\" operations on strings, or for input validation. It is a technique that developed in theoretical computer science and formal language theory. <br>\n",
    "Regular expressions in python is an extra module that needs to be imported using following syntax:"
   ]
  },
  {
   "cell_type": "code",
   "execution_count": 3,
   "metadata": {},
   "outputs": [],
   "source": [
    "# import regular expressions module\n",
    "import re"
   ]
  },
  {
   "cell_type": "markdown",
   "metadata": {},
   "source": [
    "**find a match**"
   ]
  },
  {
   "cell_type": "markdown",
   "metadata": {},
   "source": [
    "To find a match using regular expressions, you call the search method of the re module **re.search(rgx, string)**. <br>\n",
    "The search method need two mandatory argument: a regular expression **rgx** as string literal and a **string** that is matched against the rgx.\n",
    "The search method return a corresponding Match Object (instance). <br>\n",
    "\n",
    "Example: Find a **single digit**"
   ]
  },
  {
   "cell_type": "code",
   "execution_count": 4,
   "metadata": {},
   "outputs": [
    {
     "data": {
      "text/plain": [
       "<re.Match object; span=(20, 21), match='1'>"
      ]
     },
     "execution_count": 4,
     "metadata": {},
     "output_type": "execute_result"
    }
   ],
   "source": [
    "string = 'Prüfgeschwindigkeit\\t1\\tmm/s'\n",
    "m = re.search('\\d',string)\n",
    "m"
   ]
  },
  {
   "cell_type": "markdown",
   "metadata": {},
   "source": [
    "**list element 0** always return the matched object:"
   ]
  },
  {
   "cell_type": "code",
   "execution_count": 6,
   "metadata": {
    "scrolled": false
   },
   "outputs": [
    {
     "data": {
      "text/plain": [
       "'1'"
      ]
     },
     "execution_count": 6,
     "metadata": {},
     "output_type": "execute_result"
    }
   ],
   "source": [
    "m[0]"
   ]
  },
  {
   "cell_type": "markdown",
   "metadata": {},
   "source": [
    "**search and replace** <br>\n",
    "The sub(rgx, repl, string)-method matches a **rgx** argument in a **string** and replace this rgx by **repl**"
   ]
  },
  {
   "cell_type": "code",
   "execution_count": 8,
   "metadata": {},
   "outputs": [
    {
     "data": {
      "text/plain": [
       "'Prüfgeschwindigkeit\\t2\\tmm/s'"
      ]
     },
     "execution_count": 8,
     "metadata": {},
     "output_type": "execute_result"
    }
   ],
   "source": [
    "# replace digit by 2\n",
    "string = 'Prüfgeschwindigkeit\\t1\\tmm/s'\n",
    "new_string = re.sub('\\d', '2',string)\n",
    "new_string"
   ]
  },
  {
   "cell_type": "markdown",
   "metadata": {},
   "source": [
    "**collections** <br>\n",
    "Using **[]** allows to define a collection of expressions that are combined by a logical or. <br>\n",
    "for example: [ae] means a or e is True"
   ]
  },
  {
   "cell_type": "code",
   "execution_count": 14,
   "metadata": {
    "scrolled": true
   },
   "outputs": [
    {
     "name": "stdout",
     "output_type": "stream",
     "text": [
      "True\n",
      "True\n",
      "True\n",
      "True\n"
     ]
    }
   ],
   "source": [
    "rgx = 'M[ae][iy]er'\n",
    "\n",
    "print(bool(re.search(rgx, 'Maier')))\n",
    "print(bool(re.search(rgx, 'Mayer')))\n",
    "print(bool(re.search(rgx, 'Meier')))\n",
    "print(bool(re.search(rgx, 'Meyer')))"
   ]
  },
  {
   "cell_type": "markdown",
   "metadata": {},
   "source": [
    "**optional chars**  \n",
    "Use ? to make the predeceding char optional:"
   ]
  },
  {
   "cell_type": "code",
   "execution_count": 5,
   "metadata": {
    "scrolled": true
   },
   "outputs": [
    {
     "name": "stdout",
     "output_type": "stream",
     "text": [
      "True\n",
      "True\n"
     ]
    }
   ],
   "source": [
    "rgx = 'M[ae][iy]e?r'\n",
    "print(bool(re.search(rgx, 'Mayr')))\n",
    "print(bool(re.search(rgx, 'Mair')))"
   ]
  },
  {
   "cell_type": "markdown",
   "metadata": {},
   "source": [
    "? can also be used with collections:"
   ]
  },
  {
   "cell_type": "code",
   "execution_count": 7,
   "metadata": {},
   "outputs": [
    {
     "name": "stdout",
     "output_type": "stream",
     "text": [
      "True\n",
      "True\n",
      "True\n"
     ]
    }
   ],
   "source": [
    "rgx = '9[,.]?0'\n",
    "print(bool(re.search(rgx, '9.0')))\n",
    "print(bool(re.search(rgx, '9,0')))\n",
    "print(bool(re.search(rgx, '90')))"
   ]
  },
  {
   "cell_type": "markdown",
   "metadata": {},
   "source": [
    "**Some predefined collections in regular expressions**:\n",
    "<br>\n",
    "<br> **\\d** digits [0-9]\n",
    "<br> **\\D** non-digits [^0-9]\n",
    "<br>\n",
    "<br> **\\s** whitespace [\\t\\n\\r\\f\\v]\n",
    "<br> **\\S** non-whitespace [^\\t\\n\\r\\f\\v]\n",
    "<br>\n",
    "<br> **\\w** words char [a-zA-Z0-9_]\n",
    "<br> **\\W** non-words char [^a-zA-Z0-9_]"
   ]
  },
  {
   "cell_type": "markdown",
   "metadata": {},
   "source": [
    "**Quantifiers**\n",
    "You can define how many matched objects you can expect.\n",
    "<br>\n",
    "<br> **\\d*** 0+ digits\n",
    "<br> **\\d+** 1+ digits\n",
    "<br>\n",
    "<br> **\\d{1,3}** 1-3 digits\n",
    "<br> **\\d{1,}** 1+ digits (same as \\d+)\n",
    "<br> **\\d{0,}** 0+ digits (same as \\d*)"
   ]
  },
  {
   "cell_type": "markdown",
   "metadata": {},
   "source": [
    "**get values from matched objects**"
   ]
  },
  {
   "cell_type": "markdown",
   "metadata": {},
   "source": [
    "By using round brackets in the regex, the enclosed values can be accessed by index."
   ]
  },
  {
   "cell_type": "code",
   "execution_count": 10,
   "metadata": {},
   "outputs": [
    {
     "data": {
      "text/plain": [
       "<_sre.SRE_Match object; span=(0, 26), match='Prüfgeschwindigkeit\\t1\\tmm/s'>"
      ]
     },
     "execution_count": 10,
     "metadata": {},
     "output_type": "execute_result"
    }
   ],
   "source": [
    "string = 'Prüfgeschwindigkeit\\t1\\tmm/s'\n",
    "m = re.search('(\\w+)\\s+(\\d+)\\s+(\\S+)', string)\n",
    "m"
   ]
  },
  {
   "cell_type": "code",
   "execution_count": 12,
   "metadata": {
    "scrolled": false
   },
   "outputs": [
    {
     "name": "stdout",
     "output_type": "stream",
     "text": [
      "m[0]=  'Prüfgeschwindigkeit\\t1\\tmm/s'\n",
      "m[1]=  Prüfgeschwindigkeit\n",
      "m[2]=  1\n",
      "m[3]=  mm/s\n"
     ]
    }
   ],
   "source": [
    "print('m[0]= ', repr(m[0])) # return the complete match object\n",
    "print('m[1]= ', m[1]) # returns the first object enclosed by round brackets\n",
    "print('m[2]= ', m[2]) # returns the second object enclosed by round brackets\n",
    "print('m[3]= ', m[3]) # returns the third object enclosed by round brackets"
   ]
  },
  {
   "cell_type": "markdown",
   "metadata": {},
   "source": [
    "### Further reading:\n",
    "for further reference check: https://docs.python.org/2/library/re.html"
   ]
  }
 ],
 "metadata": {
  "kernelspec": {
   "display_name": "Python 3",
   "language": "python",
   "name": "python3"
  },
  "language_info": {
   "codemirror_mode": {
    "name": "ipython",
    "version": 3
   },
   "file_extension": ".py",
   "mimetype": "text/x-python",
   "name": "python",
   "nbconvert_exporter": "python",
   "pygments_lexer": "ipython3",
   "version": "3.6.4"
  }
 },
 "nbformat": 4,
 "nbformat_minor": 2
}
