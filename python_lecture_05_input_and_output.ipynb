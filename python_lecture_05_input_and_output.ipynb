{
 "cells": [
  {
   "cell_type": "markdown",
   "metadata": {},
   "source": [
    "# Programming with Python"
   ]
  },
  {
   "cell_type": "markdown",
   "metadata": {},
   "source": [
    "# 5 Data input and Processing\n",
    "There are several ways to present the output of a program; data can be printed in a human-readable form, or written to a file for future use. This chapter will discuss some of the possibilities.\n"
   ]
  },
  {
   "cell_type": "markdown",
   "metadata": {},
   "source": [
    "## 5.1 Keyboard input\n"
   ]
  },
  {
   "cell_type": "markdown",
   "metadata": {},
   "source": [
    "In order to read from the keyboard, use the function **input()**"
   ]
  },
  {
   "cell_type": "code",
   "execution_count": 1,
   "metadata": {},
   "outputs": [
    {
     "name": "stdout",
     "output_type": "stream",
     "text": [
      "12\n"
     ]
    },
    {
     "data": {
      "text/plain": [
       "'12'"
      ]
     },
     "execution_count": 1,
     "metadata": {},
     "output_type": "execute_result"
    }
   ],
   "source": [
    "input()"
   ]
  },
  {
   "cell_type": "code",
   "execution_count": 2,
   "metadata": {},
   "outputs": [
    {
     "name": "stdout",
     "output_type": "stream",
     "text": [
      "56\n",
      "You entered 56\n",
      "56 is of type <class 'str'>\n"
     ]
    }
   ],
   "source": [
    "# assign keyboard input to a variable\n",
    "a = input()\n",
    "print('You entered',a)\n",
    "print(a,'is of type',type(a))"
   ]
  },
  {
   "cell_type": "markdown",
   "metadata": {},
   "source": [
    "All keyboard entries are of type **string**! Typecast if necessary!"
   ]
  },
  {
   "cell_type": "markdown",
   "metadata": {},
   "source": [
    "## 5.2 Reading a file from the computer"
   ]
  },
  {
   "cell_type": "code",
   "execution_count": 3,
   "metadata": {},
   "outputs": [
    {
     "name": "stdout",
     "output_type": "stream",
     "text": [
      "<_io.TextIOWrapper name='./img/lecture05/measurement_data.txt' mode='r' encoding='UTF-8'>\n"
     ]
    }
   ],
   "source": [
    "file = open('./img/lecture05/measurement_data.txt')\n",
    "print(file)"
   ]
  },
  {
   "cell_type": "code",
   "execution_count": 4,
   "metadata": {
    "scrolled": true
   },
   "outputs": [
    {
     "name": "stdout",
     "output_type": "stream",
     "text": [
      "0.1\t1\t11\n",
      "0.2\t2\t19\n",
      "0.3\t3\t41\n",
      "0.4\t4\t76\n",
      "0.5\t5\t55\n",
      "0.6\t6\t43\n",
      "0.7\t7\t70\n",
      "0.8\t8\t81\n",
      "0.9\t9\t65\n"
     ]
    }
   ],
   "source": [
    "data = file.read()\n",
    "print(data)"
   ]
  },
  {
   "cell_type": "code",
   "execution_count": 5,
   "metadata": {
    "scrolled": true
   },
   "outputs": [
    {
     "data": {
      "text/plain": [
       "''"
      ]
     },
     "execution_count": 5,
     "metadata": {},
     "output_type": "execute_result"
    }
   ],
   "source": [
    "data = file.read()\n",
    "data"
   ]
  },
  {
   "cell_type": "markdown",
   "metadata": {},
   "source": [
    "This phenomenon is still a relict of tape technologies. If a tape was read in, the tape was not rewinded to the beginning after each read-in. Until today, all programming languages are still tape technology compliant. Therefore, in each programming language exist some kind of a rewind functionality."
   ]
  },
  {
   "cell_type": "code",
   "execution_count": 6,
   "metadata": {
    "scrolled": true
   },
   "outputs": [
    {
     "name": "stdout",
     "output_type": "stream",
     "text": [
      "0.1\t1\t11\n",
      "0.2\t2\t19\n",
      "0.3\t3\t41\n",
      "0.4\t4\t76\n",
      "0.5\t5\t55\n",
      "0.6\t6\t43\n",
      "0.7\t7\t70\n",
      "0.8\t8\t81\n",
      "0.9\t9\t65\n"
     ]
    }
   ],
   "source": [
    "file.seek(0) # rewind file pointer to beginning\n",
    "data = file.read()\n",
    "print(data)"
   ]
  },
  {
   "cell_type": "markdown",
   "metadata": {},
   "source": [
    "Today, you will just **reopen** the file:"
   ]
  },
  {
   "cell_type": "code",
   "execution_count": 7,
   "metadata": {},
   "outputs": [
    {
     "name": "stdout",
     "output_type": "stream",
     "text": [
      "0.1\t1\t11\n",
      "0.2\t2\t19\n",
      "0.3\t3\t41\n",
      "0.4\t4\t76\n",
      "0.5\t5\t55\n",
      "0.6\t6\t43\n",
      "0.7\t7\t70\n",
      "0.8\t8\t81\n",
      "0.9\t9\t65\n"
     ]
    }
   ],
   "source": [
    "file = open('./img/lecture05/measurement_data.txt')\n",
    "data = file.read()\n",
    "file.close()\n",
    "print(data)"
   ]
  },
  {
   "cell_type": "markdown",
   "metadata": {},
   "source": [
    "All data files read by the computer is handled as **single** string"
   ]
  },
  {
   "cell_type": "code",
   "execution_count": 8,
   "metadata": {
    "scrolled": true
   },
   "outputs": [
    {
     "name": "stdout",
     "output_type": "stream",
     "text": [
      "data is of type <class 'str'>\n",
      "the length of data is 80\n"
     ]
    },
    {
     "data": {
      "text/plain": [
       "'0.1\\t1\\t11\\n0.2\\t2\\t19\\n0.3\\t3\\t41\\n0.4\\t4\\t76\\n0.5\\t5\\t55\\n0.6\\t6\\t43\\n0.7\\t7\\t70\\n0.8\\t8\\t81\\n0.9\\t9\\t65'"
      ]
     },
     "execution_count": 8,
     "metadata": {},
     "output_type": "execute_result"
    }
   ],
   "source": [
    "print('data is of type', type(data))\n",
    "print('the length of data is', len(data))\n",
    "data"
   ]
  },
  {
   "cell_type": "markdown",
   "metadata": {},
   "source": [
    "**print()** is a function that displays the data in a more human readable way. The computer reads everything in as a single line and add control characters to seperate values, lines, etc.  \n",
    "**\\t** is tab.  \n",
    "**\\n** is a new line.  \n",
    "**\\r** stands for carriage return. This is a relict of typewriters. To start a new line, you also needed to return the carriage to the beginning.  \n",
    "Today you will still find files with **\\r\\n** from Windows operating system. Most other operating system omitted the return control charactar.   \n",
    "Python understands and works with **both**!"
   ]
  },
  {
   "cell_type": "markdown",
   "metadata": {
    "collapsed": true,
    "scrolled": true
   },
   "source": [
    "**Split the data**  \n",
    "In order to process the data, it is necessary to make all values accessible. A single line is hard to handle. Therefore, the data needs to be splitted."
   ]
  },
  {
   "cell_type": "code",
   "execution_count": 9,
   "metadata": {},
   "outputs": [
    {
     "name": "stdout",
     "output_type": "stream",
     "text": [
      "['0.1', '1', '11', '0.2', '2', '19', '0.3', '3', '41', '0.4', '4', '76', '0.5', '5', '55', '0.6', '6', '43', '0.7', '7', '70', '0.8', '8', '81', '0.9', '9', '65']\n"
     ]
    }
   ],
   "source": [
    "splitted_data = data.split()\n",
    "print(splitted_data)"
   ]
  },
  {
   "cell_type": "markdown",
   "metadata": {},
   "source": [
    "The split method is able to split strings into a list of values. By **default**, it splits at so-called **white spaces**. White space are spaces and control charactors such as tab, newline, return, etc.   \n",
    "The problem with the default argument is that all information about line breaks are lost.  \n",
    "Therefore, we will pass the control character for a new line \\n as splitting character:"
   ]
  },
  {
   "cell_type": "code",
   "execution_count": 10,
   "metadata": {},
   "outputs": [
    {
     "name": "stdout",
     "output_type": "stream",
     "text": [
      "['0.1\\t1\\t11', '0.2\\t2\\t19', '0.3\\t3\\t41', '0.4\\t4\\t76', '0.5\\t5\\t55', '0.6\\t6\\t43', '0.7\\t7\\t70', '0.8\\t8\\t81', '0.9\\t9\\t65']\n"
     ]
    }
   ],
   "source": [
    "data2 = data.split(\"\\n\")\n",
    "print(data2)"
   ]
  },
  {
   "cell_type": "code",
   "execution_count": 11,
   "metadata": {
    "scrolled": true
   },
   "outputs": [
    {
     "data": {
      "text/plain": [
       "['0.1\\t1\\t11\\n',\n",
       " '0.2\\t2\\t19\\n',\n",
       " '0.3\\t3\\t41\\n',\n",
       " '0.4\\t4\\t76\\n',\n",
       " '0.5\\t5\\t55\\n',\n",
       " '0.6\\t6\\t43\\n',\n",
       " '0.7\\t7\\t70\\n',\n",
       " '0.8\\t8\\t81\\n',\n",
       " '0.9\\t9\\t65']"
      ]
     },
     "execution_count": 11,
     "metadata": {},
     "output_type": "execute_result"
    }
   ],
   "source": [
    "# There is also a abbrevated method into python\n",
    "file = open('./img/lecture05/measurement_data.txt')\n",
    "data = file.readlines()\n",
    "file.close()\n",
    "data"
   ]
  },
  {
   "cell_type": "markdown",
   "metadata": {},
   "source": [
    "Now, all lines are splitted as into list elements.  \n",
    "Next we need to split the white spaces in all list elements and create a two dimensional array."
   ]
  },
  {
   "cell_type": "code",
   "execution_count": 12,
   "metadata": {},
   "outputs": [
    {
     "data": {
      "text/plain": [
       "[['0.1', '1', '11'],\n",
       " ['0.2', '2', '19'],\n",
       " ['0.3', '3', '41'],\n",
       " ['0.4', '4', '76'],\n",
       " ['0.5', '5', '55'],\n",
       " ['0.6', '6', '43'],\n",
       " ['0.7', '7', '70'],\n",
       " ['0.8', '8', '81'],\n",
       " ['0.9', '9', '65']]"
      ]
     },
     "execution_count": 12,
     "metadata": {},
     "output_type": "execute_result"
    }
   ],
   "source": [
    "# split white spaces in string elements\n",
    "data3 = []\n",
    "for string in data: # s stands for string. It helps the programmer to see with what kind of variable type she or he is working with.\n",
    "    dummy = string.split()\n",
    "    data3.append(dummy)\n",
    "data3"
   ]
  },
  {
   "cell_type": "markdown",
   "metadata": {},
   "source": [
    "Now all values need to be converted to numbers in order to process them."
   ]
  },
  {
   "cell_type": "code",
   "execution_count": 13,
   "metadata": {},
   "outputs": [
    {
     "data": {
      "text/plain": [
       "[[0.1, 1.0, 11.0],\n",
       " [0.2, 2.0, 19.0],\n",
       " [0.3, 3.0, 41.0],\n",
       " [0.4, 4.0, 76.0],\n",
       " [0.5, 5.0, 55.0],\n",
       " [0.6, 6.0, 43.0],\n",
       " [0.7, 7.0, 70.0],\n",
       " [0.8, 8.0, 81.0],\n",
       " [0.9, 9.0, 65.0]]"
      ]
     },
     "execution_count": 13,
     "metadata": {},
     "output_type": "execute_result"
    }
   ],
   "source": [
    "# typecast all strings to float\n",
    "data4 = []\n",
    "for line in data3:\n",
    "    dummy = []\n",
    "    for string in line:\n",
    "        number = float(string)\n",
    "        dummy.append(number)\n",
    "    data4.append(dummy)\n",
    "data4"
   ]
  },
  {
   "cell_type": "code",
   "execution_count": 14,
   "metadata": {},
   "outputs": [],
   "source": [
    "# combining split and typecasting\n",
    "data5 = []\n",
    "for line in data:\n",
    "    dummy = line.split(\"\\t\")\n",
    "    temp_list = []\n",
    "    for s in dummy:\n",
    "        temp_list.append(float(s))\n",
    "    data5.append(temp_list)"
   ]
  },
  {
   "cell_type": "code",
   "execution_count": 15,
   "metadata": {
    "scrolled": true
   },
   "outputs": [
    {
     "data": {
      "text/plain": [
       "[[0.1, 1.0, 11.0],\n",
       " [0.2, 2.0, 19.0],\n",
       " [0.3, 3.0, 41.0],\n",
       " [0.4, 4.0, 76.0],\n",
       " [0.5, 5.0, 55.0],\n",
       " [0.6, 6.0, 43.0],\n",
       " [0.7, 7.0, 70.0],\n",
       " [0.8, 8.0, 81.0],\n",
       " [0.9, 9.0, 65.0]]"
      ]
     },
     "execution_count": 15,
     "metadata": {},
     "output_type": "execute_result"
    }
   ],
   "source": [
    "data5"
   ]
  },
  {
   "cell_type": "code",
   "execution_count": 16,
   "metadata": {
    "scrolled": false
   },
   "outputs": [
    {
     "data": {
      "text/plain": [
       "5.0"
      ]
     },
     "execution_count": 16,
     "metadata": {},
     "output_type": "execute_result"
    }
   ],
   "source": [
    "# access some value\n",
    "data5[4][1]"
   ]
  },
  {
   "cell_type": "code",
   "execution_count": 17,
   "metadata": {},
   "outputs": [
    {
     "data": {
      "text/plain": [
       "[[0.1, 1.0, 11.0],\n",
       " [0.2, 2.0, 19.0],\n",
       " [0.3, 3.0, 41.0],\n",
       " [0.4, 4.0, 76.0],\n",
       " [0.5, 5.0, 55.0],\n",
       " [0.6, 6.0, 43.0],\n",
       " [0.7, 7.0, 70.0],\n",
       " [0.8, 8.0, 81.0],\n",
       " [0.9, 9.0, 65.0]]"
      ]
     },
     "execution_count": 17,
     "metadata": {},
     "output_type": "execute_result"
    }
   ],
   "source": [
    "# using list comprehension to reduce the read-in and convert to a two-dimensional table in a single line.\n",
    "file = open('./img/lecture05/measurement_data.txt')\n",
    "data6 = [ [ float(s) for s in line.split() ] for line in file.readlines() ]\n",
    "data6"
   ]
  },
  {
   "cell_type": "markdown",
   "metadata": {},
   "source": [
    "It is recommend to **close the file** after the read-in, because your operating system locks the file during the reading process. By closing the file, operating system releases the file to the system again."
   ]
  },
  {
   "cell_type": "code",
   "execution_count": 18,
   "metadata": {},
   "outputs": [],
   "source": [
    "file.close()"
   ]
  },
  {
   "cell_type": "code",
   "execution_count": 19,
   "metadata": {
    "scrolled": false
   },
   "outputs": [
    {
     "ename": "ValueError",
     "evalue": "I/O operation on closed file.",
     "output_type": "error",
     "traceback": [
      "\u001b[0;31m---------------------------------------------------------------------------\u001b[0m",
      "\u001b[0;31mValueError\u001b[0m                                Traceback (most recent call last)",
      "\u001b[0;32m<ipython-input-19-b7b14dc29bc9>\u001b[0m in \u001b[0;36m<module>\u001b[0;34m\u001b[0m\n\u001b[1;32m      2\u001b[0m \u001b[0mfile\u001b[0m \u001b[0;34m=\u001b[0m \u001b[0mopen\u001b[0m\u001b[0;34m(\u001b[0m\u001b[0;34m'./img/lecture05/measurement_data.txt'\u001b[0m\u001b[0;34m)\u001b[0m\u001b[0;34m\u001b[0m\u001b[0m\n\u001b[1;32m      3\u001b[0m \u001b[0mfile\u001b[0m\u001b[0;34m.\u001b[0m\u001b[0mclose\u001b[0m\u001b[0;34m(\u001b[0m\u001b[0;34m)\u001b[0m\u001b[0;34m\u001b[0m\u001b[0m\n\u001b[0;32m----> 4\u001b[0;31m \u001b[0mdata7\u001b[0m \u001b[0;34m=\u001b[0m \u001b[0;34m[\u001b[0m \u001b[0;34m[\u001b[0m \u001b[0mfloat\u001b[0m\u001b[0;34m(\u001b[0m\u001b[0ms\u001b[0m\u001b[0;34m)\u001b[0m \u001b[0;32mfor\u001b[0m \u001b[0ms\u001b[0m \u001b[0;32min\u001b[0m \u001b[0mline\u001b[0m\u001b[0;34m.\u001b[0m\u001b[0msplit\u001b[0m\u001b[0;34m(\u001b[0m\u001b[0;34m)\u001b[0m \u001b[0;34m]\u001b[0m \u001b[0;32mfor\u001b[0m \u001b[0mline\u001b[0m \u001b[0;32min\u001b[0m \u001b[0mfile\u001b[0m\u001b[0;34m.\u001b[0m\u001b[0mreadlines\u001b[0m\u001b[0;34m(\u001b[0m\u001b[0;34m)\u001b[0m \u001b[0;34m]\u001b[0m\u001b[0;34m\u001b[0m\u001b[0m\n\u001b[0m",
      "\u001b[0;31mValueError\u001b[0m: I/O operation on closed file."
     ]
    }
   ],
   "source": [
    "# obviously after closing the file, it is not possible anymore to read the file\n",
    "file = open('./img/lecture05/measurement_data.txt')\n",
    "file.close()\n",
    "data7 = [ [ float(s) for s in line.split() ] for line in file.readlines() ]\n"
   ]
  },
  {
   "cell_type": "code",
   "execution_count": 20,
   "metadata": {},
   "outputs": [
    {
     "data": {
      "text/plain": [
       "[[0.1, 1.0, 11.0],\n",
       " [0.2, 2.0, 19.0],\n",
       " [0.3, 3.0, 41.0],\n",
       " [0.4, 4.0, 76.0],\n",
       " [0.5, 5.0, 55.0],\n",
       " [0.6, 6.0, 43.0],\n",
       " [0.7, 7.0, 70.0],\n",
       " [0.8, 8.0, 81.0],\n",
       " [0.9, 9.0, 65.0]]"
      ]
     },
     "execution_count": 20,
     "metadata": {},
     "output_type": "execute_result"
    }
   ],
   "source": [
    "# write a file reader as a function\n",
    "def file_open(filepath):\n",
    "    file = open(filepath)\n",
    "    datafile = [ [ float(s) for s in line.split() ] for line in file.readlines() ]\n",
    "    file.close()\n",
    "    return datafile\n",
    "\n",
    "df = file_open('./img/lecture05/measurement_data.txt')\n",
    "df"
   ]
  },
  {
   "cell_type": "markdown",
   "metadata": {},
   "source": [
    "## 5.3 Basics on processing data"
   ]
  },
  {
   "cell_type": "markdown",
   "metadata": {},
   "source": [
    "Let's assume we've read the following data from disc:"
   ]
  },
  {
   "cell_type": "code",
   "execution_count": 21,
   "metadata": {},
   "outputs": [],
   "source": [
    "data = [ [0.1, 1, 11],\n",
    "         [0.2, 2, 19],\n",
    "         [0.3, 3, 41],\n",
    "         [0.4, 4, 76],\n",
    "         [0.5, 5, 55],\n",
    "         [0.6, 6, 43],\n",
    "         [0.7, 7, 70],\n",
    "         [0.8, 8, 81],\n",
    "         [0.9, 9, 65], ]"
   ]
  },
  {
   "cell_type": "markdown",
   "metadata": {},
   "source": [
    "Let's assume that we want to calculate the average of the third column.\n",
    "We want to use the following function:"
   ]
  },
  {
   "cell_type": "code",
   "execution_count": 22,
   "metadata": {},
   "outputs": [],
   "source": [
    "def mean_of_list(list_of_numbers):\n",
    "    m = sum(list_of_numbers)/len(list_of_numbers)\n",
    "    return m"
   ]
  },
  {
   "cell_type": "markdown",
   "metadata": {},
   "source": [
    "As you can see, mean() expects its argument to be a list. From the internal name of the argument, we can see that its creator assumes us to only provide lists of numbers."
   ]
  },
  {
   "cell_type": "markdown",
   "metadata": {},
   "source": [
    "The task at hand therefore is to extract the third column of the data object. Remember that list indices in python are 0-based, hence we're looking at something with an index of 2. Our first approach might be to extract the item on index 2 of data:"
   ]
  },
  {
   "cell_type": "code",
   "execution_count": 23,
   "metadata": {},
   "outputs": [
    {
     "data": {
      "text/plain": [
       "[0.3, 3, 41]"
      ]
     },
     "execution_count": 23,
     "metadata": {},
     "output_type": "execute_result"
    }
   ],
   "source": [
    "data[2]"
   ]
  },
  {
   "cell_type": "markdown",
   "metadata": {},
   "source": [
    "You can see that data[2] yielded the third *line* when we wanted the third *column* of data..."
   ]
  },
  {
   "cell_type": "markdown",
   "metadata": {},
   "source": [
    "### The 'column getter' pattern\n",
    "In software engineering, a (software design) pattern is a general, reusable solution to a commonly occurring problem. While getting (and setting) lines of a list is a simple operation in python:"
   ]
  },
  {
   "cell_type": "code",
   "execution_count": 24,
   "metadata": {},
   "outputs": [
    {
     "data": {
      "text/plain": [
       "[0.1, 1, 11]"
      ]
     },
     "execution_count": 24,
     "metadata": {},
     "output_type": "execute_result"
    }
   ],
   "source": [
    "data[0]"
   ]
  },
  {
   "cell_type": "code",
   "execution_count": 25,
   "metadata": {},
   "outputs": [
    {
     "data": {
      "text/plain": [
       "[[0.1, 0, 0],\n",
       " [0.2, 2, 19],\n",
       " [0.3, 3, 41],\n",
       " [0.4, 4, 76],\n",
       " [0.5, 5, 55],\n",
       " [0.6, 6, 43],\n",
       " [0.7, 7, 70],\n",
       " [0.8, 8, 81],\n",
       " [0.9, 9, 65]]"
      ]
     },
     "execution_count": 25,
     "metadata": {},
     "output_type": "execute_result"
    }
   ],
   "source": [
    "data[0] = [0.1, 0, 0]\n",
    "data"
   ]
  },
  {
   "cell_type": "markdown",
   "metadata": {},
   "source": [
    "getting a column of a matrix (= a list of a list of numbers) is not a native operation. Therefore, we need to create this funtionality on our own. We'll use an old friend - a custom built function which we'll call by what it does and which accepts two parameters. The first one, let's call it *matrix*, is the list of list of numbers from which we want to extract the *i*-th column. We'll pass in the column index *i* as second parameter:"
   ]
  },
  {
   "cell_type": "code",
   "execution_count": 26,
   "metadata": {},
   "outputs": [],
   "source": [
    "def get_col(matrix, j):\n",
    "    col = []\n",
    "    for line in matrix:\n",
    "        col.append(line[j])\n",
    "    return col"
   ]
  },
  {
   "cell_type": "markdown",
   "metadata": {},
   "source": [
    "Please note, that from now on, we'll stick to the convention that matrix lines are denoted by index i and that matrix columns are denoted by index j. But now, let's test our new function:"
   ]
  },
  {
   "cell_type": "code",
   "execution_count": 27,
   "metadata": {
    "scrolled": true
   },
   "outputs": [
    {
     "name": "stdout",
     "output_type": "stream",
     "text": [
      "[0, 19, 41, 76, 55, 43, 70, 81, 65]\n"
     ]
    }
   ],
   "source": [
    "col_three = get_col(data, 2)\n",
    "print(col_three)"
   ]
  },
  {
   "cell_type": "markdown",
   "metadata": {},
   "source": [
    "### Basics of column modification\n",
    "Now we can compute the arithmetic mean of column three by simply calling *mean()* and passing in *col_three* as its argument:"
   ]
  },
  {
   "cell_type": "code",
   "execution_count": 28,
   "metadata": {
    "scrolled": true
   },
   "outputs": [
    {
     "data": {
      "text/plain": [
       "50.0"
      ]
     },
     "execution_count": 28,
     "metadata": {},
     "output_type": "execute_result"
    }
   ],
   "source": [
    "mean_of_list(col_three)"
   ]
  },
  {
   "cell_type": "markdown",
   "metadata": {},
   "source": [
    "Also, we can easily multiply all elements by 2:"
   ]
  },
  {
   "cell_type": "code",
   "execution_count": 29,
   "metadata": {},
   "outputs": [
    {
     "name": "stdout",
     "output_type": "stream",
     "text": [
      "[0, 38, 82, 152, 110, 86, 140, 162, 130]\n"
     ]
    }
   ],
   "source": [
    "new_col_three = []\n",
    "for n in col_three:\n",
    "    new_col_three.append(2*n)\n",
    "col_three = new_col_three\n",
    "print(col_three)"
   ]
  },
  {
   "cell_type": "markdown",
   "metadata": {},
   "source": [
    "Just as easily as this, we can divide it by 10:"
   ]
  },
  {
   "cell_type": "code",
   "execution_count": 30,
   "metadata": {},
   "outputs": [
    {
     "name": "stdout",
     "output_type": "stream",
     "text": [
      "[0.0, 3.8, 8.2, 15.2, 11.0, 8.6, 14.0, 16.2, 13.0]\n"
     ]
    }
   ],
   "source": [
    "new_col_three = []\n",
    "for n in col_three:\n",
    "    new_col_three.append(n/10)\n",
    "col_three = new_col_three\n",
    "print(col_three)"
   ]
  },
  {
   "cell_type": "markdown",
   "metadata": {},
   "source": [
    "## The 'column setter' pattern\n",
    "Another import pattern in software design is setting a column of a data matrix. Here is a most simple implementation:"
   ]
  },
  {
   "cell_type": "code",
   "execution_count": 31,
   "metadata": {},
   "outputs": [],
   "source": [
    "def set_col(matrix, col, j):\n",
    "    i = 0\n",
    "    for line in matrix:\n",
    "        line[j] = col[i]\n",
    "        i = i + 1\n",
    "    return matrix    "
   ]
  },
  {
   "cell_type": "markdown",
   "metadata": {},
   "source": [
    "Let's see how it works, and remember that we need to reassing the modified matrix that the function returns. Also remember that column three has j = 2:"
   ]
  },
  {
   "cell_type": "code",
   "execution_count": 32,
   "metadata": {},
   "outputs": [
    {
     "name": "stdout",
     "output_type": "stream",
     "text": [
      "data, before:\n"
     ]
    },
    {
     "data": {
      "text/plain": [
       "[[0.1, 0, 0],\n",
       " [0.2, 2, 19],\n",
       " [0.3, 3, 41],\n",
       " [0.4, 4, 76],\n",
       " [0.5, 5, 55],\n",
       " [0.6, 6, 43],\n",
       " [0.7, 7, 70],\n",
       " [0.8, 8, 81],\n",
       " [0.9, 9, 65]]"
      ]
     },
     "execution_count": 32,
     "metadata": {},
     "output_type": "execute_result"
    }
   ],
   "source": [
    "print('data, before:')\n",
    "data"
   ]
  },
  {
   "cell_type": "code",
   "execution_count": 33,
   "metadata": {},
   "outputs": [
    {
     "name": "stdout",
     "output_type": "stream",
     "text": [
      "col_three = [0.0, 3.8, 8.2, 15.2, 11.0, 8.6, 14.0, 16.2, 13.0]\n"
     ]
    }
   ],
   "source": [
    "print('col_three =', col_three)"
   ]
  },
  {
   "cell_type": "code",
   "execution_count": 34,
   "metadata": {},
   "outputs": [
    {
     "data": {
      "text/plain": [
       "[[0.1, 0, 0.0],\n",
       " [0.2, 2, 3.8],\n",
       " [0.3, 3, 8.2],\n",
       " [0.4, 4, 15.2],\n",
       " [0.5, 5, 11.0],\n",
       " [0.6, 6, 8.6],\n",
       " [0.7, 7, 14.0],\n",
       " [0.8, 8, 16.2],\n",
       " [0.9, 9, 13.0]]"
      ]
     },
     "execution_count": 34,
     "metadata": {},
     "output_type": "execute_result"
    }
   ],
   "source": [
    "data = set_col(data, col_three, 2)\n",
    "data"
   ]
  },
  {
   "cell_type": "markdown",
   "metadata": {},
   "source": [
    "## 5.4 Output using print functions"
   ]
  },
  {
   "cell_type": "markdown",
   "metadata": {},
   "source": [
    "So far we’ve encountered two ways of writing values: expression statements and the print() function.\n",
    "\n",
    "Often you’ll want more control over the formatting of your output than simply printing space-separated values. There are several ways to format output."
   ]
  },
  {
   "cell_type": "markdown",
   "metadata": {},
   "source": [
    "To use **formatted string literals**, begin a string with **f** or **F** before the opening quotation mark or triple quotation mark. Inside this string, you can write a Python expression between <b>{</b> and <b>}</b> characters that can refer to variables or literal values."
   ]
  },
  {
   "cell_type": "code",
   "execution_count": 35,
   "metadata": {
    "scrolled": true
   },
   "outputs": [
    {
     "name": "stdout",
     "output_type": "stream",
     "text": [
      "I hope to do my referendum in 2019\n"
     ]
    }
   ],
   "source": [
    "year = 2019\n",
    "event = 'referendum'\n",
    "print(f'I hope to do my {event} in {year}')"
   ]
  },
  {
   "cell_type": "markdown",
   "metadata": {},
   "source": [
    "## 5.5 Writing a file"
   ]
  },
  {
   "cell_type": "markdown",
   "metadata": {},
   "source": [
    "Writing a file is very similar to display information on the screen. The difference is mostly it <i>displays</i> your information in a file using the **write() method instead of a print() function**."
   ]
  },
  {
   "cell_type": "markdown",
   "metadata": {},
   "source": [
    "In order to write into a file, a file needs to be open. It is identical to opening a file for readout, but also needs an additional **option for writing access** (here: w+).  "
   ]
  },
  {
   "cell_type": "markdown",
   "metadata": {},
   "source": [
    "Follwing options are also available:  \n",
    " <b>r</b>&nbsp;&nbsp;&nbsp;&nbsp;Open text file for reading.  The stream is positioned at the\n",
    "         beginning of the file.\n",
    "\n",
    " <b>r+</b>&nbsp;&nbsp;Open for reading and writing.  The stream is positioned at the\n",
    "         beginning of the file.\n",
    "\n",
    " <b>w</b>&nbsp;&nbsp;&nbsp;Truncate file to zero length or create text file for writing.\n",
    "         The stream is positioned at the beginning of the file.\n",
    "\n",
    " <b>w+</b>&nbsp;Open for reading and writing.  The file is created if it does not\n",
    "         exist, otherwise it is truncated.  The stream is positioned at\n",
    "         the beginning of the file.\n",
    "\n",
    " <b>a</b> &nbsp;&nbsp;  Open for writing.  The file is created if it does not exist.  The\n",
    "         stream is positioned at the end of the file.  Subsequent writes\n",
    "         to the file will always end up at the then current end of file,\n",
    "         irrespective of any intervening fseek(3) or similar.\n",
    "\n",
    " <b>a+</b>&nbsp;&nbsp;Open for reading and writing.  The file is created if it does not\n",
    "         exist.  The stream is positioned at the end of the file.  Subse\n",
    "         quent writes to the file will always end up at the then current\n",
    "         end of file, irrespective of any intervening fseek(3) or similar."
   ]
  },
  {
   "cell_type": "code",
   "execution_count": 36,
   "metadata": {},
   "outputs": [],
   "source": [
    "# open file, remember to explicitly state a mode string, use 'w+' in doubt\n",
    "f = open('modified_data.txt', 'w+')"
   ]
  },
  {
   "cell_type": "code",
   "execution_count": 37,
   "metadata": {},
   "outputs": [],
   "source": [
    "# iterate over the lines of the data matrix\n",
    "# remember that each line is a list of numbers, which we'll call numbers in short hand\n",
    "def write_to_file(data, filename):\n",
    "    f = open(filename, 'w+')\n",
    "    for numbers in data:\n",
    "        # use a list comprehension to transform the line of numbers to a line of strings\n",
    "        strings = [ str(n) for n in numbers ]\n",
    "        # now, concatenate to a sting that contains the whole line, with cols separated by tabs\n",
    "        line = '\\t'.join(strings)\n",
    "        # add carriage return (\\r) and new line (\\n)\n",
    "        line = line + '\\r\\n'\n",
    "        # write string to file\n",
    "        f.write(line)\n",
    "    f.close()"
   ]
  }
 ],
 "metadata": {
  "kernelspec": {
   "display_name": "Python 3",
   "language": "python",
   "name": "python3"
  },
  "language_info": {
   "codemirror_mode": {
    "name": "ipython",
    "version": 3
   },
   "file_extension": ".py",
   "mimetype": "text/x-python",
   "name": "python",
   "nbconvert_exporter": "python",
   "pygments_lexer": "ipython3",
   "version": "3.7.4"
  }
 },
 "nbformat": 4,
 "nbformat_minor": 2
}
