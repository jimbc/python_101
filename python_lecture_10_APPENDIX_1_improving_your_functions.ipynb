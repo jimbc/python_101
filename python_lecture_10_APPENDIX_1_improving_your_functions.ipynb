{
 "cells": [
  {
   "cell_type": "markdown",
   "metadata": {},
   "source": [
    "# Appendix: improving your functions\n",
    "In our course, we learned how to write custom functions.  \n",
    "Some of the more commonly used ones are *get_col()* and *set_col()* for modifying lists of lists of numbers."
   ]
  },
  {
   "cell_type": "markdown",
   "metadata": {},
   "source": [
    "Here's the implementation of our *set_col()*:"
   ]
  },
  {
   "cell_type": "code",
   "execution_count": 13,
   "metadata": {},
   "outputs": [],
   "source": [
    "def set_col(matrix, col, j):\n",
    "    i = 0\n",
    "    for line in matrix:\n",
    "        line[j] = col[i]\n",
    "        i = i + 1\n",
    "    return matrix"
   ]
  },
  {
   "cell_type": "markdown",
   "metadata": {},
   "source": [
    "And here's how we used it to replace a column in an existing data matrix. <br />"
   ]
  },
  {
   "cell_type": "code",
   "execution_count": 14,
   "metadata": {
    "scrolled": true
   },
   "outputs": [
    {
     "data": {
      "text/plain": [
       "[[0.1, 0, 100],\n",
       " [0.2, 2, 101],\n",
       " [0.3, 3, 102],\n",
       " [0.4, 4, 103],\n",
       " [0.5, 5, 104],\n",
       " [0.6, 6, 105],\n",
       " [0.7, 7, 106],\n",
       " [0.8, 8, 107],\n",
       " [0.9, 9, 108]]"
      ]
     },
     "execution_count": 14,
     "metadata": {},
     "output_type": "execute_result"
    }
   ],
   "source": [
    "data = [\n",
    " [0.1, 0, 0],\n",
    " [0.2, 2, 19],\n",
    " [0.3, 3, 41],\n",
    " [0.4, 4, 76],\n",
    " [0.5, 5, 55],\n",
    " [0.6, 6, 43],\n",
    " [0.7, 7, 70],\n",
    " [0.8, 8, 81],\n",
    " [0.9, 9, 65],\n",
    "]\n",
    "col = [100, 101, 102, 103, 104, 105, 106, 107, 108]\n",
    "set_col(data, col, 2)"
   ]
  },
  {
   "cell_type": "markdown",
   "metadata": {},
   "source": [
    "So far, so good.<br />\n",
    "**However**, there are use cases in which our implementation **fails**.<br />\n",
    "The first one is if we try to **add a new column** instead of **replacing an existing one**.\n",
    "Consider the following line of code:<br />\n",
    "\n",
    "*data_mod = set_col(data, col, 3)*\n",
    "\n",
    "When writing this, as *data* only has 3 cols (indexed 0-2), we expect that *set_col()* will add *col* as a **new column**.<br />\n",
    "However, what we get is:"
   ]
  },
  {
   "cell_type": "code",
   "execution_count": 15,
   "metadata": {
    "scrolled": true
   },
   "outputs": [
    {
     "ename": "IndexError",
     "evalue": "list assignment index out of range",
     "output_type": "error",
     "traceback": [
      "\u001b[0;31m---------------------------------------------------------------------------\u001b[0m",
      "\u001b[0;31mIndexError\u001b[0m                                Traceback (most recent call last)",
      "\u001b[0;32m<ipython-input-15-a17333ad3a60>\u001b[0m in \u001b[0;36m<module>\u001b[0;34m\u001b[0m\n\u001b[0;32m----> 1\u001b[0;31m \u001b[0mset_col\u001b[0m\u001b[0;34m(\u001b[0m\u001b[0mdata\u001b[0m\u001b[0;34m,\u001b[0m \u001b[0mcol\u001b[0m\u001b[0;34m,\u001b[0m \u001b[0;36m3\u001b[0m\u001b[0;34m)\u001b[0m\u001b[0;34m\u001b[0m\u001b[0m\n\u001b[0m",
      "\u001b[0;32m<ipython-input-13-952461c84a7b>\u001b[0m in \u001b[0;36mset_col\u001b[0;34m(matrix, col, j)\u001b[0m\n\u001b[1;32m      2\u001b[0m     \u001b[0mi\u001b[0m \u001b[0;34m=\u001b[0m \u001b[0;36m0\u001b[0m\u001b[0;34m\u001b[0m\u001b[0m\n\u001b[1;32m      3\u001b[0m     \u001b[0;32mfor\u001b[0m \u001b[0mline\u001b[0m \u001b[0;32min\u001b[0m \u001b[0mmatrix\u001b[0m\u001b[0;34m:\u001b[0m\u001b[0;34m\u001b[0m\u001b[0m\n\u001b[0;32m----> 4\u001b[0;31m         \u001b[0mline\u001b[0m\u001b[0;34m[\u001b[0m\u001b[0mj\u001b[0m\u001b[0;34m]\u001b[0m \u001b[0;34m=\u001b[0m \u001b[0mcol\u001b[0m\u001b[0;34m[\u001b[0m\u001b[0mi\u001b[0m\u001b[0;34m]\u001b[0m\u001b[0;34m\u001b[0m\u001b[0m\n\u001b[0m\u001b[1;32m      5\u001b[0m         \u001b[0mi\u001b[0m \u001b[0;34m=\u001b[0m \u001b[0mi\u001b[0m \u001b[0;34m+\u001b[0m \u001b[0;36m1\u001b[0m\u001b[0;34m\u001b[0m\u001b[0m\n\u001b[1;32m      6\u001b[0m     \u001b[0;32mreturn\u001b[0m \u001b[0mmatrix\u001b[0m\u001b[0;34m\u001b[0m\u001b[0m\n",
      "\u001b[0;31mIndexError\u001b[0m: list assignment index out of range"
     ]
    }
   ],
   "source": [
    "set_col(data, col, 3)"
   ]
  },
  {
   "cell_type": "markdown",
   "metadata": {},
   "source": [
    "The reason for this error is that in line 4, *line[3] =* causes an error because *line* does not have an item at index 3 that could be reassigned.<br />\n",
    "One possible sulotion to this issue would be if python would implicitly create an empty index position 3 and then assign *col[i]* to this newly created index position. However, python does not do this, which is in perfect agreement with python's design principle **explicit is better than implicit**. <br />\n",
    "Therefore, we must change our implementation to take care of this issue. A possible amended implementation could look like this:"
   ]
  },
  {
   "cell_type": "code",
   "execution_count": 16,
   "metadata": {},
   "outputs": [],
   "source": [
    "def set_col(matrix, col, j):\n",
    "    i = 0\n",
    "    for line in matrix:\n",
    "        if len(line) < j+1:\n",
    "            line.append(None)\n",
    "        line[j] = col[i]\n",
    "        i = i + 1\n",
    "    return matrix"
   ]
  },
  {
   "cell_type": "markdown",
   "metadata": {},
   "source": [
    "Let's retry assigning *col* to the currently non-existing fourth column (index 3):"
   ]
  },
  {
   "cell_type": "code",
   "execution_count": 17,
   "metadata": {},
   "outputs": [
    {
     "data": {
      "text/plain": [
       "[[0.1, 0, 0, 100],\n",
       " [0.2, 2, 19, 101],\n",
       " [0.3, 3, 41, 102],\n",
       " [0.4, 4, 76, 103],\n",
       " [0.5, 5, 55, 104],\n",
       " [0.6, 6, 43, 105],\n",
       " [0.7, 7, 70, 106],\n",
       " [0.8, 8, 81, 107],\n",
       " [0.9, 9, 65, 108]]"
      ]
     },
     "execution_count": 17,
     "metadata": {},
     "output_type": "execute_result"
    }
   ],
   "source": [
    "data = [\n",
    " [0.1, 0, 0],\n",
    " [0.2, 2, 19],\n",
    " [0.3, 3, 41],\n",
    " [0.4, 4, 76],\n",
    " [0.5, 5, 55],\n",
    " [0.6, 6, 43],\n",
    " [0.7, 7, 70],\n",
    " [0.8, 8, 81],\n",
    " [0.9, 9, 65],\n",
    "]\n",
    "col = [100, 101, 102, 103, 104, 105, 106, 107, 108]\n",
    "set_col(data, col, 3)"
   ]
  },
  {
   "cell_type": "markdown",
   "metadata": {},
   "source": [
    "**Works like a charm now!**<br />\n",
    "Let's try adding *col* to a non-existing col, but with some empty cols inbetween:"
   ]
  },
  {
   "cell_type": "code",
   "execution_count": 18,
   "metadata": {},
   "outputs": [
    {
     "ename": "IndexError",
     "evalue": "list assignment index out of range",
     "output_type": "error",
     "traceback": [
      "\u001b[0;31m---------------------------------------------------------------------------\u001b[0m",
      "\u001b[0;31mIndexError\u001b[0m                                Traceback (most recent call last)",
      "\u001b[0;32m<ipython-input-18-36a2a2b8fdad>\u001b[0m in \u001b[0;36m<module>\u001b[0;34m\u001b[0m\n\u001b[1;32m     11\u001b[0m ]\n\u001b[1;32m     12\u001b[0m \u001b[0mcol\u001b[0m \u001b[0;34m=\u001b[0m \u001b[0;34m[\u001b[0m\u001b[0;36m100\u001b[0m\u001b[0;34m,\u001b[0m \u001b[0;36m101\u001b[0m\u001b[0;34m,\u001b[0m \u001b[0;36m102\u001b[0m\u001b[0;34m,\u001b[0m \u001b[0;36m103\u001b[0m\u001b[0;34m,\u001b[0m \u001b[0;36m104\u001b[0m\u001b[0;34m,\u001b[0m \u001b[0;36m105\u001b[0m\u001b[0;34m,\u001b[0m \u001b[0;36m106\u001b[0m\u001b[0;34m,\u001b[0m \u001b[0;36m107\u001b[0m\u001b[0;34m,\u001b[0m \u001b[0;36m108\u001b[0m\u001b[0;34m]\u001b[0m\u001b[0;34m\u001b[0m\u001b[0m\n\u001b[0;32m---> 13\u001b[0;31m \u001b[0mset_col\u001b[0m\u001b[0;34m(\u001b[0m\u001b[0mdata\u001b[0m\u001b[0;34m,\u001b[0m \u001b[0mcol\u001b[0m\u001b[0;34m,\u001b[0m \u001b[0;36m6\u001b[0m\u001b[0;34m)\u001b[0m\u001b[0;34m\u001b[0m\u001b[0m\n\u001b[0m",
      "\u001b[0;32m<ipython-input-16-6bb0afdd6334>\u001b[0m in \u001b[0;36mset_col\u001b[0;34m(matrix, col, j)\u001b[0m\n\u001b[1;32m      4\u001b[0m         \u001b[0;32mif\u001b[0m \u001b[0mlen\u001b[0m\u001b[0;34m(\u001b[0m\u001b[0mline\u001b[0m\u001b[0;34m)\u001b[0m \u001b[0;34m<\u001b[0m \u001b[0mj\u001b[0m\u001b[0;34m+\u001b[0m\u001b[0;36m1\u001b[0m\u001b[0;34m:\u001b[0m\u001b[0;34m\u001b[0m\u001b[0m\n\u001b[1;32m      5\u001b[0m             \u001b[0mline\u001b[0m\u001b[0;34m.\u001b[0m\u001b[0mappend\u001b[0m\u001b[0;34m(\u001b[0m\u001b[0;32mNone\u001b[0m\u001b[0;34m)\u001b[0m\u001b[0;34m\u001b[0m\u001b[0m\n\u001b[0;32m----> 6\u001b[0;31m         \u001b[0mline\u001b[0m\u001b[0;34m[\u001b[0m\u001b[0mj\u001b[0m\u001b[0;34m]\u001b[0m \u001b[0;34m=\u001b[0m \u001b[0mcol\u001b[0m\u001b[0;34m[\u001b[0m\u001b[0mi\u001b[0m\u001b[0;34m]\u001b[0m\u001b[0;34m\u001b[0m\u001b[0m\n\u001b[0m\u001b[1;32m      7\u001b[0m         \u001b[0mi\u001b[0m \u001b[0;34m=\u001b[0m \u001b[0mi\u001b[0m \u001b[0;34m+\u001b[0m \u001b[0;36m1\u001b[0m\u001b[0;34m\u001b[0m\u001b[0m\n\u001b[1;32m      8\u001b[0m     \u001b[0;32mreturn\u001b[0m \u001b[0mmatrix\u001b[0m\u001b[0;34m\u001b[0m\u001b[0m\n",
      "\u001b[0;31mIndexError\u001b[0m: list assignment index out of range"
     ]
    }
   ],
   "source": [
    "data = [\n",
    " [0.1, 0, 0],\n",
    " [0.2, 2, 19],\n",
    " [0.3, 3, 41],\n",
    " [0.4, 4, 76],\n",
    " [0.5, 5, 55],\n",
    " [0.6, 6, 43],\n",
    " [0.7, 7, 70],\n",
    " [0.8, 8, 81],\n",
    " [0.9, 9, 65],\n",
    "]\n",
    "col = [100, 101, 102, 103, 104, 105, 106, 107, 108]\n",
    "set_col(data, col, 6)"
   ]
  },
  {
   "cell_type": "markdown",
   "metadata": {},
   "source": [
    "We get this error because if *len(line) < j+1* evaluates to *True* we only add **one** new index postion to *line* (with index 4), but then then try to assign *col[i]* to *line[6]* in line 6. In order to solve this issue, we need to add as many index positions as are required to enable the subsequent assignemt in index position *j*: "
   ]
  },
  {
   "cell_type": "code",
   "execution_count": 19,
   "metadata": {},
   "outputs": [],
   "source": [
    "def set_col(matrix, col, j):\n",
    "    i = 0\n",
    "    for line in matrix:\n",
    "        while len(line) < j+1:\n",
    "            line.append(None)\n",
    "        line[j] = col[i]\n",
    "        i = i + 1\n",
    "    return matrix"
   ]
  },
  {
   "cell_type": "markdown",
   "metadata": {},
   "source": [
    "Let's retry:"
   ]
  },
  {
   "cell_type": "code",
   "execution_count": 20,
   "metadata": {},
   "outputs": [
    {
     "data": {
      "text/plain": [
       "[[0.1, 0, 0, None, None, None, 100],\n",
       " [0.2, 2, 19, None, None, None, 101],\n",
       " [0.3, 3, 41, None, None, None, 102],\n",
       " [0.4, 4, 76, None, None, None, 103],\n",
       " [0.5, 5, 55, None, None, None, 104],\n",
       " [0.6, 6, 43, None, None, None, 105],\n",
       " [0.7, 7, 70, None, None, None, 106],\n",
       " [0.8, 8, 81, None, None, None, 107],\n",
       " [0.9, 9, 65, None, None, None, 108]]"
      ]
     },
     "execution_count": 20,
     "metadata": {},
     "output_type": "execute_result"
    }
   ],
   "source": [
    "data = [\n",
    " [0.1, 0, 0],\n",
    " [0.2, 2, 19],\n",
    " [0.3, 3, 41],\n",
    " [0.4, 4, 76],\n",
    " [0.5, 5, 55],\n",
    " [0.6, 6, 43],\n",
    " [0.7, 7, 70],\n",
    " [0.8, 8, 81],\n",
    " [0.9, 9, 65],\n",
    "]\n",
    "col = [100, 101, 102, 103, 104, 105, 106, 107, 108]\n",
    "set_col(data, col, 6)"
   ]
  },
  {
   "cell_type": "markdown",
   "metadata": {},
   "source": [
    "**:-)**"
   ]
  },
  {
   "cell_type": "markdown",
   "metadata": {},
   "source": [
    "Next, let's give the user the option to specify what should be inserted into newly created index positions:"
   ]
  },
  {
   "cell_type": "code",
   "execution_count": 21,
   "metadata": {},
   "outputs": [],
   "source": [
    "def set_col(matrix, col, j, missing=None):\n",
    "    i = 0\n",
    "    for line in matrix:\n",
    "        while len(line) < j+1:\n",
    "            line.append(missing)\n",
    "        line[j] = col[i]\n",
    "        i = i + 1\n",
    "    return matrix"
   ]
  },
  {
   "cell_type": "code",
   "execution_count": 23,
   "metadata": {},
   "outputs": [
    {
     "data": {
      "text/plain": [
       "[[0.1, 0, 0, 0, 0, 0, 100],\n",
       " [0.2, 2, 19, 0, 0, 0, 101],\n",
       " [0.3, 3, 41, 0, 0, 0, 102],\n",
       " [0.4, 4, 76, 0, 0, 0, 103],\n",
       " [0.5, 5, 55, 0, 0, 0, 104],\n",
       " [0.6, 6, 43, 0, 0, 0, 105],\n",
       " [0.7, 7, 70, 0, 0, 0, 106],\n",
       " [0.8, 8, 81, 0, 0, 0, 107],\n",
       " [0.9, 9, 65, 0, 0, 0, 108]]"
      ]
     },
     "execution_count": 23,
     "metadata": {},
     "output_type": "execute_result"
    }
   ],
   "source": [
    "data = [\n",
    " [0.1, 0, 0],\n",
    " [0.2, 2, 19],\n",
    " [0.3, 3, 41],\n",
    " [0.4, 4, 76],\n",
    " [0.5, 5, 55],\n",
    " [0.6, 6, 43],\n",
    " [0.7, 7, 70],\n",
    " [0.8, 8, 81],\n",
    " [0.9, 9, 65],\n",
    "]\n",
    "col = [100, 101, 102, 103, 104, 105, 106, 107, 108]\n",
    "\n",
    "# call set_col() and set the missing argument to 0\n",
    "set_col(data, col, 6, missing=0)"
   ]
  },
  {
   "cell_type": "markdown",
   "metadata": {},
   "source": [
    "As *missing* is an optional named argument, *set_col()* can still be called without specifying *missing*, in which case *None* will be inserted by default:"
   ]
  },
  {
   "cell_type": "code",
   "execution_count": 24,
   "metadata": {
    "scrolled": true
   },
   "outputs": [
    {
     "data": {
      "text/plain": [
       "[[0.1, 0, 0, None, None, None, 100],\n",
       " [0.2, 2, 19, None, None, None, 101],\n",
       " [0.3, 3, 41, None, None, None, 102],\n",
       " [0.4, 4, 76, None, None, None, 103],\n",
       " [0.5, 5, 55, None, None, None, 104],\n",
       " [0.6, 6, 43, None, None, None, 105],\n",
       " [0.7, 7, 70, None, None, None, 106],\n",
       " [0.8, 8, 81, None, None, None, 107],\n",
       " [0.9, 9, 65, None, None, None, 108]]"
      ]
     },
     "execution_count": 24,
     "metadata": {},
     "output_type": "execute_result"
    }
   ],
   "source": [
    "data = [\n",
    " [0.1, 0, 0],\n",
    " [0.2, 2, 19],\n",
    " [0.3, 3, 41],\n",
    " [0.4, 4, 76],\n",
    " [0.5, 5, 55],\n",
    " [0.6, 6, 43],\n",
    " [0.7, 7, 70],\n",
    " [0.8, 8, 81],\n",
    " [0.9, 9, 65],\n",
    "]\n",
    "col = [100, 101, 102, 103, 104, 105, 106, 107, 108]\n",
    "\n",
    "# call set_col() but do not specify the missing argument\n",
    "# missing elements will be defaulted to None\n",
    "set_col(data, col, 6, missing=None) "
   ]
  },
  {
   "cell_type": "markdown",
   "metadata": {},
   "source": [
    "The next issue we might encounter are **non-matching element lengths**.<br />\n",
    "Consider this:"
   ]
  },
  {
   "cell_type": "code",
   "execution_count": 25,
   "metadata": {},
   "outputs": [
    {
     "ename": "IndexError",
     "evalue": "list index out of range",
     "output_type": "error",
     "traceback": [
      "\u001b[0;31m---------------------------------------------------------------------------\u001b[0m",
      "\u001b[0;31mIndexError\u001b[0m                                Traceback (most recent call last)",
      "\u001b[0;32m<ipython-input-25-de4fd1870b7b>\u001b[0m in \u001b[0;36m<module>\u001b[0;34m\u001b[0m\n\u001b[1;32m     13\u001b[0m \u001b[0;34m\u001b[0m\u001b[0m\n\u001b[1;32m     14\u001b[0m \u001b[0;31m# store col in data as fourth, new col\u001b[0m\u001b[0;34m\u001b[0m\u001b[0;34m\u001b[0m\u001b[0m\n\u001b[0;32m---> 15\u001b[0;31m \u001b[0mset_col\u001b[0m\u001b[0;34m(\u001b[0m\u001b[0mdata\u001b[0m\u001b[0;34m,\u001b[0m \u001b[0mcol\u001b[0m\u001b[0;34m,\u001b[0m \u001b[0;36m3\u001b[0m\u001b[0;34m)\u001b[0m\u001b[0;34m\u001b[0m\u001b[0m\n\u001b[0m",
      "\u001b[0;32m<ipython-input-21-ead3be441a7e>\u001b[0m in \u001b[0;36mset_col\u001b[0;34m(matrix, col, j, missing)\u001b[0m\n\u001b[1;32m      4\u001b[0m         \u001b[0;32mwhile\u001b[0m \u001b[0mlen\u001b[0m\u001b[0;34m(\u001b[0m\u001b[0mline\u001b[0m\u001b[0;34m)\u001b[0m \u001b[0;34m<\u001b[0m \u001b[0mj\u001b[0m\u001b[0;34m+\u001b[0m\u001b[0;36m1\u001b[0m\u001b[0;34m:\u001b[0m\u001b[0;34m\u001b[0m\u001b[0m\n\u001b[1;32m      5\u001b[0m             \u001b[0mline\u001b[0m\u001b[0;34m.\u001b[0m\u001b[0mappend\u001b[0m\u001b[0;34m(\u001b[0m\u001b[0mmissing\u001b[0m\u001b[0;34m)\u001b[0m\u001b[0;34m\u001b[0m\u001b[0m\n\u001b[0;32m----> 6\u001b[0;31m         \u001b[0mline\u001b[0m\u001b[0;34m[\u001b[0m\u001b[0mj\u001b[0m\u001b[0;34m]\u001b[0m \u001b[0;34m=\u001b[0m \u001b[0mcol\u001b[0m\u001b[0;34m[\u001b[0m\u001b[0mi\u001b[0m\u001b[0;34m]\u001b[0m\u001b[0;34m\u001b[0m\u001b[0m\n\u001b[0m\u001b[1;32m      7\u001b[0m         \u001b[0mi\u001b[0m \u001b[0;34m=\u001b[0m \u001b[0mi\u001b[0m \u001b[0;34m+\u001b[0m \u001b[0;36m1\u001b[0m\u001b[0;34m\u001b[0m\u001b[0m\n\u001b[1;32m      8\u001b[0m     \u001b[0;32mreturn\u001b[0m \u001b[0mmatrix\u001b[0m\u001b[0;34m\u001b[0m\u001b[0m\n",
      "\u001b[0;31mIndexError\u001b[0m: list index out of range"
     ]
    }
   ],
   "source": [
    "data = [\n",
    " [0.1, 0, 0],\n",
    " [0.2, 2, 19],\n",
    " [0.3, 3, 41],\n",
    " [0.4, 4, 76],\n",
    " [0.5, 5, 55],\n",
    " [0.6, 6, 43],\n",
    " [0.7, 7, 70],\n",
    " [0.8, 8, 81],\n",
    " [0.9, 9, 65],\n",
    "]\n",
    "col = [100, 101, 102]\n",
    "\n",
    "# store col in data as fourth, new col\n",
    "set_col(data, col, 3)"
   ]
  },
  {
   "cell_type": "markdown",
   "metadata": {},
   "source": [
    "Again, we get the dreaded _list index out of range error_.  \n",
    "But this time it isn't _line[j]_ that gets out or range at some point.  \n",
    "It is *col[i]* which gets out of range.  \n",
    "This happens iteration 4, when _i_ has been incremented to 3.  \n",
    "Because *len(col)* is 3, there is no index position 3.  \n",
    "Therefore the right hand of the following assignment in line 6 fails:  \n",
    "*line[3] = col[3]*  \n",
    "However, *col* is *[100, 101, 102]* and therefore, there is no *col[3]*,  \n",
    "raises the *index out of range* error"
   ]
  },
  {
   "cell_type": "markdown",
   "metadata": {},
   "source": [
    "We can solve this issue by making sure that *col* is long enough before starting our re-assignment iteration. Note that, as our implementation now gets somewhat longer, we separated sections with different functionality by blank lines and added some comments to clarify each sections function:"
   ]
  },
  {
   "cell_type": "code",
   "execution_count": 26,
   "metadata": {},
   "outputs": [],
   "source": [
    "def set_col(matrix, col, j, missing=None):\n",
    "    \n",
    "    # check whether col is long enough\n",
    "    # if not, append a sufficient number of elements\n",
    "    # newly appended items default to missing\n",
    "    if len(matrix) > len(col):\n",
    "        times = len(matrix) - len(col)\n",
    "        for i in range(times):\n",
    "            # append None to col 'missing' times\n",
    "            col.append(missing)\n",
    "        \n",
    "    # iterate over lines and fill in col\n",
    "    i = 0\n",
    "    for line in matrix:\n",
    "        # iterate over lines and fill in col\n",
    "        while len(line) < j+1:\n",
    "            line.append(missing)\n",
    "        # actuall re-assignment/insertion\n",
    "        line[j] = col[i]\n",
    "        # increment i\n",
    "        i = i + 1\n",
    "    \n",
    "    # explicitly return matrix\n",
    "    return matrix"
   ]
  },
  {
   "cell_type": "markdown",
   "metadata": {},
   "source": [
    "Let's retry:"
   ]
  },
  {
   "cell_type": "code",
   "execution_count": 27,
   "metadata": {},
   "outputs": [
    {
     "data": {
      "text/plain": [
       "[[0.1, 0, 0, 100],\n",
       " [0.2, 2, 19, 101],\n",
       " [0.3, 3, 41, 102],\n",
       " [0.4, 4, 76, None],\n",
       " [0.5, 5, 55, None],\n",
       " [0.6, 6, 43, None],\n",
       " [0.7, 7, 70, None],\n",
       " [0.8, 8, 81, None],\n",
       " [0.9, 9, 65, None]]"
      ]
     },
     "execution_count": 27,
     "metadata": {},
     "output_type": "execute_result"
    }
   ],
   "source": [
    "data = [\n",
    " [0.1, 0, 0],\n",
    " [0.2, 2, 19],\n",
    " [0.3, 3, 41],\n",
    " [0.4, 4, 76],\n",
    " [0.5, 5, 55],\n",
    " [0.6, 6, 43],\n",
    " [0.7, 7, 70],\n",
    " [0.8, 8, 81],\n",
    " [0.9, 9, 65],\n",
    "]\n",
    "col = [100, 101, 102]\n",
    "\n",
    "# store col in data as fourth, new col\n",
    "set_col(data, col, 3)"
   ]
  },
  {
   "cell_type": "markdown",
   "metadata": {},
   "source": [
    "**Much better now!**  \n",
    "Alternatively, specifiy missing to be 0 if you want data to be all numeric:"
   ]
  },
  {
   "cell_type": "code",
   "execution_count": 28,
   "metadata": {},
   "outputs": [
    {
     "data": {
      "text/plain": [
       "[[0.1, 0, 0, 100],\n",
       " [0.2, 2, 19, 101],\n",
       " [0.3, 3, 41, 102],\n",
       " [0.4, 4, 76, 0],\n",
       " [0.5, 5, 55, 0],\n",
       " [0.6, 6, 43, 0],\n",
       " [0.7, 7, 70, 0],\n",
       " [0.8, 8, 81, 0],\n",
       " [0.9, 9, 65, 0]]"
      ]
     },
     "execution_count": 28,
     "metadata": {},
     "output_type": "execute_result"
    }
   ],
   "source": [
    "data = [\n",
    " [0.1, 0, 0],\n",
    " [0.2, 2, 19],\n",
    " [0.3, 3, 41],\n",
    " [0.4, 4, 76],\n",
    " [0.5, 5, 55],\n",
    " [0.6, 6, 43],\n",
    " [0.7, 7, 70],\n",
    " [0.8, 8, 81],\n",
    " [0.9, 9, 65],\n",
    "]\n",
    "col = [100, 101, 102]\n",
    "\n",
    "# store col in data as fourth, new col\n",
    "# however, specify missing=0 to keep data an all numeric data object\n",
    "set_col(data, col, 3, missing=0)"
   ]
  },
  {
   "cell_type": "markdown",
   "metadata": {},
   "source": [
    "Here's the **next issue** we have to consider:  \n",
    "What happens if *col* has more items than *data* has lines?"
   ]
  },
  {
   "cell_type": "code",
   "execution_count": 29,
   "metadata": {},
   "outputs": [
    {
     "data": {
      "text/plain": [
       "[[0.1, 0, 0, 100],\n",
       " [0.2, 2, 19, 101],\n",
       " [0.3, 3, 41, 102],\n",
       " [0.4, 4, 76, 103],\n",
       " [0.5, 5, 55, 104],\n",
       " [0.6, 6, 43, 105],\n",
       " [0.7, 7, 70, 106],\n",
       " [0.8, 8, 81, 107],\n",
       " [0.9, 9, 65, 108]]"
      ]
     },
     "execution_count": 29,
     "metadata": {},
     "output_type": "execute_result"
    }
   ],
   "source": [
    "data = [\n",
    " [0.1, 0, 0],\n",
    " [0.2, 2, 19],\n",
    " [0.3, 3, 41],\n",
    " [0.4, 4, 76],\n",
    " [0.5, 5, 55],\n",
    " [0.6, 6, 43],\n",
    " [0.7, 7, 70],\n",
    " [0.8, 8, 81],\n",
    " [0.9, 9, 65],\n",
    "]\n",
    "col = [100, 101, 102, 103, 104, 105, 106, 107, 108, 109, 110, 111, 112]\n",
    "\n",
    "# store col in data as fourth, new col\n",
    "# however, specify missing=0 to keep data an all numeric data object\n",
    "set_col(data, col, 3, missing=0)"
   ]
  },
  {
   "cell_type": "markdown",
   "metadata": {},
   "source": [
    "The answer is that excessive col items do not get assigned.  \n",
    "A possible solution is to **dynamically add empty lines** to *data* until it has enough lines to accomodate all items of *col*:"
   ]
  },
  {
   "cell_type": "code",
   "execution_count": 30,
   "metadata": {},
   "outputs": [],
   "source": [
    "def set_col(matrix, col, j, missing=None, expand_receiver=True):\n",
    "    \n",
    "    # check whether col is long enough\n",
    "    # if not, append a sufficient number of elements\n",
    "    # newly appended items default to missing\n",
    "    if len(matrix) > len(col):\n",
    "        times = len(matrix) - len(col)\n",
    "        for i in range(times):\n",
    "            # append None to col 'missing' times\n",
    "            col.append(missing)\n",
    "    \n",
    "    # check whether matrix is long enough to store all items in col\n",
    "    if len(matrix) < len(col):\n",
    "        # if expand_receiver is True, add empty lines\n",
    "        if expand_receiver:\n",
    "            times = len(col) - len(matrix)\n",
    "            for i in range(times):\n",
    "                # append new line (=[]) to matrix\n",
    "                # no need to populate index positions\n",
    "                # as this will happen during re-assignment iteration\n",
    "                matrix.append([])\n",
    "    \n",
    "    # iterate over lines and fill in col\n",
    "    i = 0\n",
    "    for line in matrix:\n",
    "        # iterate over lines and fill in col\n",
    "        while len(line) < j+1:\n",
    "            line.append(missing)\n",
    "        # actuall re-assignment/insertion\n",
    "        line[j] = col[i]\n",
    "        # increment i\n",
    "        i = i + 1\n",
    "    \n",
    "    # explicitly return matrix\n",
    "    return matrix"
   ]
  },
  {
   "cell_type": "markdown",
   "metadata": {},
   "source": [
    "Let's retry:"
   ]
  },
  {
   "cell_type": "code",
   "execution_count": 31,
   "metadata": {},
   "outputs": [
    {
     "data": {
      "text/plain": [
       "[[0.1, 0, 0, 100],\n",
       " [0.2, 2, 19, 101],\n",
       " [0.3, 3, 41, 102],\n",
       " [0.4, 4, 76, 103],\n",
       " [0.5, 5, 55, 104],\n",
       " [0.6, 6, 43, 105],\n",
       " [0.7, 7, 70, 106],\n",
       " [0.8, 8, 81, 107],\n",
       " [0.9, 9, 65, 108],\n",
       " [0, 0, 0, 109],\n",
       " [0, 0, 0, 110],\n",
       " [0, 0, 0, 111],\n",
       " [0, 0, 0, 112]]"
      ]
     },
     "execution_count": 31,
     "metadata": {},
     "output_type": "execute_result"
    }
   ],
   "source": [
    "data = [\n",
    " [0.1, 0, 0],\n",
    " [0.2, 2, 19],\n",
    " [0.3, 3, 41],\n",
    " [0.4, 4, 76],\n",
    " [0.5, 5, 55],\n",
    " [0.6, 6, 43],\n",
    " [0.7, 7, 70],\n",
    " [0.8, 8, 81],\n",
    " [0.9, 9, 65],\n",
    "]\n",
    "col = [100, 101, 102, 103, 104, 105, 106, 107, 108, 109, 110, 111, 112]\n",
    "\n",
    "# store col in data as fourth, new col\n",
    "# however, specify missing=0 to keep data an all numeric data object\n",
    "set_col(data, col, 3, missing=0)"
   ]
  },
  {
   "cell_type": "markdown",
   "metadata": {},
   "source": [
    "See how four additional lines were added to *matrix* for accomodating the excessive elements of *col* and how the missing items in cols 1-3 were defaulted to the missing parameter we supplied (= 0)?  \n",
    "Let's add some more data:"
   ]
  },
  {
   "cell_type": "code",
   "execution_count": 32,
   "metadata": {},
   "outputs": [
    {
     "data": {
      "text/plain": [
       "[[0.1, 0, 0, 100, 0, 0, 0, 17],\n",
       " [0.2, 2, 19, 101, 0, 0, 0, 18],\n",
       " [0.3, 3, 41, 102, 0, 0, 0, 19],\n",
       " [0.4, 4, 76, 103, 0, 0, 0, 20],\n",
       " [0.5, 5, 55, 104, 0, 0, 0, 21],\n",
       " [0.6, 6, 43, 105, 0, 0, 0, 22],\n",
       " [0.7, 7, 70, 106, 0, 0, 0, 23],\n",
       " [0.8, 8, 81, 107, 0, 0, 0, 24],\n",
       " [0.9, 9, 65, 108, 0, 0, 0, 25],\n",
       " [0, 0, 0, 109, 0, 0, 0, 26],\n",
       " [0, 0, 0, 110, 0, 0, 0, 27],\n",
       " [0, 0, 0, 111, 0, 0, 0, 28],\n",
       " [0, 0, 0, 112, 0, 0, 0, 29],\n",
       " [0, 0, 0, 0, 0, 0, 0, 30],\n",
       " [0, 0, 0, 0, 0, 0, 0, 31]]"
      ]
     },
     "execution_count": 32,
     "metadata": {},
     "output_type": "execute_result"
    }
   ],
   "source": [
    "data = [\n",
    " [0.1, 0, 0],\n",
    " [0.2, 2, 19],\n",
    " [0.3, 3, 41],\n",
    " [0.4, 4, 76],\n",
    " [0.5, 5, 55],\n",
    " [0.6, 6, 43],\n",
    " [0.7, 7, 70],\n",
    " [0.8, 8, 81],\n",
    " [0.9, 9, 65],\n",
    "]\n",
    "\n",
    "# add a new col to index 3...\n",
    "col = [100, 101, 102, 103, 104, 105, 106, 107, 108, 109, 110, 111, 112]\n",
    "set_col(data, col, 3, missing=0)\n",
    "\n",
    "# ... and an even longer one to index 7.\n",
    "# store return value in a new variable called data_mod:\n",
    "another_col = [17, 18, 19, 20, 21, 22, 23, 24, 25, 26, 27, 28, 29, 30, 31]\n",
    "data_mod = set_col(data, another_col, 7, missing=0)\n",
    "data_mod"
   ]
  },
  {
   "cell_type": "markdown",
   "metadata": {},
   "source": [
    "What happens if we re-assign col 7 to a new col, which is shorter?"
   ]
  },
  {
   "cell_type": "code",
   "execution_count": 33,
   "metadata": {},
   "outputs": [
    {
     "data": {
      "text/plain": [
       "[[0.1, 0, 0, 100, 0, 0, 0, 'a'],\n",
       " [0.2, 2, 19, 101, 0, 0, 0, 'b'],\n",
       " [0.3, 3, 41, 102, 0, 0, 0, 'c'],\n",
       " [0.4, 4, 76, 103, 0, 0, 0, 'd'],\n",
       " [0.5, 5, 55, 104, 0, 0, 0, ''],\n",
       " [0.6, 6, 43, 105, 0, 0, 0, ''],\n",
       " [0.7, 7, 70, 106, 0, 0, 0, ''],\n",
       " [0.8, 8, 81, 107, 0, 0, 0, ''],\n",
       " [0.9, 9, 65, 108, 0, 0, 0, ''],\n",
       " [0, 0, 0, 109, 0, 0, 0, ''],\n",
       " [0, 0, 0, 110, 0, 0, 0, ''],\n",
       " [0, 0, 0, 111, 0, 0, 0, ''],\n",
       " [0, 0, 0, 112, 0, 0, 0, ''],\n",
       " [0, 0, 0, 0, 0, 0, 0, ''],\n",
       " [0, 0, 0, 0, 0, 0, 0, '']]"
      ]
     },
     "execution_count": 33,
     "metadata": {},
     "output_type": "execute_result"
    }
   ],
   "source": [
    "letters = ['a', 'b', 'c', 'd' ]\n",
    "set_col(data_mod, letters, 7, missing='')"
   ]
  },
  {
   "cell_type": "markdown",
   "metadata": {},
   "source": [
    "Luckily, this already is the **expected behavior**!"
   ]
  },
  {
   "cell_type": "markdown",
   "metadata": {},
   "source": [
    "Consider this:  \n",
    "*set_col(data, col)*  \n",
    "What should be the expected behavior when **no col index is provided**?  \n",
    "Let's say that in this case we want to append the new *col* to *data*.  \n",
    "Therefore, we need to make j an optional argument (by specifying a default, None in this case),  \n",
    "and we need to dynamically compute the highest index that is currently available in any line of the supplied matrix.  \n",
    "Conveniently, *len(a_list)* always yields the index of the last element +1."
   ]
  },
  {
   "cell_type": "code",
   "execution_count": 34,
   "metadata": {},
   "outputs": [],
   "source": [
    "def set_col(matrix, col, j=None, missing=None, expand_receiver=True):\n",
    "    \n",
    "    # will be True if j is None, e.g. when it is not provided\n",
    "    if not j:\n",
    "        # use max of existing col indices + 1\n",
    "        j = max([ len(l) for l in matrix ])\n",
    "    \n",
    "    # check whether col is long enough\n",
    "    # if not, append a sufficient number of elements\n",
    "    # newly appended items default to missing\n",
    "    if len(matrix) > len(col):\n",
    "        times = len(matrix) - len(col)\n",
    "        for i in range(times):\n",
    "            # append None to col 'missing' times\n",
    "            col.append(missing)\n",
    "    \n",
    "    # check whether matrix is long enough to store all items in col\n",
    "    if len(matrix) < len(col):\n",
    "        # if expand_receiver is True, add empty lines\n",
    "        if expand_receiver:\n",
    "            times = len(col) - len(matrix)\n",
    "            for i in range(times):\n",
    "                # append new line (=[]) to matrix\n",
    "                # no need to populate index positions\n",
    "                # as this will happen during re-assignment iteration\n",
    "                matrix.append([])\n",
    "    \n",
    "    # iterate over lines and fill in col\n",
    "    i = 0\n",
    "    for line in matrix:\n",
    "        # iterate over lines and fill in col\n",
    "        while len(line) < j+1:\n",
    "            line.append(missing)\n",
    "        # actuall re-assignment/insertion\n",
    "        line[j] = col[i]\n",
    "        # increment i\n",
    "        i = i + 1\n",
    "    \n",
    "    # explicitly return matrix\n",
    "    return matrix"
   ]
  },
  {
   "cell_type": "markdown",
   "metadata": {},
   "source": [
    "Let's try:"
   ]
  },
  {
   "cell_type": "code",
   "execution_count": 35,
   "metadata": {},
   "outputs": [
    {
     "data": {
      "text/plain": [
       "[[0.1, 0, 0, 100],\n",
       " [0.2, 2, 19, 101],\n",
       " [0.3, 3, 41, 102],\n",
       " [0.4, 4, 76, 103],\n",
       " [0.5, 5, 55, 104],\n",
       " [0.6, 6, 43, 105],\n",
       " [0.7, 7, 70, 106],\n",
       " [0.8, 8, 81, 107],\n",
       " [0.9, 9, 65, 108]]"
      ]
     },
     "execution_count": 35,
     "metadata": {},
     "output_type": "execute_result"
    }
   ],
   "source": [
    "data = [\n",
    " [0.1, 0, 0],\n",
    " [0.2, 2, 19],\n",
    " [0.3, 3, 41],\n",
    " [0.4, 4, 76],\n",
    " [0.5, 5, 55],\n",
    " [0.6, 6, 43],\n",
    " [0.7, 7, 70],\n",
    " [0.8, 8, 81],\n",
    " [0.9, 9, 65],\n",
    "]\n",
    "col = [100, 101, 102, 103, 104, 105, 106, 107, 108]\n",
    "\n",
    "# append col as new col in data\n",
    "# as this is the new default behavior when not providing a col index\n",
    "# we can simply write:\n",
    "data_mod = set_col(data, col)\n",
    "data_mod"
   ]
  },
  {
   "cell_type": "code",
   "execution_count": 36,
   "metadata": {
    "scrolled": true
   },
   "outputs": [
    {
     "data": {
      "text/plain": [
       "[[0.1, 0, 0, 100, 'a'],\n",
       " [0.2, 2, 19, 101, 'b'],\n",
       " [0.3, 3, 41, 102, 'c'],\n",
       " [0.4, 4, 76, 103, 'd'],\n",
       " [0.5, 5, 55, 104, 'e'],\n",
       " [0.6, 6, 43, 105, None],\n",
       " [0.7, 7, 70, 106, None],\n",
       " [0.8, 8, 81, 107, None],\n",
       " [0.9, 9, 65, 108, None]]"
      ]
     },
     "execution_count": 36,
     "metadata": {},
     "output_type": "execute_result"
    }
   ],
   "source": [
    "# append another col using this convention\n",
    "letters  = ['a', 'b', 'c', 'd', 'e']\n",
    "data_mod = set_col(data_mod, letters)\n",
    "data_mod"
   ]
  },
  {
   "cell_type": "markdown",
   "metadata": {},
   "source": [
    "Next, let's make the *col* argument optional.  \n",
    "As default behavior, i.e., when *col=None* or *col=[]*, we will insert a column full of *missing*:"
   ]
  },
  {
   "cell_type": "code",
   "execution_count": 37,
   "metadata": {},
   "outputs": [],
   "source": [
    "def set_col(matrix, col, j=None, missing=None, expand_receiver=True):\n",
    "    \n",
    "    # will be True if j is None, e.g. when it is not provided\n",
    "    if not j:\n",
    "        # use max of existing col indices + 1\n",
    "        j = max([ len(l) for l in matrix ])\n",
    "    \n",
    "    # will True if col is None, e.g. when it is not provided\n",
    "    if not col:\n",
    "        # initialize col as a list of missings with length of matrix\n",
    "        col = [ missing for i in range(len(matrix)) ]\n",
    "    \n",
    "    # check whether col is long enough\n",
    "    # if not, append a sufficient number of elements\n",
    "    # newly appended items default to missing\n",
    "    if len(matrix) > len(col):\n",
    "        times = len(matrix) - len(col)\n",
    "        for i in range(times):\n",
    "            # append None to col 'missing' times\n",
    "            col.append(missing)\n",
    "    \n",
    "    # check whether matrix is long enough to store all items in col\n",
    "    if len(matrix) < len(col):\n",
    "        # if expand_receiver is True, add empty lines\n",
    "        if expand_receiver:\n",
    "            times = len(col) - len(matrix)\n",
    "            for i in range(times):\n",
    "                # append new line (=[]) to matrix\n",
    "                # no need to populate index positions\n",
    "                # as this will happen during re-assignment iteration\n",
    "                matrix.append([])\n",
    "    \n",
    "    # iterate over lines and fill in col\n",
    "    i = 0\n",
    "    for line in matrix:\n",
    "        # iterate over lines and fill in col\n",
    "        while len(line) < j+1:\n",
    "            line.append(missing)\n",
    "        # actuall re-assignment/insertion\n",
    "        line[j] = col[i]\n",
    "        # increment i\n",
    "        i = i + 1\n",
    "    \n",
    "    # explicitly return matrix\n",
    "    return matrix"
   ]
  },
  {
   "cell_type": "markdown",
   "metadata": {},
   "source": [
    "Let's try:"
   ]
  },
  {
   "cell_type": "code",
   "execution_count": 38,
   "metadata": {},
   "outputs": [
    {
     "data": {
      "text/plain": [
       "[[0.1, None, 0],\n",
       " [0.2, None, 19],\n",
       " [0.3, None, 41],\n",
       " [0.4, None, 76],\n",
       " [0.5, None, 55],\n",
       " [0.6, None, 43],\n",
       " [0.7, None, 70],\n",
       " [0.8, None, 81],\n",
       " [0.9, None, 65]]"
      ]
     },
     "execution_count": 38,
     "metadata": {},
     "output_type": "execute_result"
    }
   ],
   "source": [
    "data = [\n",
    " [0.1, 0, 0],\n",
    " [0.2, 2, 19],\n",
    " [0.3, 3, 41],\n",
    " [0.4, 4, 76],\n",
    " [0.5, 5, 55],\n",
    " [0.6, 6, 43],\n",
    " [0.7, 7, 70],\n",
    " [0.8, 8, 81],\n",
    " [0.9, 9, 65],\n",
    "]\n",
    "\n",
    "# blank col with index 1 by using the default behavior for col=None\n",
    "set_col(data, col=None, j=1)"
   ]
  },
  {
   "cell_type": "markdown",
   "metadata": {},
   "source": [
    "The same works for calling *set_col* with *col=[]*:"
   ]
  },
  {
   "cell_type": "code",
   "execution_count": 39,
   "metadata": {
    "scrolled": true
   },
   "outputs": [
    {
     "data": {
      "text/plain": [
       "[[0.1, None, 0],\n",
       " [0.2, None, 19],\n",
       " [0.3, None, 41],\n",
       " [0.4, None, 76],\n",
       " [0.5, None, 55],\n",
       " [0.6, None, 43],\n",
       " [0.7, None, 70],\n",
       " [0.8, None, 81],\n",
       " [0.9, None, 65]]"
      ]
     },
     "execution_count": 39,
     "metadata": {},
     "output_type": "execute_result"
    }
   ],
   "source": [
    "data = [\n",
    " [0.1, 0, 0],\n",
    " [0.2, 2, 19],\n",
    " [0.3, 3, 41],\n",
    " [0.4, 4, 76],\n",
    " [0.5, 5, 55],\n",
    " [0.6, 6, 43],\n",
    " [0.7, 7, 70],\n",
    " [0.8, 8, 81],\n",
    " [0.9, 9, 65],\n",
    "]\n",
    "\n",
    "# blank col with index 1 by providing col=[]\n",
    "set_col(data, col=[], j=1)"
   ]
  },
  {
   "cell_type": "markdown",
   "metadata": {},
   "source": [
    "Finally, let's assume that we do not want to overwrite an existing column but want to shift the existing column (and all following columns) up by one index and then insert a new column. However, let's not make this the default behavior (i.e., we default the newly created optional *insert* argument to False):"
   ]
  },
  {
   "cell_type": "code",
   "execution_count": 40,
   "metadata": {},
   "outputs": [],
   "source": [
    "def set_col(matrix, col, j=None, missing=None, expand_receiver=True, insert=False):\n",
    "    \n",
    "    # will be True if j is None, e.g. when it is not provided with function call\n",
    "    if not j:\n",
    "        # use max of existing col indices + 1\n",
    "        j = max([ len(l) for l in matrix ])\n",
    "    \n",
    "    # will be True if col is None, e.g. when it is not provided with function call\n",
    "    if not col:\n",
    "        # initialize col as a list of missings with length of matrix\n",
    "        col = [ missing for i in range(len(matrix)) ]\n",
    "    \n",
    "    # check whether col is long enough\n",
    "    # if not, append a sufficient number of elements\n",
    "    # newly appended items default to missing\n",
    "    if len(matrix) > len(col):\n",
    "        times = len(matrix) - len(col)\n",
    "        for i in range(times):\n",
    "            # append None to col 'missing' times\n",
    "            col.append(missing)\n",
    "    \n",
    "    # check whether matrix is long enough to store all items in col\n",
    "    if len(matrix) < len(col):\n",
    "        # if expand_receiver is True, add empty lines\n",
    "        if expand_receiver:\n",
    "            times = len(col) - len(matrix)\n",
    "            for i in range(times):\n",
    "                # append new line (=[]) to matrix\n",
    "                # no need to populate index positions\n",
    "                # as this will happen during re-assignment iteration\n",
    "                matrix.append([])\n",
    "    \n",
    "    # iterate over lines and fill in col\n",
    "    i = 0\n",
    "    for line in matrix:\n",
    "        # iterate over lines and fill in col\n",
    "        while len(line) < j+1:\n",
    "            line.append(missing)\n",
    "        # actuall re-assignment/insertion\n",
    "        if insert:\n",
    "            # shift existing and following items in line up by 1 index position\n",
    "            # e.g.: [1,2,3,4,5,6] -> [1,2,3,None,4,5,6] -> [1,2,3,new_element,4,5,6]\n",
    "            line.insert(j, col[i])\n",
    "        else:\n",
    "            # overwrite existing value (default)\n",
    "            # e.g.: [1,2,3,4,5,6] -> [1,2,3,new_element,5,6]\n",
    "            line[j] = col[i]\n",
    "        # increment i\n",
    "        i = i + 1\n",
    "    \n",
    "    # explicitly return matrix\n",
    "    return matrix"
   ]
  },
  {
   "cell_type": "markdown",
   "metadata": {},
   "source": [
    "Let's try:"
   ]
  },
  {
   "cell_type": "code",
   "execution_count": 41,
   "metadata": {},
   "outputs": [
    {
     "data": {
      "text/plain": [
       "[[0.1, 'a', 0, 0],\n",
       " [0.2, 'b', 2, 19],\n",
       " [0.3, 'c', 3, 41],\n",
       " [0.4, 'd', 4, 76],\n",
       " [0.5, 'e', 5, 55],\n",
       " [0.6, 'f', 6, 43],\n",
       " [0.7, 'g', 7, 70],\n",
       " [0.8, 'h', 8, 81],\n",
       " [0.9, 'i', 9, 65]]"
      ]
     },
     "execution_count": 41,
     "metadata": {},
     "output_type": "execute_result"
    }
   ],
   "source": [
    "data = [\n",
    " [0.1, 0, 0],\n",
    " [0.2, 2, 19],\n",
    " [0.3, 3, 41],\n",
    " [0.4, 4, 76],\n",
    " [0.5, 5, 55],\n",
    " [0.6, 6, 43],\n",
    " [0.7, 7, 70],\n",
    " [0.8, 8, 81],\n",
    " [0.9, 9, 65],\n",
    "]\n",
    "\n",
    "letters  = ['a', 'b', 'c', 'd', 'e', 'f', 'g', 'h', 'i']\n",
    "# insert letters as col index 1,\n",
    "# shift existing and following cols up by one index position by providing insert=True\n",
    "set_col(data, letters, j=1, insert=True)"
   ]
  },
  {
   "cell_type": "markdown",
   "metadata": {},
   "source": [
    "Leaving away *insert=True* will return to the default overwrite mode:"
   ]
  },
  {
   "cell_type": "code",
   "execution_count": 42,
   "metadata": {},
   "outputs": [
    {
     "data": {
      "text/plain": [
       "[[0.1, 'a', 0],\n",
       " [0.2, 'b', 19],\n",
       " [0.3, 'c', 41],\n",
       " [0.4, 'd', 76],\n",
       " [0.5, 'e', 55],\n",
       " [0.6, 'f', 43],\n",
       " [0.7, 'g', 70],\n",
       " [0.8, 'h', 81],\n",
       " [0.9, 'i', 65]]"
      ]
     },
     "execution_count": 42,
     "metadata": {},
     "output_type": "execute_result"
    }
   ],
   "source": [
    "data = [\n",
    " [0.1, 0, 0],\n",
    " [0.2, 2, 19],\n",
    " [0.3, 3, 41],\n",
    " [0.4, 4, 76],\n",
    " [0.5, 5, 55],\n",
    " [0.6, 6, 43],\n",
    " [0.7, 7, 70],\n",
    " [0.8, 8, 81],\n",
    " [0.9, 9, 65],\n",
    "]\n",
    "\n",
    "letters  = ['a', 'b', 'c', 'd', 'e', 'f', 'g', 'h', 'i']\n",
    "# insert letters as col index 1,\n",
    "# overwriting the existing data is the default behavior\n",
    "set_col(data, letters, j=1)"
   ]
  },
  {
   "cell_type": "markdown",
   "metadata": {},
   "source": [
    "**Looking back**,  \n",
    "we started with an implementation of set_col(), that either failed or showed unexpected behavior when operation with not perfectly well-formed data.  \n",
    "**However, after a lot of work,**  \n",
    "we ended up with an implementation, that\n",
    "\n",
    "* handles disparate matrix and col lengths,\n",
    "* fills in missing individual items and whole missing columns,\n",
    "* and which has itelligent defaults for missing items, empty or missing col arguments and for missing col indices"
   ]
  },
  {
   "cell_type": "markdown",
   "metadata": {},
   "source": [
    "Here's such an advanced implementation for our ***get_col()*** function:"
   ]
  },
  {
   "cell_type": "code",
   "execution_count": 43,
   "metadata": {},
   "outputs": [],
   "source": [
    "def get_col(matrix, i, min=None, max=None, missing=None):\n",
    "    \n",
    "    # initialize return value list container\n",
    "    rv = []\n",
    "    \n",
    "    # iterate of lines of matrix\n",
    "    for line in matrix:\n",
    "        # if the current line is long enough,\n",
    "        # extract desired element and append it to rv\n",
    "        if len(line) >= i+1:\n",
    "            rv.append(line[i])\n",
    "        # if not, append null parameter to rv\n",
    "        else:\n",
    "            rv.append(missing)\n",
    "    \n",
    "    # check wether min has been specified\n",
    "    # and if so, whether the return value is still shorter than min\n",
    "    if min and len(rv) < min:\n",
    "        # if rv is too short, fill up rv to min length\n",
    "        # use null parameter for filling\n",
    "        while len(rv) < min:\n",
    "            rv.append(missing)\n",
    "    \n",
    "    # check wether max has been specified\n",
    "    # and if so, whether the return value is currently longer than max\n",
    "    if max and len(rv) > max:\n",
    "        rv = rv[0:max]\n",
    "    \n",
    "    # return rv\n",
    "    return rv"
   ]
  },
  {
   "cell_type": "markdown",
   "metadata": {},
   "source": [
    "Here are some examples of the new functionality of this implementation:"
   ]
  },
  {
   "cell_type": "code",
   "execution_count": 44,
   "metadata": {},
   "outputs": [
    {
     "name": "stdout",
     "output_type": "stream",
     "text": [
      "['a', 'b', 'c', 'd', 'e', None, None, None, None]\n",
      "['a', 'b', 'c', 'd', 'e', '', '', '', '']\n"
     ]
    }
   ],
   "source": [
    "data = [\n",
    "  [0.1, 0, 0, 100, 'a'],\n",
    "  [0.2, 2, 19, 101, 'b'],\n",
    "  [0.3, 3, 41, 102, 'c'],\n",
    "  [0.4, 4, 76, 103, 'd'],\n",
    "  [0.5, 5, 55, 104, 'e'],\n",
    "  [0.6, 6, 43, 105],\n",
    "  [0.7, 7, 70, 106],\n",
    "  [0.8, 8, 81, 107],\n",
    "  [0.9, 9, 65, 108]\n",
    "]\n",
    "\n",
    "# missing elements are defaulted to missing parameter:\n",
    "print(get_col(data, 4))\n",
    "print(get_col(data, 4, missing=''))"
   ]
  },
  {
   "cell_type": "code",
   "execution_count": 45,
   "metadata": {},
   "outputs": [
    {
     "name": "stdout",
     "output_type": "stream",
     "text": [
      "['a', 'b', 'c', 'd', 'e', '', '', '', '', '', '', '', '', '', '', '', '', '', '', '']\n",
      "20\n"
     ]
    }
   ],
   "source": [
    "# get a list of at least 20 length, even if data isn't that long\n",
    "c = get_col(data, 4, missing='', min=20)\n",
    "print(c)\n",
    "print(len(c))"
   ]
  },
  {
   "cell_type": "code",
   "execution_count": 46,
   "metadata": {},
   "outputs": [
    {
     "name": "stdout",
     "output_type": "stream",
     "text": [
      "['a', 'b', 'c']\n",
      "3\n"
     ]
    }
   ],
   "source": [
    "# get a list of maximum length 3, even if data has more lines\n",
    "d = get_col(data, 4, max=3)\n",
    "print(d)\n",
    "print(len(d))"
   ]
  }
 ],
 "metadata": {
  "kernelspec": {
   "display_name": "Python 3",
   "language": "python",
   "name": "python3"
  },
  "language_info": {
   "codemirror_mode": {
    "name": "ipython",
    "version": 3
   },
   "file_extension": ".py",
   "mimetype": "text/x-python",
   "name": "python",
   "nbconvert_exporter": "python",
   "pygments_lexer": "ipython3",
   "version": "3.5.2"
  }
 },
 "nbformat": 4,
 "nbformat_minor": 2
}
