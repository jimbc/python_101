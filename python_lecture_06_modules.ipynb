{
 "cells": [
  {
   "cell_type": "markdown",
   "metadata": {},
   "source": [
    "# Programming with Python"
   ]
  },
  {
   "cell_type": "markdown",
   "metadata": {},
   "source": [
    "# 6 Reusing code with modules"
   ]
  },
  {
   "cell_type": "markdown",
   "metadata": {},
   "source": [
    "## Distributing code across files and reusing it with modules\n",
    "Assume that you want to reuse your four nice new functions in *another program*... You already guessed that copy/paste isn't the *clean* way to do this. The clean way, is the put the code to be reused into a separate file on the hard drive. Assume that this is the program you've written so far:"
   ]
  },
  {
   "cell_type": "code",
   "execution_count": 1,
   "metadata": {},
   "outputs": [],
   "source": [
    "def get_col(lst_arg, index):\n",
    "    return [ el[index] for el in lst_arg ]\n",
    "\n",
    "def set_col(matrix, col, j):\n",
    "    i = 0\n",
    "    for line in matrix:\n",
    "        line[j] = col[i]\n",
    "        i = i + 1\n",
    "    return matrix \n",
    "\n",
    "matrix = [\n",
    " [0.1, 0, 0],\n",
    " [0.2, 2, 19],\n",
    " [0.3, 3, 41],\n",
    " [0.4, 4, 76],\n",
    " [0.5, 5, 55],\n",
    " [0.6, 6, 43],\n",
    " [0.7, 7, 70],\n",
    " [0.8, 8, 81],\n",
    " [0.9, 9, 65]\n",
    "]\n",
    "\n",
    "col_one = get_col(matrix, 0)\n",
    "matrix  = set_col(matrix, col_one, 1)\n",
    "matrix  = set_col(matrix, col_one, 2)"
   ]
  },
  {
   "cell_type": "markdown",
   "metadata": {},
   "source": [
    "See what this code does?<br />\n",
    "Right, it gets col one and pastes it over col two and three (don't ask me why...):"
   ]
  },
  {
   "cell_type": "code",
   "execution_count": 2,
   "metadata": {
    "scrolled": true
   },
   "outputs": [
    {
     "data": {
      "text/plain": [
       "[[0.1, 0.1, 0.1],\n",
       " [0.2, 0.2, 0.2],\n",
       " [0.3, 0.3, 0.3],\n",
       " [0.4, 0.4, 0.4],\n",
       " [0.5, 0.5, 0.5],\n",
       " [0.6, 0.6, 0.6],\n",
       " [0.7, 0.7, 0.7],\n",
       " [0.8, 0.8, 0.8],\n",
       " [0.9, 0.9, 0.9]]"
      ]
     },
     "execution_count": 2,
     "metadata": {},
     "output_type": "execute_result"
    }
   ],
   "source": [
    "matrix"
   ]
  },
  {
   "cell_type": "markdown",
   "metadata": {},
   "source": [
    "Now, let's separate our programm into two separate files. We will call the file into which we put the actual program *main.py* and the file into which we put the matrix-related function *matrix_tools.py*:"
   ]
  },
  {
   "cell_type": "markdown",
   "metadata": {},
   "source": [
    "![](./img/lecture06/modules01.png)"
   ]
  },
  {
   "cell_type": "markdown",
   "metadata": {},
   "source": [
    "However, when we run *main.py*, we get the following result:"
   ]
  },
  {
   "attachments": {
    "Untitled%203.jpg": {
     "image/jpeg": "[encoded data removed]"
    }
   },
   "cell_type": "markdown",
   "metadata": {},
   "source": [
    "![Untitled%203.jpg](attachment:Untitled%203.jpg)"
   ]
  },
  {
   "cell_type": "markdown",
   "metadata": {},
   "source": [
    "The reason for this error obviously is that the interpreter cannot find any *def get_col()* statement in *main.py* because we have moved this to *matrix_tools()*. We can solve this problem by explicitly telling the interpreter to **import** the content of another file, in this case of the *matrix_tools.py* file:"
   ]
  },
  {
   "cell_type": "code",
   "execution_count": 3,
   "metadata": {
    "scrolled": true
   },
   "outputs": [
    {
     "data": {
      "text/plain": [
       "[[0.1, 0.1, 0.1],\n",
       " [0.2, 0.2, 0.2],\n",
       " [0.3, 0.3, 0.3],\n",
       " [0.4, 0.4, 0.4],\n",
       " [0.5, 0.5, 0.5],\n",
       " [0.6, 0.6, 0.6],\n",
       " [0.7, 0.7, 0.7],\n",
       " [0.8, 0.8, 0.8],\n",
       " [0.9, 0.9, 0.9]]"
      ]
     },
     "execution_count": 3,
     "metadata": {},
     "output_type": "execute_result"
    }
   ],
   "source": [
    "from matrix_tools import * \n",
    "\n",
    "matrix = [\n",
    " [0.1, 0, 0],\n",
    " [0.2, 2, 19],\n",
    " [0.3, 3, 41],\n",
    " [0.4, 4, 76],\n",
    " [0.5, 5, 55],\n",
    " [0.6, 6, 43],\n",
    " [0.7, 7, 70],\n",
    " [0.8, 8, 81],\n",
    " [0.9, 9, 65]\n",
    "]\n",
    "\n",
    "col_one = get_col(matrix, 0)\n",
    "matrix  = set_col(matrix, col_one, 1)\n",
    "matrix  = set_col(matrix, col_one, 2)\n",
    "matrix"
   ]
  },
  {
   "cell_type": "markdown",
   "metadata": {},
   "source": [
    "**On the nomenclature:**\n",
    "A file that only contains functionalities (e.g. a collection of functions), custom data (e.g. data stored in variables), new custom data types etc., but no working program itself, is called a **module** in python."
   ]
  },
  {
   "cell_type": "markdown",
   "metadata": {},
   "source": [
    "Now, the first thing that python does is importing the content of *matrix_tools.py* into the current program.<br />\n",
    "Please note, that:\n",
    "\n",
    "* the file ending **must not** be given, i.e. if you want to import *example.py*, type **import example**\n",
    "* import works like a keyword and not like a function, therefore do not put the file name into parenthesis\n",
    "* as import is a keyword, the file name is no argument and does not need to be of type string\n",
    "\n",
    "Ignoring these rules will cause errors:"
   ]
  },
  {
   "cell_type": "code",
   "execution_count": 4,
   "metadata": {},
   "outputs": [
    {
     "ename": "ModuleNotFoundError",
     "evalue": "No module named 'matrix_tools.py'; 'matrix_tools' is not a package",
     "output_type": "error",
     "traceback": [
      "\u001b[1;31m---------------------------------------------------------------------------\u001b[0m",
      "\u001b[1;31mModuleNotFoundError\u001b[0m                       Traceback (most recent call last)",
      "\u001b[1;32m<ipython-input-4-239bd42f7107>\u001b[0m in \u001b[0;36m<module>\u001b[1;34m\u001b[0m\n\u001b[1;32m----> 1\u001b[1;33m \u001b[1;32mfrom\u001b[0m \u001b[0mmatrix_tools\u001b[0m\u001b[1;33m.\u001b[0m\u001b[0mpy\u001b[0m \u001b[1;32mimport\u001b[0m \u001b[1;33m*\u001b[0m\u001b[1;33m\u001b[0m\u001b[1;33m\u001b[0m\u001b[0m\n\u001b[0m",
      "\u001b[1;31mModuleNotFoundError\u001b[0m: No module named 'matrix_tools.py'; 'matrix_tools' is not a package"
     ]
    }
   ],
   "source": [
    "from matrix_tools.py import *"
   ]
  },
  {
   "cell_type": "markdown",
   "metadata": {},
   "source": [
    "See, how the compiler complains? *No module named 'matrix_tools.py'*. He doesn't say *no **file** named...* but says *no **module** named...*. That is because he expects us to provide a module name after an import statement. An module names do not have a file ending. It is a convention, that a module called *my_module* must be stored in a file called *my_module.py*."
   ]
  },
  {
   "cell_type": "code",
   "execution_count": null,
   "metadata": {},
   "outputs": [],
   "source": [
    "import(matrix_tools)"
   ]
  },
  {
   "cell_type": "code",
   "execution_count": null,
   "metadata": {},
   "outputs": [],
   "source": [
    "import 'matrix_tools'"
   ]
  },
  {
   "cell_type": "markdown",
   "metadata": {},
   "source": [
    "Furthermore, requesting non-existing files will raise an error:"
   ]
  },
  {
   "cell_type": "code",
   "execution_count": null,
   "metadata": {},
   "outputs": [],
   "source": [
    "from some_nonexistent_file import *"
   ]
  },
  {
   "cell_type": "markdown",
   "metadata": {},
   "source": [
    "Again, the compiler says, that he can't find a module called *some_nonexistent_file*."
   ]
  },
  {
   "cell_type": "code",
   "execution_count": 5,
   "metadata": {
    "scrolled": false
   },
   "outputs": [
    {
     "data": {
      "text/plain": [
       "[[0.1, 0.1, 0.1],\n",
       " [0.2, 0.2, 0.2],\n",
       " [0.3, 0.3, 0.3],\n",
       " [0.4, 0.4, 0.4],\n",
       " [0.5, 0.5, 0.5],\n",
       " [0.6, 0.6, 0.6],\n",
       " [0.7, 0.7, 0.7],\n",
       " [0.8, 0.8, 0.8],\n",
       " [0.9, 0.9, 0.9]]"
      ]
     },
     "execution_count": 5,
     "metadata": {},
     "output_type": "execute_result"
    }
   ],
   "source": [
    "from matrix_tools import * \n",
    "\n",
    "matrix = [\n",
    " [0.1, 0, 0],\n",
    " [0.2, 2, 19],\n",
    " [0.3, 3, 41],\n",
    " [0.4, 4, 76],\n",
    " [0.5, 5, 55],\n",
    " [0.6, 6, 43],\n",
    " [0.7, 7, 70],\n",
    " [0.8, 8, 81],\n",
    " [0.9, 9, 65]\n",
    "]\n",
    "\n",
    "col_one = get_col(matrix, 0)\n",
    "matrix  = set_col(matrix, col_one, 1)\n",
    "matrix  = set_col(matrix, col_one, 2)\n",
    "matrix"
   ]
  },
  {
   "cell_type": "code",
   "execution_count": 6,
   "metadata": {},
   "outputs": [
    {
     "data": {
      "text/plain": [
       "2"
      ]
     },
     "execution_count": 6,
     "metadata": {},
     "output_type": "execute_result"
    }
   ],
   "source": [
    "def add(x,y):\n",
    "    return x+y\n",
    "\n",
    "add(1,1)"
   ]
  },
  {
   "cell_type": "markdown",
   "metadata": {},
   "source": [
    "Now, let's create a module with a different add function which gives you a slightly different (and wrong!) result"
   ]
  },
  {
   "cell_type": "markdown",
   "metadata": {},
   "source": [
    "![](./img/lecture06/modules02.png)"
   ]
  },
  {
   "cell_type": "markdown",
   "metadata": {},
   "source": [
    "You can specify what function to be imported from the module"
   ]
  },
  {
   "cell_type": "code",
   "execution_count": 7,
   "metadata": {
    "scrolled": true
   },
   "outputs": [
    {
     "ename": "NameError",
     "evalue": "name 'subtract' is not defined",
     "output_type": "error",
     "traceback": [
      "\u001b[1;31m---------------------------------------------------------------------------\u001b[0m",
      "\u001b[1;31mNameError\u001b[0m                                 Traceback (most recent call last)",
      "\u001b[1;32m<ipython-input-7-7947eee44041>\u001b[0m in \u001b[0;36m<module>\u001b[1;34m\u001b[0m\n\u001b[0;32m      2\u001b[0m \u001b[1;32mfrom\u001b[0m \u001b[0mnumber_tools\u001b[0m \u001b[1;32mimport\u001b[0m \u001b[0madd\u001b[0m\u001b[1;33m\u001b[0m\u001b[1;33m\u001b[0m\u001b[0m\n\u001b[0;32m      3\u001b[0m \u001b[1;33m\u001b[0m\u001b[0m\n\u001b[1;32m----> 4\u001b[1;33m \u001b[0msubtract\u001b[0m\u001b[1;33m(\u001b[0m\u001b[1;36m1\u001b[0m\u001b[1;33m,\u001b[0m\u001b[1;36m1\u001b[0m\u001b[1;33m)\u001b[0m\u001b[1;33m\u001b[0m\u001b[1;33m\u001b[0m\u001b[0m\n\u001b[0m",
      "\u001b[1;31mNameError\u001b[0m: name 'subtract' is not defined"
     ]
    }
   ],
   "source": [
    "# subtract function was NOT importet \n",
    "from number_tools import add\n",
    "\n",
    "subtract(1,1)"
   ]
  },
  {
   "cell_type": "markdown",
   "metadata": {},
   "source": [
    "Using the import syntax makes the add function callable from the global namespace"
   ]
  },
  {
   "cell_type": "code",
   "execution_count": 8,
   "metadata": {},
   "outputs": [
    {
     "data": {
      "text/plain": [
       "3"
      ]
     },
     "execution_count": 8,
     "metadata": {},
     "output_type": "execute_result"
    }
   ],
   "source": [
    "from number_tools import add\n",
    "\n",
    "add(1,1)"
   ]
  },
  {
   "cell_type": "markdown",
   "metadata": {},
   "source": [
    "Beware to import modules with function name that already exists in your code (function overloading). \n",
    "To prevent that, you can create your own namespace for the imported modules:  \n",
    "To do that, use following syntax:"
   ]
  },
  {
   "cell_type": "code",
   "execution_count": 9,
   "metadata": {},
   "outputs": [
    {
     "name": "stdout",
     "output_type": "stream",
     "text": [
      "3\n",
      "3\n"
     ]
    }
   ],
   "source": [
    "import number_tools\n",
    "\n",
    "print(number_tools.add(1,1))\n",
    "print(add(1,1))"
   ]
  },
  {
   "cell_type": "code",
   "execution_count": 10,
   "metadata": {
    "scrolled": true
   },
   "outputs": [
    {
     "name": "stdout",
     "output_type": "stream",
     "text": [
      "Once deleted, variables cannot be recovered. Proceed (y/[n])? \n",
      "Nothing done.\n",
      "2\n",
      "3\n"
     ]
    }
   ],
   "source": [
    "%reset # resets the kernel\n",
    "def add(x,y):\n",
    "    return x+y\n",
    "\n",
    "import number_tools\n",
    "\n",
    "\n",
    "print(add(1,1))\n",
    "\n",
    "print(number_tools.add(1,1))"
   ]
  },
  {
   "cell_type": "code",
   "execution_count": 11,
   "metadata": {},
   "outputs": [
    {
     "data": {
      "text/plain": [
       "3"
      ]
     },
     "execution_count": 11,
     "metadata": {},
     "output_type": "execute_result"
    }
   ],
   "source": [
    "# you can also create your own name space identifier\n",
    "import number_tools as nt\n",
    "\n",
    "nt.add(1,1)"
   ]
  },
  {
   "cell_type": "code",
   "execution_count": 12,
   "metadata": {},
   "outputs": [
    {
     "name": "stdout",
     "output_type": "stream",
     "text": [
      "Once deleted, variables cannot be recovered. Proceed (y/[n])? \n",
      "Nothing done.\n",
      "2\n",
      "3\n"
     ]
    }
   ],
   "source": [
    "%reset\n",
    "def add(x,y):\n",
    "    return x+y\n",
    "\n",
    "from number_tools import add as add_error\n",
    "print(add(1,1))\n",
    "print(add_error(1,1))"
   ]
  },
  {
   "cell_type": "markdown",
   "metadata": {},
   "source": [
    "## Module search paths"
   ]
  },
  {
   "cell_type": "markdown",
   "metadata": {},
   "source": [
    "Now, we want to import a module from a subfolder:"
   ]
  },
  {
   "cell_type": "markdown",
   "metadata": {},
   "source": [
    "![](./img/lecture06/modules03.png)"
   ]
  },
  {
   "cell_type": "markdown",
   "metadata": {},
   "source": [
    "The module won't be imported, because the interpreter doesn't know **where to find** your modules"
   ]
  },
  {
   "cell_type": "code",
   "execution_count": 13,
   "metadata": {
    "scrolled": true
   },
   "outputs": [
    {
     "ename": "ModuleNotFoundError",
     "evalue": "No module named 'stupid_math'",
     "output_type": "error",
     "traceback": [
      "\u001b[1;31m---------------------------------------------------------------------------\u001b[0m",
      "\u001b[1;31mModuleNotFoundError\u001b[0m                       Traceback (most recent call last)",
      "\u001b[1;32m<ipython-input-13-657670785f5a>\u001b[0m in \u001b[0;36m<module>\u001b[1;34m\u001b[0m\n\u001b[1;32m----> 1\u001b[1;33m \u001b[1;32mimport\u001b[0m \u001b[0mstupid_math\u001b[0m\u001b[1;33m\u001b[0m\u001b[1;33m\u001b[0m\u001b[0m\n\u001b[0m",
      "\u001b[1;31mModuleNotFoundError\u001b[0m: No module named 'stupid_math'"
     ]
    }
   ],
   "source": [
    "import stupid_math"
   ]
  },
  {
   "cell_type": "code",
   "execution_count": 14,
   "metadata": {},
   "outputs": [
    {
     "ename": "SyntaxError",
     "evalue": "invalid syntax (<ipython-input-14-a631598d3265>, line 1)",
     "output_type": "error",
     "traceback": [
      "\u001b[1;36m  File \u001b[1;32m\"<ipython-input-14-a631598d3265>\"\u001b[1;36m, line \u001b[1;32m1\u001b[0m\n\u001b[1;33m    import modules/stupid_math/stupid_math\u001b[0m\n\u001b[1;37m                  ^\u001b[0m\n\u001b[1;31mSyntaxError\u001b[0m\u001b[1;31m:\u001b[0m invalid syntax\n"
     ]
    }
   ],
   "source": [
    "import modules/stupid_math/stupid_math"
   ]
  },
  {
   "cell_type": "markdown",
   "metadata": {},
   "source": [
    "Python stores an internal list of paths where it looks for modules. However, this list isn't in the global namespace when the compiler is started and thus, we cannot directly access it. In order to do so, we must import the sys module. The module path list can then be accessed by:"
   ]
  },
  {
   "cell_type": "code",
   "execution_count": null,
   "metadata": {
    "scrolled": true
   },
   "outputs": [],
   "source": [
    "import sys\n",
    "sys.path"
   ]
  },
  {
   "cell_type": "markdown",
   "metadata": {},
   "source": [
    "Now, you can add the folder location of your module:"
   ]
  },
  {
   "cell_type": "code",
   "execution_count": 15,
   "metadata": {},
   "outputs": [
    {
     "ename": "NameError",
     "evalue": "name 'sys' is not defined",
     "output_type": "error",
     "traceback": [
      "\u001b[1;31m---------------------------------------------------------------------------\u001b[0m",
      "\u001b[1;31mNameError\u001b[0m                                 Traceback (most recent call last)",
      "\u001b[1;32m<ipython-input-15-9cad417f8ea7>\u001b[0m in \u001b[0;36m<module>\u001b[1;34m\u001b[0m\n\u001b[1;32m----> 1\u001b[1;33m \u001b[0msys\u001b[0m\u001b[1;33m.\u001b[0m\u001b[0mpath\u001b[0m\u001b[1;33m.\u001b[0m\u001b[0mappend\u001b[0m\u001b[1;33m(\u001b[0m\u001b[1;34m'./modules/stupid_math'\u001b[0m\u001b[1;33m)\u001b[0m\u001b[1;33m\u001b[0m\u001b[1;33m\u001b[0m\u001b[0m\n\u001b[0m\u001b[0;32m      2\u001b[0m \u001b[0msys\u001b[0m\u001b[1;33m.\u001b[0m\u001b[0mpath\u001b[0m\u001b[1;33m\u001b[0m\u001b[1;33m\u001b[0m\u001b[0m\n",
      "\u001b[1;31mNameError\u001b[0m: name 'sys' is not defined"
     ]
    }
   ],
   "source": [
    "sys.path.append('./modules/stupid_math')\n",
    "sys.path"
   ]
  },
  {
   "cell_type": "markdown",
   "metadata": {},
   "source": [
    "The module is now importable:"
   ]
  },
  {
   "cell_type": "code",
   "execution_count": 16,
   "metadata": {},
   "outputs": [
    {
     "ename": "ModuleNotFoundError",
     "evalue": "No module named 'stupid_math'",
     "output_type": "error",
     "traceback": [
      "\u001b[1;31m---------------------------------------------------------------------------\u001b[0m",
      "\u001b[1;31mModuleNotFoundError\u001b[0m                       Traceback (most recent call last)",
      "\u001b[1;32m<ipython-input-16-40084f040b99>\u001b[0m in \u001b[0;36m<module>\u001b[1;34m\u001b[0m\n\u001b[1;32m----> 1\u001b[1;33m \u001b[1;32mimport\u001b[0m \u001b[0mstupid_math\u001b[0m\u001b[1;33m\u001b[0m\u001b[1;33m\u001b[0m\u001b[0m\n\u001b[0m\u001b[0;32m      2\u001b[0m \u001b[0mstupid_math\u001b[0m\u001b[1;33m.\u001b[0m\u001b[0mmultiply\u001b[0m\u001b[1;33m(\u001b[0m\u001b[1;36m4\u001b[0m\u001b[1;33m,\u001b[0m\u001b[1;36m4\u001b[0m\u001b[1;33m)\u001b[0m\u001b[1;33m\u001b[0m\u001b[1;33m\u001b[0m\u001b[0m\n",
      "\u001b[1;31mModuleNotFoundError\u001b[0m: No module named 'stupid_math'"
     ]
    }
   ],
   "source": [
    "import stupid_math\n",
    "stupid_math.multiply(4,4)"
   ]
  }
 ],
 "metadata": {
  "kernelspec": {
   "display_name": "Python 3",
   "language": "python",
   "name": "python3"
  },
  "language_info": {
   "codemirror_mode": {
    "name": "ipython",
    "version": 3
   },
   "file_extension": ".py",
   "mimetype": "text/x-python",
   "name": "python",
   "nbconvert_exporter": "python",
   "pygments_lexer": "ipython3",
   "version": "3.7.4"
  }
 },
 "nbformat": 4,
 "nbformat_minor": 2
}
