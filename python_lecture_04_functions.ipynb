{
 "cells": [
  {
   "cell_type": "markdown",
   "metadata": {},
   "source": [
    "# Programming with Python"
   ]
  },
  {
   "cell_type": "markdown",
   "metadata": {},
   "source": [
    "# 4 Functions\n",
    "\n",
    "Functions are subroutines that perform a sequence of code when they are called. A function is written outside the main program and called on necessity.  \n",
    "The main objective of a function is to keep your main code **clean** and to make code sequences **callabe** from any point of the code. Therefore, repetitive code sequences are avoided."
   ]
  },
  {
   "cell_type": "markdown",
   "metadata": {},
   "source": [
    "**Creating a function**  \n",
    "Every function starts with a keyword **def** followed by a space, a **function name**, **round brackets** and a **colon**.\n",
    "The round brackets **may** contain arguments (strings!) which are values that are passed to the function.  \n",
    "The end of function is expressed by a **return** statement."
   ]
  },
  {
   "cell_type": "markdown",
   "metadata": {},
   "source": [
    "![syntax for functions](img/lecture04/syntax_for_functions.png)"
   ]
  },
  {
   "cell_type": "markdown",
   "metadata": {},
   "source": [
    "The shortest (and probably most useless) function may look like this:"
   ]
  },
  {
   "cell_type": "code",
   "execution_count": 1,
   "metadata": {},
   "outputs": [],
   "source": [
    "def function_name():\n",
    "    return"
   ]
  },
  {
   "cell_type": "markdown",
   "metadata": {},
   "source": [
    "**Pass values**  \n",
    "Usually, functions work with values that need to be passed to the function. The passed values are called **arguments**."
   ]
  },
  {
   "cell_type": "code",
   "execution_count": 2,
   "metadata": {},
   "outputs": [],
   "source": [
    "def print_list_of_names(names):\n",
    "    for name in names:\n",
    "        print(name)\n",
    "    return"
   ]
  },
  {
   "cell_type": "markdown",
   "metadata": {},
   "source": [
    "**Return values**  \n",
    "Functions can return values for the further processing in the main programm.  \n",
    "The values to be returned are placed after the return statement."
   ]
  },
  {
   "cell_type": "code",
   "execution_count": 3,
   "metadata": {},
   "outputs": [],
   "source": [
    "# add function\n",
    "def add(x,y):\n",
    "    result = x + y\n",
    "    return result"
   ]
  },
  {
   "cell_type": "markdown",
   "metadata": {},
   "source": [
    "**Call a function**  \n",
    "A function is called by its name followed by round brackets with arguments if needed."
   ]
  },
  {
   "cell_type": "code",
   "execution_count": 4,
   "metadata": {},
   "outputs": [
    {
     "name": "stdout",
     "output_type": "stream",
     "text": [
      "the sum of 5 and 6 is 11\n"
     ]
    }
   ],
   "source": [
    "x = 5\n",
    "y = 6\n",
    "\n",
    "z = add(x,y) # The return value is assigned to the variable z\n",
    "\n",
    "print('the sum of', x, 'and', y, 'is', z)"
   ]
  },
  {
   "cell_type": "code",
   "execution_count": 5,
   "metadata": {},
   "outputs": [
    {
     "name": "stdout",
     "output_type": "stream",
     "text": [
      "the sum of [1, 5, 6, 19] is 31\n"
     ]
    }
   ],
   "source": [
    "# give the sum of a list of numbers\n",
    "def sum_of_list(list_of_numbers):\n",
    "    result = 0\n",
    "    for number in list_of_numbers:\n",
    "        result = result + number\n",
    "    return result\n",
    "\n",
    "some_numbers = [1,5,6,19]\n",
    "print('the sum of', some_numbers, 'is', sum_of_list(some_numbers))"
   ]
  },
  {
   "cell_type": "markdown",
   "metadata": {},
   "source": [
    "**Call functions within function**  \n",
    "It is possible to call a function within a function, e.g. to expand existing functionality. This way, old code can be recycled."
   ]
  },
  {
   "cell_type": "code",
   "execution_count": 6,
   "metadata": {
    "scrolled": true
   },
   "outputs": [
    {
     "name": "stdout",
     "output_type": "stream",
     "text": [
      "the sum of [1, 2, 6, 19] is 28\n"
     ]
    }
   ],
   "source": [
    "def sum_of_list2(list_of_numbers):\n",
    "    result = 0\n",
    "    for number in list_of_numbers:\n",
    "        result = add(result, number)\n",
    "    return result\n",
    "\n",
    "some_numbers = [1,2,6,19]\n",
    "print('the sum of', some_numbers, 'is', sum_of_list2(some_numbers))"
   ]
  },
  {
   "cell_type": "markdown",
   "metadata": {},
   "source": [
    "### Excursion to  <span style=\"color:blue\">augmented  operators</span> "
   ]
  },
  {
   "cell_type": "markdown",
   "metadata": {},
   "source": [
    "Some **arithmetic operators**:\n",
    "<table border=\"1\">\n",
    "\t<caption>Arithmetic operators in Python</caption>\n",
    "\t<tbody>\n",
    "\t\t<tr>\n",
    "\t\t\t<th>Operator</th>\n",
    "\t\t\t<th>Meaning</th>\n",
    "\t\t\t<th>Example</th>\n",
    "\t\t</tr>\n",
    "\t\t<tr>\n",
    "\t\t\t<td>+</td>\n",
    "\t\t\t<td>Add two operands or unary plus</td>\n",
    "\t\t\t<td>x + y<br />\n",
    "\t\t\t\t</td>\n",
    "\t\t</tr>\n",
    "\t\t<tr>\n",
    "\t\t\t<td>-</td>\n",
    "\t\t\t<td>Subtract right operand from the left or unary minus</td>\n",
    "\t\t\t<td>x - y<br />\n",
    "\t\t\t\t</td>\n",
    "\t\t</tr>\n",
    "\t\t<tr>\n",
    "\t\t\t<td>*</td>\n",
    "\t\t\t<td>Multiply two operands</td>\n",
    "\t\t\t<td>x * y</td>\n",
    "\t\t</tr>\n",
    "\t\t<tr>\n",
    "\t\t\t<td>/</td>\n",
    "\t\t\t<td>Divide left operand by the right one (always results into float)</td>\n",
    "\t\t\t<td>x / y</td>\n",
    "\t\t</tr>\n",
    "\t\t<tr>\n",
    "\t\t\t<td>%</td>\n",
    "\t\t\t<td>Modulus - remainder of the division of left operand by the right</td>\n",
    "\t\t\t<td>x % y (remainder of x/y)</td>\n",
    "\t\t</tr>\n",
    "\t\t<tr>\n",
    "\t\t\t<td>//</td>\n",
    "\t\t\t<td>Floor division - division that results into whole number adjusted to the left in the number line</td>\n",
    "\t\t\t<td>x // y</td>\n",
    "\t\t</tr>\n",
    "\t\t<tr>\n",
    "\t\t\t<td>**</td>\n",
    "\t\t\t<td>Exponent - left operand raised to the power of right</td>\n",
    "\t\t\t<td>x**y (x to the power y)</td>\n",
    "\t\t</tr>\n",
    "\t</tbody>\n",
    "</table>"
   ]
  },
  {
   "cell_type": "markdown",
   "metadata": {},
   "source": [
    "In **boolean operators** or comparison operators: <br>\n",
    "<table border=\"1\">\n",
    "\t<caption>Comparision operators in Python</caption>\n",
    "\t<tbody>\n",
    "\t\t<tr>\n",
    "\t\t\t<th>Operator</th>\n",
    "\t\t\t<th>Meaning</th>\n",
    "\t\t\t<th>Example</th>\n",
    "\t\t</tr>\n",
    "\t\t<tr>\n",
    "\t\t\t<td>&gt;</td>\n",
    "\t\t\t<td>Greater that - True if left operand is greater than the right</td>\n",
    "\t\t\t<td>x &gt; y</td>\n",
    "\t\t</tr>\n",
    "\t\t<tr>\n",
    "\t\t\t<td>&lt;</td>\n",
    "\t\t\t<td>Less that - True if left operand is less than the right</td>\n",
    "\t\t\t<td>x &lt; y</td>\n",
    "\t\t</tr>\n",
    "\t\t<tr>\n",
    "\t\t\t<td>==</td>\n",
    "\t\t\t<td>Equal to - True if both operands are equal</td>\n",
    "\t\t\t<td>x == y</td>\n",
    "\t\t</tr>\n",
    "\t\t<tr>\n",
    "\t\t\t<td>!=</td>\n",
    "\t\t\t<td>Not equal to - True if operands are not equal</td>\n",
    "\t\t\t<td>x != y</td>\n",
    "\t\t</tr>\n",
    "\t\t<tr>\n",
    "\t\t\t<td>&gt;=</td>\n",
    "\t\t\t<td>Greater than or equal to - True if left operand is greater than or equal to the right</td>\n",
    "\t\t\t<td>x &gt;= y</td>\n",
    "\t\t</tr>\n",
    "\t\t<tr>\n",
    "\t\t\t<td>&lt;=</td>\n",
    "\t\t\t<td>Less than or equal to - True if left operand is less than or equal to the right</td>\n",
    "\t\t\t<td>x &lt;= y</td>\n",
    "\t\t</tr>\n",
    "\t</tbody>\n",
    "</table>"
   ]
  },
  {
   "cell_type": "markdown",
   "metadata": {},
   "source": [
    "Some **assignment operators** operators: <br>\n",
    "<table border=\"1\">\n",
    "\t<caption>Assignment operators in Python</caption>\n",
    "\t<tbody>\n",
    "\t\t<tr>\n",
    "\t\t\t<th>Operator</th>\n",
    "\t\t\t<th>Example</th>\n",
    "\t\t\t<th>Equivatent to</th>\n",
    "\t\t</tr>\n",
    "\t\t<tr>\n",
    "\t\t\t<td>=</td>\n",
    "\t\t\t<td>x = 5</td>\n",
    "\t\t\t<td>x = 5</td>\n",
    "\t\t</tr>\n",
    "\t\t<tr>\n",
    "\t\t\t<td>+=</td>\n",
    "\t\t\t<td>x += 5</td>\n",
    "\t\t\t<td>x = x + 5</td>\n",
    "\t\t</tr>\n",
    "\t\t<tr>\n",
    "\t\t\t<td>-=</td>\n",
    "\t\t\t<td>x -= 5</td>\n",
    "\t\t\t<td>x = x - 5</td>\n",
    "\t\t</tr>\n",
    "\t\t<tr>\n",
    "\t\t\t<td>*=</td>\n",
    "\t\t\t<td>x *= 5</td>\n",
    "\t\t\t<td>x = x * 5</td>\n",
    "\t\t</tr>\n",
    "\t\t<tr>\n",
    "\t\t\t<td>/=</td>\n",
    "\t\t\t<td>x /= 5</td>\n",
    "\t\t\t<td>x = x / 5</td>\n",
    "\t\t</tr>\n",
    "\t\t<tr>\n",
    "\t\t\t<td>%=</td>\n",
    "\t\t\t<td>x %= 5</td>\n",
    "\t\t\t<td>x = x % 5</td>\n",
    "\t\t</tr>\n",
    "\t\t<tr>\n",
    "\t\t\t<td>//=</td>\n",
    "\t\t\t<td>x //= 5</td>\n",
    "\t\t\t<td>x = x // 5</td>\n",
    "\t\t</tr>\n",
    "\t\t<tr>\n",
    "\t\t\t<td>**=</td>\n",
    "\t\t\t<td>x **= 5</td>\n",
    "\t\t\t<td>x = x ** 5</td>\n",
    "\t\t</tr>\n",
    "\t\t</tr>\n",
    "\t</tbody>\n",
    "</table>\n"
   ]
  },
  {
   "cell_type": "markdown",
   "metadata": {},
   "source": [
    "Some **logical operators**:\n",
    "<table border=\"1\">\n",
    "\t<caption>Logical operators in Python</caption>\n",
    "\t<tbody>\n",
    "\t\t<tr>\n",
    "\t\t\t<th>Operator</th>\n",
    "\t\t\t<th>Meaning</th>\n",
    "\t\t\t<th>Example</th>\n",
    "\t\t</tr>\n",
    "\t\t<tr>\n",
    "\t\t\t<td>and</td>\n",
    "\t\t\t<td>True if both the operands are true</td>\n",
    "\t\t\t<td>x and y</td>\n",
    "\t\t</tr>\n",
    "\t\t<tr>\n",
    "\t\t\t<td>or</td>\n",
    "\t\t\t<td>True if either of the operands is true</td>\n",
    "\t\t\t<td>x or y</td>\n",
    "\t\t</tr>\n",
    "\t\t<tr>\n",
    "\t\t\t<td>not</td>\n",
    "\t\t\t<td>True if operand is false (complements the operand)</td>\n",
    "\t\t\t<td>not x</td>\n",
    "\t\t</tr>\n",
    "\t</tbody>\n",
    "</table>"
   ]
  },
  {
   "cell_type": "markdown",
   "metadata": {},
   "source": [
    "### Back to  functions"
   ]
  },
  {
   "cell_type": "code",
   "execution_count": 7,
   "metadata": {},
   "outputs": [
    {
     "name": "stdout",
     "output_type": "stream",
     "text": [
      "the arithmetic mean of [1, 2, 6, 19, 5.0, 17.4] is 8.4\n"
     ]
    }
   ],
   "source": [
    "# get the arithmetic mean of a list of numbers\n",
    "def arithmetic_mean(list_of_numbers):\n",
    "    result = 0\n",
    "    for number in list_of_numbers:\n",
    "        result += number # += is a abbreviation for result = result + number\n",
    "    result /= len(list_of_numbers) # the abbreviation works for division--> /=, plus --> +=, minus --> -=, divide --> /=\n",
    "    return result\n",
    "\n",
    "some_numbers = [1,2,6,19, 5.0, 17.4]\n",
    "print('the arithmetic mean of', some_numbers, 'is', arithmetic_mean(some_numbers))"
   ]
  },
  {
   "cell_type": "code",
   "execution_count": 8,
   "metadata": {
    "scrolled": true
   },
   "outputs": [
    {
     "name": "stdout",
     "output_type": "stream",
     "text": [
      "the meadian of [1, 2, 6, 19] is 12.5\n",
      "the meadian of [1, 2, 6, 19, 35] is 19\n"
     ]
    }
   ],
   "source": [
    "# get the median of a list of numbers\n",
    "def median(list_of_numbers):\n",
    "    sorted_list = sorted(list_of_numbers)\n",
    "    if len(sorted_list)%2 == 0: # even number of list elements\n",
    "        i = int(len(sorted_list)/2)\n",
    "        j = int(len(sorted_list)/2+1)\n",
    "        median = (sorted_list[i]+sorted_list[j])/2\n",
    "    else: # odd number of list elements\n",
    "        i = int(len(sorted_list)/2 + 0.5)\n",
    "        median = sorted_list[i]\n",
    "    return median\n",
    "\n",
    "some_numbers = [1,2,6,19]\n",
    "some_numbers2 = [1,2,6,19,35]\n",
    "\n",
    "print('the meadian of', some_numbers, 'is', median(some_numbers))\n",
    "print('the meadian of', some_numbers2, 'is', median(some_numbers2))"
   ]
  },
  {
   "cell_type": "code",
   "execution_count": 9,
   "metadata": {
    "scrolled": false
   },
   "outputs": [
    {
     "name": "stdout",
     "output_type": "stream",
     "text": [
      "the crossfoot of 12883 is 22\n"
     ]
    }
   ],
   "source": [
    "# get the crossfoot of a number\n",
    "def crossfoot(number):\n",
    "    \"\"\"The function give the sum of the single digits of an integer number\"\"\"\n",
    "    list_of_char = list(str(number)) # list(str) converts a string into a list of characters containing one character per list element\n",
    "    result = 0\n",
    "    for element in list_of_char:\n",
    "        result += int(element)\n",
    "    return result\n",
    "\n",
    "some_number = 12883\n",
    "crfoot = crossfoot(some_number)\n",
    "print('the crossfoot of', some_number, 'is', crfoot)"
   ]
  },
  {
   "cell_type": "code",
   "execution_count": 10,
   "metadata": {},
   "outputs": [
    {
     "name": "stdout",
     "output_type": "stream",
     "text": [
      "the crossfoot of 1288 is 19\n"
     ]
    }
   ],
   "source": [
    "# crossfoot as one-liner using list comprehension\n",
    "some_number = 1288\n",
    "\n",
    "crfoot = sum([int(s) for s in list(str(some_number))])\n",
    "\n",
    "print('the crossfoot of', some_number, 'is', crfoot)"
   ]
  },
  {
   "cell_type": "code",
   "execution_count": 11,
   "metadata": {
    "scrolled": true
   },
   "outputs": [
    {
     "name": "stdout",
     "output_type": "stream",
     "text": [
      "22\n"
     ]
    }
   ],
   "source": [
    "# you can assign the return value of a function to variable\n",
    "some_number = crossfoot(12883)\n",
    "print(some_number)"
   ]
  },
  {
   "cell_type": "markdown",
   "metadata": {},
   "source": [
    "**Return multiple values**"
   ]
  },
  {
   "cell_type": "markdown",
   "metadata": {},
   "source": [
    "Seperate the return values with a comma for **multiple return values**"
   ]
  },
  {
   "cell_type": "code",
   "execution_count": 12,
   "metadata": {},
   "outputs": [
    {
     "name": "stdout",
     "output_type": "stream",
     "text": [
      "the crossfoot of 12546845 is 35 and has 8 digits\n"
     ]
    }
   ],
   "source": [
    "# get the crossfoot and the length of a number\n",
    "def crossfoot_and_digits(number):\n",
    "    \"\"\"The function give the sum of the single digits as well as \n",
    "    the number digits\"\"\"\n",
    "    crfoot = 0\n",
    "    digits = 0\n",
    "    crfoot = crossfoot(number)  # the crossfoot function is recycled here\n",
    "    digits = len(str(number))\n",
    "    return crfoot, digits\n",
    "\n",
    "\n",
    "some_number = 12546845\n",
    "crfoot, digits = crossfoot_and_digits(some_number)\n",
    "print('the crossfoot of', some_number, 'is', crfoot, 'and has', digits, 'digits')"
   ]
  },
  {
   "cell_type": "code",
   "execution_count": 13,
   "metadata": {
    "scrolled": true
   },
   "outputs": [
    {
     "name": "stdout",
     "output_type": "stream",
     "text": [
      "the crossfoot of 12546845 is 40 and has 11 digits\n"
     ]
    }
   ],
   "source": [
    "x = 23656225234\n",
    "a, b = crossfoot_and_digits(x)\n",
    "print('the crossfoot of', some_number, 'is', a, 'and has', b, 'digits')\n"
   ]
  }
 ],
 "metadata": {
  "kernelspec": {
   "display_name": "Python 3",
   "language": "python",
   "name": "python3"
  },
  "language_info": {
   "codemirror_mode": {
    "name": "ipython",
    "version": 3
   },
   "file_extension": ".py",
   "mimetype": "text/x-python",
   "name": "python",
   "nbconvert_exporter": "python",
   "pygments_lexer": "ipython3",
   "version": "3.7.3"
  }
 },
 "nbformat": 4,
 "nbformat_minor": 2
}
