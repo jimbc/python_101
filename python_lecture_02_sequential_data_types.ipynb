{
 "cells": [
  {
   "cell_type": "markdown",
   "metadata": {},
   "source": [
    "# Programming with Python"
   ]
  },
  {
   "cell_type": "markdown",
   "metadata": {},
   "source": [
    "# 2 Sequential data types\n",
    "Sequential data types are **compound data types**, i.e. they are used to group other values together. *Lists* and *Dictionaries* are the two most important data structures in python."
   ]
  },
  {
   "cell_type": "markdown",
   "metadata": {},
   "source": [
    "## 2.1 Lists\n",
    "**Lists are like strings**: they are **ordered sequences** of objects.<br />\n",
    "List literals are sequences of comma-separated values that are enclose in *square* brackets*:"
   ]
  },
  {
   "cell_type": "code",
   "execution_count": 1,
   "metadata": {
    "scrolled": true
   },
   "outputs": [
    {
     "name": "stdout",
     "output_type": "stream",
     "text": [
      "['M', 'o', 'n', 't', 'y']\n"
     ]
    }
   ],
   "source": [
    "# create a list of word characters and print it:\n",
    "my_list = [ 'M', 'o', 'n', 't', 'y']\n",
    "print(my_list)"
   ]
  },
  {
   "cell_type": "markdown",
   "metadata": {},
   "source": [
    "**Lists are like strings**: an element is accessed by referencing its index:"
   ]
  },
  {
   "cell_type": "code",
   "execution_count": 2,
   "metadata": {
    "scrolled": false
   },
   "outputs": [
    {
     "name": "stdout",
     "output_type": "stream",
     "text": [
      "M\n"
     ]
    }
   ],
   "source": [
    "first_letter = my_list[0]\n",
    "print(first_letter)"
   ]
  },
  {
   "cell_type": "markdown",
   "metadata": {},
   "source": [
    "Like strings, lists can also reference **ranges**, exactly the same rules apply:"
   ]
  },
  {
   "cell_type": "code",
   "execution_count": 3,
   "metadata": {},
   "outputs": [
    {
     "data": {
      "text/plain": [
       "['M', 'o', 'n']"
      ]
     },
     "execution_count": 3,
     "metadata": {},
     "output_type": "execute_result"
    }
   ],
   "source": [
    "my_list[0:3]"
   ]
  },
  {
   "cell_type": "code",
   "execution_count": 4,
   "metadata": {},
   "outputs": [
    {
     "data": {
      "text/plain": [
       "['n', 't', 'y']"
      ]
     },
     "execution_count": 4,
     "metadata": {},
     "output_type": "execute_result"
    }
   ],
   "source": [
    "my_list[2:]"
   ]
  },
  {
   "cell_type": "markdown",
   "metadata": {},
   "source": [
    "**Lists are unlike strings**: while strings are immutable, **lists are mutable**:"
   ]
  },
  {
   "cell_type": "code",
   "execution_count": 5,
   "metadata": {},
   "outputs": [
    {
     "ename": "TypeError",
     "evalue": "'str' object does not support item assignment",
     "output_type": "error",
     "traceback": [
      "\u001b[0;31m---------------------------------------------------------------------------\u001b[0m",
      "\u001b[0;31mTypeError\u001b[0m                                 Traceback (most recent call last)",
      "\u001b[0;32m<ipython-input-5-885917591556>\u001b[0m in \u001b[0;36m<module>\u001b[0;34m\u001b[0m\n\u001b[1;32m      1\u001b[0m \u001b[0;31m# this does not work with strings, because they are immutable:\u001b[0m\u001b[0;34m\u001b[0m\u001b[0;34m\u001b[0m\u001b[0;34m\u001b[0m\u001b[0m\n\u001b[1;32m      2\u001b[0m \u001b[0mmy_string\u001b[0m \u001b[0;34m=\u001b[0m \u001b[0;34m'Monty'\u001b[0m\u001b[0;34m\u001b[0m\u001b[0;34m\u001b[0m\u001b[0m\n\u001b[0;32m----> 3\u001b[0;31m \u001b[0mmy_string\u001b[0m\u001b[0;34m[\u001b[0m\u001b[0;36m0\u001b[0m\u001b[0;34m]\u001b[0m \u001b[0;34m=\u001b[0m \u001b[0;34m'm'\u001b[0m\u001b[0;34m\u001b[0m\u001b[0;34m\u001b[0m\u001b[0m\n\u001b[0m\u001b[1;32m      4\u001b[0m \u001b[0mprint\u001b[0m\u001b[0;34m(\u001b[0m\u001b[0mmy_string\u001b[0m\u001b[0;34m)\u001b[0m\u001b[0;34m\u001b[0m\u001b[0;34m\u001b[0m\u001b[0m\n",
      "\u001b[0;31mTypeError\u001b[0m: 'str' object does not support item assignment"
     ]
    }
   ],
   "source": [
    "# this does not work with strings, because they are immutable:\n",
    "my_string = 'Monty'\n",
    "my_string[0] = 'm'\n",
    "print(my_string)"
   ]
  },
  {
   "cell_type": "code",
   "execution_count": null,
   "metadata": {
    "scrolled": true
   },
   "outputs": [],
   "source": [
    "# because lists are mutable, this works\n",
    "my_list = [ 'M', 'o', 'n', 't', 'y']\n",
    "my_list[0] = 'X'\n",
    "print(my_list)"
   ]
  },
  {
   "cell_type": "code",
   "execution_count": 6,
   "metadata": {},
   "outputs": [
    {
     "data": {
      "text/plain": [
       "['M', 'o', 'x', 'x', 'y']"
      ]
     },
     "execution_count": 6,
     "metadata": {},
     "output_type": "execute_result"
    }
   ],
   "source": [
    "# re-assign multiple, consecutive values with ranges\n",
    "my_list = [ 'M', 'o', 'n', 't', 'y']\n",
    "my_list[2:4] = ['x', 'x'] \n",
    "my_list"
   ]
  },
  {
   "cell_type": "code",
   "execution_count": 7,
   "metadata": {
    "scrolled": false
   },
   "outputs": [
    {
     "data": {
      "text/plain": [
       "['M', 'o', 'y']"
      ]
     },
     "execution_count": 7,
     "metadata": {},
     "output_type": "execute_result"
    }
   ],
   "source": [
    "# values can be deleted by assigning empty squares brackets to them\n",
    "my_list[2:4] = [] \n",
    "my_list"
   ]
  },
  {
   "cell_type": "code",
   "execution_count": 8,
   "metadata": {
    "scrolled": false
   },
   "outputs": [
    {
     "data": {
      "text/plain": [
       "[]"
      ]
     },
     "execution_count": 8,
     "metadata": {},
     "output_type": "execute_result"
    }
   ],
   "source": [
    "# clearing a list\n",
    "my_list[:] = [] \n",
    "my_list"
   ]
  },
  {
   "cell_type": "markdown",
   "metadata": {},
   "source": [
    "New elements can be **inserted into a list** using the *insert* method:"
   ]
  },
  {
   "cell_type": "code",
   "execution_count": 9,
   "metadata": {},
   "outputs": [
    {
     "data": {
      "text/plain": [
       "['M', 'o', 'n', 'h', 't', 'y']"
      ]
     },
     "execution_count": 9,
     "metadata": {},
     "output_type": "execute_result"
    }
   ],
   "source": [
    "my_list = [ 'M', 'o', 'n', 't', 'y']\n",
    "my_list.insert(3, 'h')\n",
    "my_list"
   ]
  },
  {
   "cell_type": "markdown",
   "metadata": {},
   "source": [
    "In contrast to modification by re-assignment, the original element at the specified index does not get deleted. Instead, the current element at the specified index and all following elements get shifted up by one index position. The new element is then placed on the now empty index position."
   ]
  },
  {
   "cell_type": "markdown",
   "metadata": {},
   "source": [
    "However, adding a new item to the *end of a list* with -1 as index does not work:"
   ]
  },
  {
   "cell_type": "code",
   "execution_count": 10,
   "metadata": {},
   "outputs": [
    {
     "data": {
      "text/plain": [
       "['M', 'o', 'n', 't', 'XYZ', 'y']"
      ]
     },
     "execution_count": 10,
     "metadata": {},
     "output_type": "execute_result"
    }
   ],
   "source": [
    "my_list = [ 'M', 'o', 'n', 't', 'y']\n",
    "my_list.insert(-1, 'XYZ')\n",
    "my_list"
   ]
  },
  {
   "cell_type": "markdown",
   "metadata": {},
   "source": [
    "New elements can be added to the *end of a list* using the **append method**:"
   ]
  },
  {
   "cell_type": "code",
   "execution_count": 11,
   "metadata": {},
   "outputs": [
    {
     "name": "stdout",
     "output_type": "stream",
     "text": [
      "['a', 'b', 'c', 'e', 'f']\n"
     ]
    }
   ],
   "source": [
    "# creates a list of characters (size 1-strings):\n",
    "letters = ['a','b','c','e','f'] \n",
    "print(letters)"
   ]
  },
  {
   "cell_type": "code",
   "execution_count": 12,
   "metadata": {
    "scrolled": true
   },
   "outputs": [
    {
     "name": "stdout",
     "output_type": "stream",
     "text": [
      "['a', 'b', 'c', 'e', 'f', 'K']\n"
     ]
    }
   ],
   "source": [
    "# and add a new item at the end of the list:\n",
    "letters.append('K') \n",
    "print(letters)"
   ]
  },
  {
   "cell_type": "markdown",
   "metadata": {},
   "source": [
    "**Lists are unlike strings**: while strings get copied when assigning them to a new variable, lists get aliased:"
   ]
  },
  {
   "cell_type": "code",
   "execution_count": 13,
   "metadata": {},
   "outputs": [
    {
     "name": "stdout",
     "output_type": "stream",
     "text": [
      "a = ['H', 'e', 'l', 'l', 'o']\n",
      "b = ['H', 'e', 'l', 'l', 'o']\n"
     ]
    }
   ],
   "source": [
    "# create a new list named a\n",
    "a = ['H', 'e', 'l', 'l', 'o']\n",
    "# reassign my_list to a new identifier\n",
    "b = a\n",
    "# and print them both\n",
    "print('a =', a)\n",
    "print('b =', b)"
   ]
  },
  {
   "cell_type": "code",
   "execution_count": 14,
   "metadata": {},
   "outputs": [
    {
     "name": "stdout",
     "output_type": "stream",
     "text": [
      "a = ['x', 'e', 'l', 'l', 'o']\n",
      "b = ['x', 'e', 'l', 'l', 'o']\n"
     ]
    }
   ],
   "source": [
    "# now change the first letter of a ...\n",
    "a[0] = 'x'\n",
    "# ... and print both lists again\n",
    "print('a =', a)\n",
    "print('b =', b)"
   ]
  },
  {
   "cell_type": "markdown",
   "metadata": {},
   "source": [
    "Since a and b yield the same result, both identifiers must point to the same in-memory object!<br />\n",
    "Therefore, the statement *b = a* has not copied *a* and assigned the newly created copy to *b* but has created a second reference from *b* to the same object that *a* was already referencing."
   ]
  },
  {
   "cell_type": "markdown",
   "metadata": {},
   "source": [
    "**Lists are unlike strings**: while strings can only store characters, **lists can store any type of object**:"
   ]
  },
  {
   "cell_type": "code",
   "execution_count": 15,
   "metadata": {},
   "outputs": [
    {
     "name": "stdout",
     "output_type": "stream",
     "text": [
      "[0, -2, 3, 1]\n"
     ]
    }
   ],
   "source": [
    "# create a list of integers and print it\n",
    "my_list = [0,-2, 3, 1]\n",
    "print(my_list)"
   ]
  },
  {
   "cell_type": "markdown",
   "metadata": {},
   "source": [
    "While list *frequently* store only objects of one type, i.e. number-only or character-only lists, basically **they may store mixed data types**:"
   ]
  },
  {
   "cell_type": "code",
   "execution_count": 16,
   "metadata": {},
   "outputs": [
    {
     "name": "stdout",
     "output_type": "stream",
     "text": [
      "[0, -2, 3, 'a']\n"
     ]
    }
   ],
   "source": [
    "# lists can take mixed types of elements,\n",
    "# e.g. you can mix strings and numbers:\n",
    "my_list = [0,-2,3,'a']\n",
    "print(my_list)"
   ]
  },
  {
   "cell_type": "markdown",
   "metadata": {},
   "source": [
    "If you do not just want to delete the last element, but also get the deleted element as a return value, use the **pop method** instead:"
   ]
  },
  {
   "cell_type": "code",
   "execution_count": 17,
   "metadata": {},
   "outputs": [
    {
     "name": "stdout",
     "output_type": "stream",
     "text": [
      "K\n"
     ]
    }
   ],
   "source": [
    "letters = ['a', 'b', 'c', 'e', 'f', 'K']\n",
    "last_letter = letters.pop()\n",
    "print(last_letter)"
   ]
  },
  {
   "cell_type": "markdown",
   "metadata": {},
   "source": [
    "Using **append** and **pop**, lists can be used as **stacks**. Stacks are ordered lists that obey the **last in/first out**-principle. New elements get attached to the end of a stack and if an element is to be removed, the last added element gets removed first:"
   ]
  },
  {
   "cell_type": "code",
   "execution_count": 18,
   "metadata": {},
   "outputs": [
    {
     "name": "stdout",
     "output_type": "stream",
     "text": [
      "initial:  [0, 1, 2, 3]\n",
      "after adding two elements: [0, 1, 2, 3, 4, 5]\n"
     ]
    }
   ],
   "source": [
    "# define a list called 'stack'\n",
    "stack = [0,1,2,3]\n",
    "print('initial: ', stack)\n",
    "# now, add a new element by appending it\n",
    "stack.append(4)\n",
    "# add another to the stack\n",
    "stack.append(5)\n",
    "print('after adding two elements:', stack)"
   ]
  },
  {
   "cell_type": "code",
   "execution_count": 19,
   "metadata": {
    "scrolled": true
   },
   "outputs": [
    {
     "name": "stdout",
     "output_type": "stream",
     "text": [
      "retrieved = 5\n",
      "stack after retrieval = [0, 1, 2, 3, 4]\n"
     ]
    }
   ],
   "source": [
    "# Now, retrieve an element.\n",
    "# Because we want to emulate a stack,\n",
    "# we use the pop method to get the element that was added to the stack last:\n",
    "retrieved = stack.pop()\n",
    "print('retrieved =', retrieved)\n",
    "print('stack after retrieval =', stack)"
   ]
  },
  {
   "cell_type": "markdown",
   "metadata": {},
   "source": [
    "So far, we used the pop method without argument. In this case, it always removes (and yields) the last element of a list. If we provide pop with an index, the specified element is removed and yielded:"
   ]
  },
  {
   "cell_type": "code",
   "execution_count": 20,
   "metadata": {},
   "outputs": [
    {
     "name": "stdout",
     "output_type": "stream",
     "text": [
      "c\n"
     ]
    }
   ],
   "source": [
    "letters = ['a', 'b', 'c', 'e', 'f']\n",
    "third_letter = letters.pop(2)\n",
    "print(third_letter)"
   ]
  },
  {
   "cell_type": "markdown",
   "metadata": {},
   "source": [
    "As you can see, 'c' has actually been removed from the letters list:"
   ]
  },
  {
   "cell_type": "code",
   "execution_count": 21,
   "metadata": {
    "scrolled": false
   },
   "outputs": [
    {
     "name": "stdout",
     "output_type": "stream",
     "text": [
      "['a', 'b', 'e', 'f']\n"
     ]
    }
   ],
   "source": [
    "print(letters)"
   ]
  },
  {
   "cell_type": "markdown",
   "metadata": {},
   "source": [
    "Especially, we can use *list.pop(0)* to remove and yield the first element of a list:"
   ]
  },
  {
   "cell_type": "code",
   "execution_count": 22,
   "metadata": {},
   "outputs": [
    {
     "name": "stdout",
     "output_type": "stream",
     "text": [
      "first_letter = a\n",
      "letters after pop(0) = ['b', 'c', 'e', 'f']\n"
     ]
    }
   ],
   "source": [
    "letters = ['a', 'b', 'c', 'e', 'f']\n",
    "first_letter = letters.pop(0)\n",
    "print('first_letter =', first_letter)\n",
    "print('letters after pop(0) =', letters)"
   ]
  },
  {
   "cell_type": "markdown",
   "metadata": {},
   "source": [
    "Using append and pop(0), lists can be used as **queues**. **Queues** are ordered lists that obey the **first in/first out**-principle. New elements get attached to the end of a queue but if an element is to be removed, the earliest added element gets removed first:"
   ]
  },
  {
   "cell_type": "code",
   "execution_count": 23,
   "metadata": {},
   "outputs": [
    {
     "name": "stdout",
     "output_type": "stream",
     "text": [
      "initial:  [0, 1, 2, 3]\n",
      "after adding two elements: [0, 1, 2, 3, 4, 5]\n"
     ]
    }
   ],
   "source": [
    "# define a list called 'queue'\n",
    "queue = [0,1,2,3]\n",
    "print('initial: ', queue)\n",
    "# now, add a new element by appending it\n",
    "queue.append(4)\n",
    "# add another to the stack\n",
    "queue.append(5)\n",
    "print('after adding two elements:', queue)"
   ]
  },
  {
   "cell_type": "code",
   "execution_count": 24,
   "metadata": {},
   "outputs": [
    {
     "name": "stdout",
     "output_type": "stream",
     "text": [
      "retrieved = 0\n",
      "queue after retrieval = [1, 2, 3, 4, 5]\n"
     ]
    }
   ],
   "source": [
    "# Now, retrieve an element.\n",
    "# Because we want to emulate a queue,\n",
    "# we use the pop(0) method to get the element that was added to the stack first:\n",
    "retrieved = queue.pop(0)\n",
    "print('retrieved =', retrieved)\n",
    "print('queue after retrieval =', queue)"
   ]
  },
  {
   "cell_type": "markdown",
   "metadata": {},
   "source": [
    "It is possible to create **nested lists**:"
   ]
  },
  {
   "cell_type": "code",
   "execution_count": 25,
   "metadata": {},
   "outputs": [
    {
     "data": {
      "text/plain": [
       "[[1, 2, 3, 4, 5], [0.17, 0.18, 0.15, 0.16, 0.17]]"
      ]
     },
     "execution_count": 25,
     "metadata": {},
     "output_type": "execute_result"
    }
   ],
   "source": [
    "time = [1, 2, 3, 4, 5]\n",
    "cofs = [0.17, 0.18, 0.15, 0.16, 0.17]\n",
    "data = [time, cofs]\n",
    "data"
   ]
  },
  {
   "cell_type": "markdown",
   "metadata": {},
   "source": [
    "We can access the individual columns of our *data* list by referencing their indices:"
   ]
  },
  {
   "cell_type": "code",
   "execution_count": 26,
   "metadata": {},
   "outputs": [
    {
     "name": "stdout",
     "output_type": "stream",
     "text": [
      "[1, 2, 3, 4, 5]\n"
     ]
    }
   ],
   "source": [
    "# get time col\n",
    "t = data[0]\n",
    "print(t)"
   ]
  },
  {
   "cell_type": "markdown",
   "metadata": {},
   "source": [
    "It is easy to get the cof at 4 seconds like this:"
   ]
  },
  {
   "cell_type": "code",
   "execution_count": 27,
   "metadata": {
    "scrolled": false
   },
   "outputs": [
    {
     "name": "stdout",
     "output_type": "stream",
     "text": [
      "j = 3\n",
      "cof = 0.16\n"
     ]
    }
   ],
   "source": [
    "# get index of element 4 by using the index method\n",
    "j = data[0].index(4)\n",
    "print('j =', j)\n",
    "# now, get the cof at index j from col 2 (index i=1)\n",
    "cof = data[1][j]\n",
    "print('cof =', cof)"
   ]
  },
  {
   "cell_type": "markdown",
   "metadata": {},
   "source": [
    "Lists can be **concatenated** by using the **plus operator**:"
   ]
  },
  {
   "cell_type": "code",
   "execution_count": 28,
   "metadata": {},
   "outputs": [
    {
     "data": {
      "text/plain": [
       "[0, -2, 3, 'a', 98, 99, 100]"
      ]
     },
     "execution_count": 28,
     "metadata": {},
     "output_type": "execute_result"
    }
   ],
   "source": [
    "a = [0,-2,3,'a']\n",
    "b = [98, 99, 100]\n",
    "a + b"
   ]
  },
  {
   "cell_type": "code",
   "execution_count": 29,
   "metadata": {},
   "outputs": [
    {
     "name": "stdout",
     "output_type": "stream",
     "text": [
      "[0, -2, 3, 'a']\n"
     ]
    }
   ],
   "source": [
    "# however, in memory, a still is the same!\n",
    "print(a)"
   ]
  },
  {
   "cell_type": "code",
   "execution_count": 30,
   "metadata": {
    "scrolled": false
   },
   "outputs": [
    {
     "name": "stdout",
     "output_type": "stream",
     "text": [
      "[0, -2, 3, 'a', 98, 99, 100]\n"
     ]
    }
   ],
   "source": [
    "# change a by reassigning the result of the + operation\n",
    "a = a + b\n",
    "# now list a has been changed in memory\n",
    "print(a)"
   ]
  },
  {
   "cell_type": "markdown",
   "metadata": {},
   "source": [
    "**some useful functions for numbers-only lists** (integers, floats)"
   ]
  },
  {
   "cell_type": "code",
   "execution_count": 31,
   "metadata": {},
   "outputs": [
    {
     "data": {
      "text/plain": [
       "4"
      ]
     },
     "execution_count": 31,
     "metadata": {},
     "output_type": "execute_result"
    }
   ],
   "source": [
    "# get the number of objects in your list by using the built-in function len()\n",
    "numbers = [0,2.0,4,-3]\n",
    "len(numbers)"
   ]
  },
  {
   "cell_type": "code",
   "execution_count": 32,
   "metadata": {},
   "outputs": [
    {
     "data": {
      "text/plain": [
       "3.0"
      ]
     },
     "execution_count": 32,
     "metadata": {},
     "output_type": "execute_result"
    }
   ],
   "source": [
    "# get the sum of all list elements\n",
    "sum(numbers)"
   ]
  },
  {
   "cell_type": "code",
   "execution_count": 33,
   "metadata": {},
   "outputs": [
    {
     "data": {
      "text/plain": [
       "4"
      ]
     },
     "execution_count": 33,
     "metadata": {},
     "output_type": "execute_result"
    }
   ],
   "source": [
    "# get the highest value\n",
    "max(numbers)"
   ]
  },
  {
   "cell_type": "code",
   "execution_count": 34,
   "metadata": {},
   "outputs": [
    {
     "data": {
      "text/plain": [
       "-3"
      ]
     },
     "execution_count": 34,
     "metadata": {},
     "output_type": "execute_result"
    }
   ],
   "source": [
    "# get the lowest value\n",
    "min(numbers)"
   ]
  },
  {
   "cell_type": "code",
   "execution_count": 35,
   "metadata": {},
   "outputs": [
    {
     "data": {
      "text/plain": [
       "[-3, 0, 2.0, 4]"
      ]
     },
     "execution_count": 35,
     "metadata": {},
     "output_type": "execute_result"
    }
   ],
   "source": [
    "# sort list by ascending values\n",
    "sorted(numbers)"
   ]
  },
  {
   "cell_type": "markdown",
   "metadata": {},
   "source": [
    "# 2.2 Tuples"
   ]
  },
  {
   "cell_type": "markdown",
   "metadata": {},
   "source": [
    "A tuple is a data structure very similar to the list data structure. The main difference being that tuple manipulation are faster than list because tuples are **immutable**."
   ]
  },
  {
   "cell_type": "markdown",
   "metadata": {},
   "source": [
    "To create a tuple, place values within **round** brackets:"
   ]
  },
  {
   "cell_type": "code",
   "execution_count": 36,
   "metadata": {
    "scrolled": true
   },
   "outputs": [
    {
     "name": "stdout",
     "output_type": "stream",
     "text": [
      "(1, 2, 3)\n"
     ]
    }
   ],
   "source": [
    "t = (1,2,3)\n",
    "print(t)"
   ]
  },
  {
   "cell_type": "markdown",
   "metadata": {},
   "source": [
    "It is also possible to create a tuple without parentheses, by using commas:"
   ]
  },
  {
   "cell_type": "code",
   "execution_count": 37,
   "metadata": {},
   "outputs": [
    {
     "name": "stdout",
     "output_type": "stream",
     "text": [
      "(4, 5, 6)\n"
     ]
    }
   ],
   "source": [
    "t2 = 4,5,6\n",
    "print(t2)"
   ]
  },
  {
   "cell_type": "markdown",
   "metadata": {},
   "source": [
    "If you want to create a tuple with a single element, you must use the comma:"
   ]
  },
  {
   "cell_type": "code",
   "execution_count": 38,
   "metadata": {},
   "outputs": [
    {
     "name": "stdout",
     "output_type": "stream",
     "text": [
      "(1,)\n"
     ]
    }
   ],
   "source": [
    "single = (1, )\n",
    "print(single)"
   ]
  },
  {
   "cell_type": "markdown",
   "metadata": {},
   "source": [
    "You can repeat a tuples by multiplying a tuple by a number:"
   ]
  },
  {
   "cell_type": "code",
   "execution_count": 39,
   "metadata": {
    "scrolled": true
   },
   "outputs": [
    {
     "name": "stdout",
     "output_type": "stream",
     "text": [
      "(1, 1, 1, 1, 1, 1, 1, 1)\n"
     ]
    }
   ],
   "source": [
    "t3 = single * 8\n",
    "print(t3)"
   ]
  },
  {
   "cell_type": "markdown",
   "metadata": {},
   "source": [
    "Access tuple is identical to lists:"
   ]
  },
  {
   "cell_type": "code",
   "execution_count": 40,
   "metadata": {},
   "outputs": [
    {
     "name": "stdout",
     "output_type": "stream",
     "text": [
      "2\n"
     ]
    }
   ],
   "source": [
    "print(t[1])"
   ]
  },
  {
   "cell_type": "markdown",
   "metadata": {},
   "source": [
    "# 2.3 Dictionaries"
   ]
  },
  {
   "cell_type": "markdown",
   "metadata": {},
   "source": [
    "A dictionary is a sequence of items. Each item is a pair made of a **key** and a **value**. Dictionaries are __not sorted__. You can access to the list of keys or values independently."
   ]
  },
  {
   "cell_type": "code",
   "execution_count": 41,
   "metadata": {
    "scrolled": true
   },
   "outputs": [
    {
     "name": "stdout",
     "output_type": "stream",
     "text": [
      "{'brand': 'Porsche', 'model': 'Cayenne', 'price': 76690}\n"
     ]
    }
   ],
   "source": [
    "car = {'brand' : 'Porsche', 'model' : 'Cayenne', 'price': 76_690}\n",
    "print(car)"
   ]
  },
  {
   "cell_type": "markdown",
   "metadata": {},
   "source": [
    "How to display all keys and values:"
   ]
  },
  {
   "cell_type": "code",
   "execution_count": 42,
   "metadata": {
    "scrolled": true
   },
   "outputs": [
    {
     "name": "stdout",
     "output_type": "stream",
     "text": [
      "dict_keys(['brand', 'model', 'price'])\n"
     ]
    }
   ],
   "source": [
    "print(car.keys())"
   ]
  },
  {
   "cell_type": "code",
   "execution_count": 43,
   "metadata": {},
   "outputs": [
    {
     "name": "stdout",
     "output_type": "stream",
     "text": [
      "dict_values(['Porsche', 'Cayenne', 76690])\n"
     ]
    }
   ],
   "source": [
    "print(car.values())"
   ]
  },
  {
   "cell_type": "code",
   "execution_count": 44,
   "metadata": {},
   "outputs": [
    {
     "name": "stdout",
     "output_type": "stream",
     "text": [
      "dict_items([('brand', 'Porsche'), ('model', 'Cayenne'), ('price', 76690)])\n"
     ]
    }
   ],
   "source": [
    "print(car.items())"
   ]
  },
  {
   "cell_type": "markdown",
   "metadata": {},
   "source": [
    "How to access values trough keys:"
   ]
  },
  {
   "cell_type": "code",
   "execution_count": 45,
   "metadata": {
    "scrolled": true
   },
   "outputs": [
    {
     "name": "stdout",
     "output_type": "stream",
     "text": [
      "Porsche\n"
     ]
    }
   ],
   "source": [
    "print(car[\"brand\"])"
   ]
  },
  {
   "cell_type": "markdown",
   "metadata": {},
   "source": [
    "combining dictionaries:"
   ]
  },
  {
   "cell_type": "code",
   "execution_count": 46,
   "metadata": {},
   "outputs": [],
   "source": [
    "color = {'color': 'black'}"
   ]
  },
  {
   "cell_type": "code",
   "execution_count": 47,
   "metadata": {},
   "outputs": [
    {
     "name": "stdout",
     "output_type": "stream",
     "text": [
      "{'brand': 'Porsche', 'model': 'Cayenne', 'price': 76690, 'color': 'black'}\n"
     ]
    }
   ],
   "source": [
    "car.update(color)\n",
    "print(car)"
   ]
  },
  {
   "cell_type": "markdown",
   "metadata": {},
   "source": [
    "__zip function__"
   ]
  },
  {
   "cell_type": "markdown",
   "metadata": {},
   "source": [
    "The zip function can be used to create a dictionary from list:"
   ]
  },
  {
   "cell_type": "code",
   "execution_count": 48,
   "metadata": {
    "scrolled": true
   },
   "outputs": [
    {
     "name": "stdout",
     "output_type": "stream",
     "text": [
      "Keys: ['brand', 'model', 'price']\n",
      "Values: ['Porsche', 'Cayenne', 76690]\n",
      "Dict: {'brand': 'Porsche', 'model': 'Cayenne', 'price': 76690}\n"
     ]
    }
   ],
   "source": [
    "keys = ['brand', 'model', 'price']\n",
    "values = ['Porsche', 'Cayenne', 76_690]\n",
    "print('Keys:', keys)\n",
    "print('Values:', values)\n",
    "print('Dict:', dict(zip(keys, values)))"
   ]
  },
  {
   "cell_type": "code",
   "execution_count": 1,
   "metadata": {},
   "outputs": [
    {
     "name": "stdout",
     "output_type": "stream",
     "text": [
      "Keys: ['brand', 'model', 'price', 'test']\n",
      "Values: [[1, 2, 3, 4], [4, 5, 6], [6, 78, 9]]\n",
      "Dict: {'brand': [1, 2, 3, 4], 'model': [4, 5, 6], 'price': [6, 78, 9]}\n"
     ]
    }
   ],
   "source": [
    "# values can be nested lists as well\n",
    "keys = ['brand', 'model', 'price', 'test']\n",
    "values = [[1,2,3,4], [4,5,6], [6,78,9]]\n",
    "print('Keys:', keys)\n",
    "print('Values:', values)\n",
    "print('Dict:', dict(zip(keys, values)))"
   ]
  },
  {
   "cell_type": "code",
   "execution_count": 50,
   "metadata": {},
   "outputs": [
    {
     "name": "stdout",
     "output_type": "stream",
     "text": [
      "[('brand', [1, 2, 3, 4]), ('model', [4, 5, 6]), ('price', [6, 78, 9])]\n"
     ]
    }
   ],
   "source": [
    "# It also works for lists\n",
    "print(list(zip(keys, values)))"
   ]
  },
  {
   "cell_type": "markdown",
   "metadata": {},
   "source": [
    "# 2.4 Sets"
   ]
  },
  {
   "cell_type": "markdown",
   "metadata": {},
   "source": [
    "Sets are constructed from a sequence (or some other iterable object). Sets have **no duplicates**, there are usually used to build sequence of unique items (e.g., set of identifiers)."
   ]
  },
  {
   "cell_type": "code",
   "execution_count": 51,
   "metadata": {},
   "outputs": [
    {
     "name": "stdout",
     "output_type": "stream",
     "text": [
      "a: {1, 2, 3, 4, 5, 6}\n",
      "b: {4, 5, 6, 7, 8, 9}\n"
     ]
    }
   ],
   "source": [
    "a = set([1, 2, 3, 4, 5, 6])\n",
    "b = set([4, 5, 6, 7, 8, 9])\n",
    "print('a:', a)\n",
    "print('b:', b)"
   ]
  },
  {
   "cell_type": "code",
   "execution_count": 52,
   "metadata": {},
   "outputs": [
    {
     "data": {
      "text/plain": [
       "{1, 2, 3, 4, 5, 6, 7, 8, 9}"
      ]
     },
     "execution_count": 52,
     "metadata": {},
     "output_type": "execute_result"
    }
   ],
   "source": [
    "# Union\n",
    "a | b"
   ]
  },
  {
   "cell_type": "code",
   "execution_count": 53,
   "metadata": {},
   "outputs": [
    {
     "data": {
      "text/plain": [
       "{4, 5, 6}"
      ]
     },
     "execution_count": 53,
     "metadata": {},
     "output_type": "execute_result"
    }
   ],
   "source": [
    "# Intersection\n",
    "a & b"
   ]
  },
  {
   "cell_type": "code",
   "execution_count": 54,
   "metadata": {},
   "outputs": [
    {
     "data": {
      "text/plain": [
       "False"
      ]
     },
     "execution_count": 54,
     "metadata": {},
     "output_type": "execute_result"
    }
   ],
   "source": [
    "# Subset\n",
    "a < b"
   ]
  },
  {
   "cell_type": "code",
   "execution_count": 55,
   "metadata": {},
   "outputs": [
    {
     "data": {
      "text/plain": [
       "{1, 2, 3}"
      ]
     },
     "execution_count": 55,
     "metadata": {},
     "output_type": "execute_result"
    }
   ],
   "source": [
    "# Difference\n",
    "a - b"
   ]
  },
  {
   "cell_type": "code",
   "execution_count": 56,
   "metadata": {},
   "outputs": [
    {
     "data": {
      "text/plain": [
       "{1, 2, 3, 7, 8, 9}"
      ]
     },
     "execution_count": 56,
     "metadata": {},
     "output_type": "execute_result"
    }
   ],
   "source": [
    "# Symmetric difference\n",
    "a ^ b"
   ]
  },
  {
   "cell_type": "markdown",
   "metadata": {},
   "source": [
    "Sets are __mutable__:"
   ]
  },
  {
   "cell_type": "code",
   "execution_count": 57,
   "metadata": {},
   "outputs": [
    {
     "name": "stdout",
     "output_type": "stream",
     "text": [
      "{1, 2, 3, 4, 5, 6, 'new_value'}\n"
     ]
    }
   ],
   "source": [
    "a.add('new_value')\n",
    "print(a)"
   ]
  },
  {
   "cell_type": "markdown",
   "metadata": {},
   "source": [
    "# 2.5 Frozensets"
   ]
  },
  {
   "cell_type": "markdown",
   "metadata": {},
   "source": [
    "Frozensets are like sets, but immutable, i.e. values cannot be changed or added."
   ]
  },
  {
   "cell_type": "code",
   "execution_count": 58,
   "metadata": {
    "scrolled": true
   },
   "outputs": [
    {
     "name": "stdout",
     "output_type": "stream",
     "text": [
      "normalset: {1, 2, 3, 4, 5}\n",
      "frozenset: frozenset({1, 2, 3, 4, 5})\n"
     ]
    }
   ],
   "source": [
    "some_numbers = (1,2,3,4,5)\n",
    "normalset = set(some_numbers)\n",
    "frozen_set = frozenset(some_numbers)\n",
    "print(\"normalset:\", normalset)\n",
    "print(\"frozenset:\", frozen_set)"
   ]
  },
  {
   "cell_type": "code",
   "execution_count": 59,
   "metadata": {},
   "outputs": [
    {
     "name": "stdout",
     "output_type": "stream",
     "text": [
      "{1, 2, 3, 4, 5, 42}\n"
     ]
    }
   ],
   "source": [
    "new_value = 42\n",
    "normalset.add(new_value)\n",
    "print(normalset)"
   ]
  },
  {
   "cell_type": "code",
   "execution_count": 60,
   "metadata": {},
   "outputs": [
    {
     "ename": "AttributeError",
     "evalue": "type object 'frozenset' has no attribute 'add'",
     "output_type": "error",
     "traceback": [
      "\u001b[0;31m---------------------------------------------------------------------------\u001b[0m",
      "\u001b[0;31mAttributeError\u001b[0m                            Traceback (most recent call last)",
      "\u001b[0;32m<ipython-input-60-13d8f6988ebd>\u001b[0m in \u001b[0;36m<module>\u001b[0;34m\u001b[0m\n\u001b[0;32m----> 1\u001b[0;31m \u001b[0mfrozenset\u001b[0m\u001b[0;34m.\u001b[0m\u001b[0madd\u001b[0m\u001b[0;34m(\u001b[0m\u001b[0mnew_value\u001b[0m\u001b[0;34m)\u001b[0m\u001b[0;34m\u001b[0m\u001b[0;34m\u001b[0m\u001b[0m\n\u001b[0m\u001b[1;32m      2\u001b[0m \u001b[0mprint\u001b[0m\u001b[0;34m(\u001b[0m\u001b[0mfrozen_set\u001b[0m\u001b[0;34m)\u001b[0m\u001b[0;34m\u001b[0m\u001b[0;34m\u001b[0m\u001b[0m\n",
      "\u001b[0;31mAttributeError\u001b[0m: type object 'frozenset' has no attribute 'add'"
     ]
    }
   ],
   "source": [
    "frozenset.add(new_value)\n",
    "print(frozen_set)"
   ]
  },
  {
   "cell_type": "markdown",
   "metadata": {},
   "source": [
    "# 2.6 Typecast von sequential data types"
   ]
  },
  {
   "cell_type": "code",
   "execution_count": 61,
   "metadata": {},
   "outputs": [
    {
     "name": "stdout",
     "output_type": "stream",
     "text": [
      "(1, 2, 3) of <class 'tuple'> is cast into [1, 2, 3] of <class 'list'>\n"
     ]
    }
   ],
   "source": [
    "some_tuple = (1,2,3)\n",
    "print(some_tuple,'of',type(some_tuple), \"is cast into\", list(some_tuple),'of',type(list(some_tuple)))"
   ]
  },
  {
   "cell_type": "code",
   "execution_count": 62,
   "metadata": {},
   "outputs": [
    {
     "name": "stdout",
     "output_type": "stream",
     "text": [
      "[('x', 5), ('Y', 10)] of <class 'list'> is cast into {'x': 5, 'Y': 10} of <class 'dict'>\n"
     ]
    }
   ],
   "source": [
    "some_tuple = [('x', 5), ('Y', 10)]\n",
    "print(some_tuple,'of',type(some_tuple), \"is cast into\", dict(some_tuple),'of',type(dict(some_tuple)))\n",
    "#= dict([('x', 5), ('y', -5)])\n",
    "#print('numbers1 =',numbers1)"
   ]
  },
  {
   "cell_type": "markdown",
   "metadata": {},
   "source": [
    "# 2.7 Summary"
   ]
  },
  {
   "cell_type": "markdown",
   "metadata": {},
   "source": [
    "| Type       |  delimiter  | mutable | sorted |\n",
    "|------------|:-----------:|:-------:|:------:|\n",
    "| list       |      [ ]     |   yes   |   yes  |\n",
    "| tuple      |      ( )     |    no   |   yes  |\n",
    "| dictionary |      { }     |   yes   |   no   |\n",
    "| set        |    set( )    |   yes   |   no   |\n",
    "| frozenset  | frozenset( ) |    no   |   no   |"
   ]
  }
 ],
 "metadata": {
  "kernelspec": {
   "display_name": "Python 3",
   "language": "python",
   "name": "python3"
  },
  "language_info": {
   "codemirror_mode": {
    "name": "ipython",
    "version": 3
   },
   "file_extension": ".py",
   "mimetype": "text/x-python",
   "name": "python",
   "nbconvert_exporter": "python",
   "pygments_lexer": "ipython3",
   "version": "3.7.3"
  }
 },
 "nbformat": 4,
 "nbformat_minor": 2
}
