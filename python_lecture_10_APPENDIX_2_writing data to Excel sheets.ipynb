{
 "cells": [
  {
   "cell_type": "markdown",
   "metadata": {},
   "source": [
    "# Appendix: Writing data to Excel sheets"
   ]
  },
  {
   "cell_type": "markdown",
   "metadata": {},
   "source": [
    "Writing Excel sheets requires the **xlsxwriter module** that comes with the Anaconda package:"
   ]
  },
  {
   "cell_type": "code",
   "execution_count": 1,
   "metadata": {},
   "outputs": [],
   "source": [
    "import xlsxwriter"
   ]
  },
  {
   "cell_type": "code",
   "execution_count": 42,
   "metadata": {
    "scrolled": false
   },
   "outputs": [],
   "source": [
    "# assume that you have gathered the following data,\n",
    "# e.g. by batch evaluating data files on your hdd:\n",
    "\n",
    "col_names = [\n",
    "  'Material name',\n",
    "  'Tensile strength [MPa]',\n",
    "  'Youngs modulus [MPa]',\n",
    "  'Elongation at break [%]',    \n",
    "]\n",
    "\n",
    "data = [\n",
    "  [ 'PEEK 450FC30',  123.2, 12250.1, 1.75 ],\n",
    "  [ 'Ensinger PVX',  100.7, 10174.8, 2.09 ],\n",
    "  [ 'Ultraform AX',   89.1,  8546.2, 4.56 ],\n",
    "  [ 'Evonik F4000',  133.0, 13629.6, 1.98 ],\n",
    "  [ 'Luvocom XCF30', 176.3, 18357.8, 2.13 ],\n",
    "]\n",
    "\n",
    "# writing them to an Excel sheet is as easy as follows\n",
    "\n",
    "# create a workbook...\n",
    "workbook  = xlsxwriter.Workbook('./img/lecture10/tensile_test_results_01.xlsx')\n",
    "\n",
    "# ...  and add a worksheet\n",
    "# the first argument is the new worksheet's name:\n",
    "worksheet = workbook.add_worksheet('Data')\n",
    "\n",
    "# rows and columns are denominated by zero indexed integers.\n",
    "# e.g. A1 = 0,0 and G7 = 6,6\n",
    "\n",
    "# write the column names into the first row (index 0)\n",
    "col = 0\n",
    "for name in col_names:\n",
    "    worksheet.write(0, col, name)\n",
    "    col += 1\n",
    "\n",
    "# iterate over the data and write it out row by row.\n",
    "row = 1\n",
    "for line in data:\n",
    "    for col in range(len(line)):\n",
    "        worksheet.write(row, col, line[col])\n",
    "    row += 1\n",
    "\n",
    "### add bar graphs \n",
    "\n",
    "# create bar new chart of type 'bar'\n",
    "strength_chart = workbook.add_chart({'type': 'column'})\n",
    "\n",
    "# add chart title and axis labels\n",
    "strength_chart.set_title({ 'name': 'Measured tensile strengths of selected materials'})\n",
    "strength_chart.set_x_axis({'name': 'Material name'})\n",
    "strength_chart.set_y_axis({'name': 'Tensile strength [MPa]'})\n",
    "\n",
    "# add data to chart\n",
    "strength_chart.add_series({\n",
    "    'values':     '=Data!$B$2:$B$'+str(len(data)+1),\n",
    "    'categories': '=Data!$A$2:$A$'+str(len(data)+1),\n",
    "})\n",
    "\n",
    "# unset legend\n",
    "strength_chart.set_legend({'none': True})\n",
    "\n",
    "# create chartsheet for storing the chart\n",
    "chartsheet_1 = workbook.add_chartsheet('strengths plot')\n",
    "\n",
    "# insert chart into chartsheet\n",
    "chartsheet_1.set_chart(strength_chart)\n",
    "\n",
    "# add bar graphs for Young's modulus and elongation at break\n",
    "# ...\n",
    "\n",
    "# close workbook\n",
    "workbook.close()"
   ]
  },
  {
   "cell_type": "markdown",
   "metadata": {},
   "source": [
    "Here is how our table and our barchart look like:"
   ]
  },
  {
   "cell_type": "markdown",
   "metadata": {},
   "source": [
    "![](./img/lecture10/xlsx_table_01.png)  \n",
    "![](./img/lecture10/xlsx_chart_01.png)"
   ]
  },
  {
   "cell_type": "markdown",
   "metadata": {},
   "source": [
    "Let's modify the data container structure to also contain errors  \n",
    "and modify our xlsx writing program to mind the new data structure:"
   ]
  },
  {
   "cell_type": "code",
   "execution_count": 43,
   "metadata": {},
   "outputs": [],
   "source": [
    "col_names = [\n",
    "  'Material name',\n",
    "  'Tensile strength [MPa]',\n",
    "  'Youngs modulus [MPa]',\n",
    "  'Elongation at break [%]',    \n",
    "]\n",
    "\n",
    "data = [\n",
    "  [ 'PEEK 450FC30', \n",
    "     [ 123.2,     6.7 ], # tensile strength, tensile strength error\n",
    "     [ 12250.1, 280.1 ], # Young's modulus, Young's modulus error\n",
    "     [ 1.75,     0.06 ], # elongation at break, ... error\n",
    "  ],\n",
    "  [ 'Ensinger PVX',\n",
    "     [ 100.7,     3.1 ],\n",
    "     [ 10174.8, 357.0 ],\n",
    "     [ 2.09,     0.14 ],\n",
    "  ],\n",
    "  [ 'Ultraform AX', \n",
    "     [ 89.1,     6.8 ],\n",
    "     [ 8546.2, 287.1 ],\n",
    "     [ 4.56,     0.7 ],\n",
    "  ],\n",
    "  [ 'Evonik F4000',\n",
    "     [ 133.0,     6.2 ],\n",
    "     [ 13629.6, 241.8 ],\n",
    "     [ 1.98,     0.09 ],\n",
    "  ],\n",
    "  [ 'Luvocom XCF30',\n",
    "     [ 176.3,    10.7 ],\n",
    "     [ 18357.8, 987.6 ],\n",
    "     [ 1.98,     0.57 ],\n",
    "  ],\n",
    "]\n",
    "\n",
    "# create a workbook...\n",
    "workbook  = xlsxwriter.Workbook('./img/lecture10/tensile_test_results_02.xlsx')\n",
    "\n",
    "# ...  and add a worksheet\n",
    "# the first argument is the new worksheet's name:\n",
    "worksheet = workbook.add_worksheet('Data')\n",
    "\n",
    "# write the column names into the first row (index 0)\n",
    "worksheet.write(0, 0, col_names.pop(0))\n",
    "col = 1\n",
    "for name in col_names:\n",
    "    #worksheet.write(0, col, name)\n",
    "    worksheet.merge_range(0, col, 0, col+2, name)\n",
    "    col += 3\n",
    "\n",
    "# reset row index\n",
    "# and iterate over the data and write col 1\n",
    "row = 1\n",
    "for line in data:\n",
    "    worksheet.write(row, 0, line.pop(0))\n",
    "    row += 1\n",
    "\n",
    "row = 1\n",
    "for line in data:\n",
    "    col = 1\n",
    "    for value, error in line:\n",
    "        worksheet.write(row, col+0, value)\n",
    "        worksheet.write(row, col+1, '+/-')\n",
    "        worksheet.write(row, col+2, error)\n",
    "        col += 3\n",
    "    row += 1\n",
    "    \n",
    "### add bar graphs \n",
    "\n",
    "# create bar new chart of type 'bar'\n",
    "strength_chart = workbook.add_chart({'type': 'column'})\n",
    "\n",
    "# add chart title and axis labels\n",
    "strength_chart.set_title({ 'name': 'Measured tensile strengths of selected materials'})\n",
    "strength_chart.set_x_axis({'name': 'Material name'})\n",
    "strength_chart.set_y_axis({'name': 'Tensile strength [MPa]'})\n",
    "\n",
    "# add data to chart\n",
    "strength_chart.add_series({\n",
    "    'values':     '=Data!$B$2:$B$'+str(len(data)+1),\n",
    "    'categories': '=Data!$A$2:$A$'+str(len(data)+1),\n",
    "    'y_error_bars': {\n",
    "        'type':         'custom',\n",
    "        'plus_values':  '=Data!$D$2:$D$'+str(len(data)+1),\n",
    "        'minus_values': '=Data!$D$2:$D$'+str(len(data)+1),\n",
    "    },\n",
    "    'data_labels': {\n",
    "        'value': True,\n",
    "        'position': 'inside_base',\n",
    "        'font': { 'color': 'white' },\n",
    "        'num_format': '#,###.'\n",
    "    },\n",
    "})\n",
    "\n",
    "# unset legend\n",
    "strength_chart.set_legend({'none': True})\n",
    "\n",
    "# create chartsheet for storing the chart\n",
    "chartsheet_1 = workbook.add_chartsheet('strengths plot')\n",
    "\n",
    "# insert chart into chartsheet\n",
    "chartsheet_1.set_chart(strength_chart)\n",
    "\n",
    "# add bar graphs for Young's modulus and elongation at break\n",
    "# ...\n",
    "\n",
    "# close workbook\n",
    "workbook.close()"
   ]
  },
  {
   "cell_type": "markdown",
   "metadata": {},
   "source": [
    "Here is how our table and our barchart look like (after some minor manual formatting):"
   ]
  },
  {
   "cell_type": "markdown",
   "metadata": {},
   "source": [
    "![](./img/lecture10/xlsx_table_02.png)  \n",
    "![](./img/lecture10/xlsx_chart_02.png)"
   ]
  },
  {
   "cell_type": "markdown",
   "metadata": {},
   "source": [
    "**Note**  \n",
    "XlsxWriter can **only create new files**.  \n",
    "It **cannot read or modify existing files**.  \n",
    "Therefore, input data should be generated on the fly, e.g. by batch processing a directory tree."
   ]
  },
  {
   "cell_type": "markdown",
   "metadata": {},
   "source": [
    "**Further reading**  \n",
    "Find out all about creating Excel charts at [https://xlsxwriter.readthedocs.io](https://xlsxwriter.readthedocs.io)"
   ]
  }
 ],
 "metadata": {
  "kernelspec": {
   "display_name": "Python 3",
   "language": "python",
   "name": "python3"
  },
  "language_info": {
   "codemirror_mode": {
    "name": "ipython",
    "version": 3
   },
   "file_extension": ".py",
   "mimetype": "text/x-python",
   "name": "python",
   "nbconvert_exporter": "python",
   "pygments_lexer": "ipython3",
   "version": "3.5.2"
  }
 },
 "nbformat": 4,
 "nbformat_minor": 2
}
